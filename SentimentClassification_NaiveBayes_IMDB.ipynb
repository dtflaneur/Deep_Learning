{
  "nbformat": 4,
  "nbformat_minor": 0,
  "metadata": {
    "colab": {
      "name": "SentimentClassification_NaiveBayes_IMDB.ipynb",
      "version": "0.3.2",
      "provenance": [],
      "include_colab_link": true
    },
    "kernelspec": {
      "display_name": "Python 3",
      "language": "python",
      "name": "python3"
    }
  },
  "cells": [
    {
      "cell_type": "markdown",
      "metadata": {
        "id": "view-in-github",
        "colab_type": "text"
      },
      "source": [
        "[View in Colaboratory](https://colab.research.google.com/github/dtflaneur/Deep_Learning_Case_Studies/blob/master/SentimentClassification_NaiveBayes_IMDB.ipynb)"
      ]
    },
    {
      "metadata": {
        "id": "nMeNRiqTr0jH",
        "colab_type": "text"
      },
      "cell_type": "markdown",
      "source": [
        "## Sentiment Analysis of IMDB Reviews using Naive Bayes\n",
        "\n",
        "This is a much larger and more complicated dataset as compared with the Rotten Tomatoes dataset"
      ]
    },
    {
      "metadata": {
        "id": "OmwCO-p9r0jJ",
        "colab_type": "text"
      },
      "cell_type": "markdown",
      "source": [
        "#### Some imports to make code compatible with Python 2 as well as 3"
      ]
    },
    {
      "metadata": {
        "id": "Exc_GqAmr0jK",
        "colab_type": "code",
        "colab": {}
      },
      "cell_type": "code",
      "source": [
        "from __future__ import absolute_import\n",
        "from __future__ import division\n",
        "from __future__ import print_function"
      ],
      "execution_count": 0,
      "outputs": []
    },
    {
      "metadata": {
        "id": "eB80irpvr0jN",
        "colab_type": "code",
        "colab": {}
      },
      "cell_type": "code",
      "source": [
        "import os\n",
        "import re\n",
        "import tarfile"
      ],
      "execution_count": 0,
      "outputs": []
    },
    {
      "metadata": {
        "id": "HRZboIl1r0jQ",
        "colab_type": "code",
        "colab": {}
      },
      "cell_type": "code",
      "source": [
        "from six.moves import urllib"
      ],
      "execution_count": 0,
      "outputs": []
    },
    {
      "metadata": {
        "id": "fcKhyifrr0jR",
        "colab_type": "text"
      },
      "cell_type": "markdown",
      "source": [
        "#### Import nltk, the Natural Language Processing Toolkit\n",
        "\n",
        "This is one of the most popular packages for natural language processing on text data. It has APIs to access a large corpus of documents and other lexical resources"
      ]
    },
    {
      "metadata": {
        "id": "TBEA2ME2r0jS",
        "colab_type": "code",
        "colab": {}
      },
      "cell_type": "code",
      "source": [
        "import numpy as np\n",
        "import nltk"
      ],
      "execution_count": 0,
      "outputs": []
    },
    {
      "metadata": {
        "id": "ngV5n41Ur0jU",
        "colab_type": "code",
        "colab": {
          "base_uri": "https://localhost:8080/",
          "height": 51
        },
        "outputId": "8cd0e164-a5c9-450d-8e6c-c90c98663305"
      },
      "cell_type": "code",
      "source": [
        "print(np.__version__)\n",
        "print(nltk.__version__)"
      ],
      "execution_count": 5,
      "outputs": [
        {
          "output_type": "stream",
          "text": [
            "1.14.6\n",
            "3.2.5\n"
          ],
          "name": "stdout"
        }
      ]
    },
    {
      "metadata": {
        "id": "XyqnfOUCr0jY",
        "colab_type": "text"
      },
      "cell_type": "markdown",
      "source": [
        "#### Automate the download, unzip and untar of the reviews dataset\n",
        "\n",
        "The tarred and gzipped file is stored in the same directory as the code"
      ]
    },
    {
      "metadata": {
        "id": "SYO1Z9qWr0jZ",
        "colab_type": "code",
        "colab": {}
      },
      "cell_type": "code",
      "source": [
        "DOWNLOADED_FILENAME = 'ImdbReviews.tar.gz'\n",
        "\n",
        "def download_file(url_path):\n",
        "    if not os.path.exists(DOWNLOADED_FILENAME):\n",
        "        filename, _ = urllib.request.urlretrieve(url_path, DOWNLOADED_FILENAME)\n",
        "\n",
        "    print('Found and verified file from this path: ', url_path)\n",
        "    print('Downloaded file: ', DOWNLOADED_FILENAME)"
      ],
      "execution_count": 0,
      "outputs": []
    },
    {
      "metadata": {
        "id": "WNNQbHAfr0jb",
        "colab_type": "text"
      },
      "cell_type": "markdown",
      "source": [
        "#### Clean up the reviews by removing special characters"
      ]
    },
    {
      "metadata": {
        "id": "IzhLK43hr0jc",
        "colab_type": "code",
        "colab": {}
      },
      "cell_type": "code",
      "source": [
        "TOKEN_REGEX = re.compile(\"[^A-Za-z0-9 ]+\")\n",
        "\n",
        "\n",
        "def get_reviews(dirname, positive=True):\n",
        "    label = 1 if positive else 0\n",
        "\n",
        "    reviews = []\n",
        "    for filename in os.listdir(dirname):\n",
        "        if filename.endswith(\".txt\"):\n",
        "            with open(dirname + filename, 'r+') as f:\n",
        "                review = f.read().decode('utf-8')\n",
        "                review = review.lower().replace(\"<br />\", \" \")\n",
        "                review = re.sub(TOKEN_REGEX, '', review)\n",
        "                \n",
        "                # Return a tuple of the review text and a label for whether it \n",
        "                # is a positive or negative review\n",
        "                reviews.append((review, label))\n",
        "    \n",
        "    return reviews \n",
        "\n",
        "def extract_reviews():\n",
        "    # If the file has not already been extracted\n",
        "    if not os.path.exists('aclImdb'):\n",
        "        with tarfile.open(DOWNLOADED_FILENAME) as tar:\n",
        "            tar.extractall()\n",
        "            tar.close()\n",
        "        \n",
        "    positive_reviews = get_reviews(\"aclImdb/train/pos/\", positive=True)\n",
        "    negative_reviews = get_reviews(\"aclImdb/train/neg/\", positive=False)\n",
        "    \n",
        "    return positive_reviews, negative_reviews"
      ],
      "execution_count": 0,
      "outputs": []
    },
    {
      "metadata": {
        "id": "pXVv7lBbr0je",
        "colab_type": "code",
        "colab": {},
        "outputId": "8ee91e66-4398-4bc9-c9ca-9d159aa1aeeb"
      },
      "cell_type": "code",
      "source": [
        "URL_PATH = 'http://ai.stanford.edu/~amaas/data/sentiment/aclImdb_v1.tar.gz'\n",
        "\n",
        "download_file(URL_PATH)"
      ],
      "execution_count": 0,
      "outputs": [
        {
          "output_type": "stream",
          "text": [
            "('Found and verified file from this path: ', 'http://ai.stanford.edu/~amaas/data/sentiment/aclImdb_v1.tar.gz')\n",
            "('Downloaded file: ', 'ImdbReviews.tar.gz')\n"
          ],
          "name": "stdout"
        }
      ]
    },
    {
      "metadata": {
        "id": "GR4EGN5yr0jh",
        "colab_type": "code",
        "colab": {}
      },
      "cell_type": "code",
      "source": [
        "positive_reviews, negative_reviews = extract_reviews()"
      ],
      "execution_count": 0,
      "outputs": []
    },
    {
      "metadata": {
        "id": "KqA-5Cq6r0jj",
        "colab_type": "code",
        "colab": {},
        "outputId": "00eee282-0914-44fa-8ec6-ff13d28d91f0"
      },
      "cell_type": "code",
      "source": [
        "positive_reviews[:2]"
      ],
      "execution_count": 0,
      "outputs": [
        {
          "output_type": "execute_result",
          "data": {
            "text/plain": [
              "[(u'bromwell high is a cartoon comedy it ran at the same time as some other programs about school life such as teachers my 35 years in the teaching profession lead me to believe that bromwell highs satire is much closer to reality than is teachers the scramble to survive financially the insightful students who can see right through their pathetic teachers pomp the pettiness of the whole situation all remind me of the schools i knew and their students when i saw the episode in which a student repeatedly tried to burn down the school i immediately recalled  at  high a classic line inspector im here to sack one of your teachers student welcome to bromwell high i expect that many adults of my age think that bromwell high is far fetched what a pity that it isnt',\n",
              "  1),\n",
              " (u'homelessness or houselessness as george carlin stated has been an issue for years but never a plan to help those on the street that were once considered human who did everything from going to school work or vote for the matter most people think of the homeless as just a lost cause while worrying about things such as racism the war on iraq pressuring kids to succeed technology the elections inflation or worrying if theyll be next to end up on the streets  but what if you were given a bet to live on the streets for a month without the luxuries you once had from a home the entertainment sets a bathroom pictures on the wall a computer and everything you once treasure to see what its like to be homeless that is goddard bolts lesson  mel brooks who directs who stars as bolt plays a rich man who has everything in the world until deciding to make a bet with a sissy rival jeffery tambor to see if he can live in the streets for thirty days without the luxuries if bolt succeeds he can do what he wants with a future project of making more buildings the bets on where bolt is thrown on the street with a bracelet on his leg to monitor his every move where he cant step off the sidewalk hes given the nickname pepto by a vagrant after its written on his forehead where bolt meets other characters including a woman by the name of molly lesley ann warren an exdancer who got divorce before losing her home and her pals sailor howard morris and fumes teddy wilson who are already used to the streets theyre survivors bolt isnt hes not used to reaching mutual agreements like he once did when being rich where its fight or flight kill or be killed  while the love connection between molly and bolt wasnt necessary to plot i found life stinks to be one of mel brooks observant films where prior to being a comedy it shows a tender side compared to his slapstick work such as blazing saddles young frankenstein or spaceballs for the matter to show what its like having something valuable before losing it the next day or on the other hand making a stupid bet like all rich people do when they dont know what to do with their money maybe they should give it to the homeless instead of using it like monopoly money  or maybe this film will inspire you to help others',\n",
              "  1)]"
            ]
          },
          "metadata": {
            "tags": []
          },
          "execution_count": 91
        }
      ]
    },
    {
      "metadata": {
        "id": "t2vDqMchr0jm",
        "colab_type": "code",
        "colab": {}
      },
      "cell_type": "code",
      "source": [
        "TRAIN_DATA = 5000\n",
        "TOTAL_DATA = 6000\n",
        "\n",
        "train_reviews = positive_reviews[:TRAIN_DATA] + negative_reviews[:TRAIN_DATA]\n",
        "\n",
        "test_positive_reviews = positive_reviews[TRAIN_DATA:TOTAL_DATA]\n",
        "test_negative_reviews = negative_reviews[TRAIN_DATA:TOTAL_DATA]"
      ],
      "execution_count": 0,
      "outputs": []
    },
    {
      "metadata": {
        "id": "Wq_xnmPCr0jq",
        "colab_type": "text"
      },
      "cell_type": "markdown",
      "source": [
        "#### Get a list of all the unque words in the dataset, the vocabulary"
      ]
    },
    {
      "metadata": {
        "id": "RW5wzyINr0jr",
        "colab_type": "code",
        "colab": {}
      },
      "cell_type": "code",
      "source": [
        "def get_vocabulary(train_reviews):\n",
        "    words_set = set()\n",
        "    \n",
        "    for review in train_reviews:\n",
        "        words_set.update(review[0].split())\n",
        "    \n",
        "    return list(words_set)\n",
        "\n",
        "vocabulary = get_vocabulary(train_reviews)"
      ],
      "execution_count": 0,
      "outputs": []
    },
    {
      "metadata": {
        "id": "d9YSd3afr0ju",
        "colab_type": "code",
        "colab": {},
        "outputId": "69f41164-e9b6-4f02-fcb3-b4d48360fa39"
      },
      "cell_type": "code",
      "source": [
        "len(vocabulary)"
      ],
      "execution_count": 0,
      "outputs": [
        {
          "output_type": "execute_result",
          "data": {
            "text/plain": [
              "66056"
            ]
          },
          "metadata": {
            "tags": []
          },
          "execution_count": 117
        }
      ]
    },
    {
      "metadata": {
        "id": "x0279FUPr0jw",
        "colab_type": "code",
        "colab": {},
        "outputId": "1918e9b9-0b08-4fcd-df8b-6b719998c2f9"
      },
      "cell_type": "code",
      "source": [
        "vocabulary[:5]"
      ],
      "execution_count": 0,
      "outputs": [
        {
          "output_type": "execute_result",
          "data": {
            "text/plain": [
              "[u'fawn', u'tsukino', u'4000odd', u'clichewise', u'mclendoncovey']"
            ]
          },
          "metadata": {
            "tags": []
          },
          "execution_count": 118
        }
      ]
    },
    {
      "metadata": {
        "id": "cYLv9_THr0jz",
        "colab_type": "text"
      },
      "cell_type": "markdown",
      "source": [
        "### Represent the words in the review as a feature vector\n",
        "\n",
        "* *review_text* The review in text form\n",
        "\n",
        "Each review is represented as a dictionary where keys are all words in the vocabulary. The values associated with each key is True if the word is present in the review."
      ]
    },
    {
      "metadata": {
        "id": "jKWrY7Aqr0jz",
        "colab_type": "code",
        "colab": {}
      },
      "cell_type": "code",
      "source": [
        "def extract_features(review_text):\n",
        "    # Split the review into words, and create a set of the words\n",
        "    review_words = set(review_text.split())\n",
        "\n",
        "    features = {}\n",
        "    for word in vocabulary:\n",
        "        features[word] = (word in review_words)\n",
        "        \n",
        "    return features    "
      ],
      "execution_count": 0,
      "outputs": []
    },
    {
      "metadata": {
        "id": "eDoFeWx9r0j3",
        "colab_type": "text"
      },
      "cell_type": "markdown",
      "source": [
        "#### Map feature vector to labels\n",
        "\n",
        "* *extract_features* Function to extract the features in feature vector form\n",
        "* *train_reviews* Training dataset, a list of tuples of the form (review_text, label)"
      ]
    },
    {
      "metadata": {
        "id": "ZIr2BGa6r0j4",
        "colab_type": "code",
        "colab": {}
      },
      "cell_type": "code",
      "source": [
        "train_features = nltk.classify.apply_features(extract_features, train_reviews)"
      ],
      "execution_count": 0,
      "outputs": []
    },
    {
      "metadata": {
        "id": "f-t8YvIor0j7",
        "colab_type": "text"
      },
      "cell_type": "markdown",
      "source": [
        "#### Train the classifier on the training data"
      ]
    },
    {
      "metadata": {
        "id": "AY6HDwv-r0j8",
        "colab_type": "code",
        "colab": {}
      },
      "cell_type": "code",
      "source": [
        "trained_classifier = nltk.NaiveBayesClassifier.train(train_features)"
      ],
      "execution_count": 0,
      "outputs": []
    },
    {
      "metadata": {
        "id": "NrlFdJo9r0j9",
        "colab_type": "code",
        "colab": {}
      },
      "cell_type": "code",
      "source": [
        "def sentiment_calculator(review_text):\n",
        "    features = extract_features(review_words)\n",
        "    return trained_classifier.classify(features)"
      ],
      "execution_count": 0,
      "outputs": []
    },
    {
      "metadata": {
        "id": "NXDTPRHKr0j_",
        "colab_type": "code",
        "colab": {},
        "outputId": "e6800706-9bfe-4a53-f4d7-c649da8e6e7f"
      },
      "cell_type": "code",
      "source": [
        "sentiment_calculator(\"What an amazing movie!\")"
      ],
      "execution_count": 0,
      "outputs": [
        {
          "output_type": "execute_result",
          "data": {
            "text/plain": [
              "0"
            ]
          },
          "metadata": {
            "tags": []
          },
          "execution_count": 133
        }
      ]
    },
    {
      "metadata": {
        "id": "JlF8xq-Cr0kE",
        "colab_type": "code",
        "colab": {},
        "outputId": "68151657-13ab-41bf-aca1-50a85c54fbb9"
      },
      "cell_type": "code",
      "source": [
        "sentiment_calculator(\"What a terrible movie\")"
      ],
      "execution_count": 0,
      "outputs": [
        {
          "output_type": "execute_result",
          "data": {
            "text/plain": [
              "0"
            ]
          },
          "metadata": {
            "tags": []
          },
          "execution_count": 134
        }
      ]
    },
    {
      "metadata": {
        "id": "SyzaaE90r0kF",
        "colab_type": "text"
      },
      "cell_type": "markdown",
      "source": [
        "#### Classify and measure the accuracy of the model on test data"
      ]
    },
    {
      "metadata": {
        "id": "TccDey82r0kH",
        "colab_type": "code",
        "colab": {}
      },
      "cell_type": "code",
      "source": [
        "def classify_test_reviews(test_positive_reviews, test_negative_reviews, sentiment_calculator):\n",
        "    positive_results = [sentiment_calculator(review[0]) for review in test_positive_reviews]\n",
        "    negative_results = [sentiment_calculator(review[0]) for review in test_negative_reviews]\n",
        "    \n",
        "    true_positives = sum(x > 0 for x in positive_results)\n",
        "    true_negatives = sum(x == 0 for x in negative_results)\n",
        "    \n",
        "    percent_true_positive = float(true_positives) / len(positive_results)\n",
        "    percent_true_negative = float(true_negatives) / len(negative_results)\n",
        "\n",
        "    total_accurate = true_positives + true_negatives\n",
        "    total = len(positive_results) + len(negative_results)\n",
        "\n",
        "    print(\"Accuracy on positive reviews = \" +\"%.2f\" % (percent_true_positive * 100) + \"%\")\n",
        "    print(\"Accurance on negative reviews = \" +\"%.2f\" % (percent_true_negative * 100) + \"%\")\n",
        "    print(\"Overall accuracy = \" + \"%.2f\" % (total_accurate * 100/ total) + \"%\")"
      ],
      "execution_count": 0,
      "outputs": []
    },
    {
      "metadata": {
        "id": "-OeGdTw1r0kJ",
        "colab_type": "code",
        "colab": {},
        "outputId": "8520366a-a179-47f1-e69b-4105d0a05ec0"
      },
      "cell_type": "code",
      "source": [
        "classify_test_reviews(test_positive_reviews, test_negative_reviews, sentiment_calculator)"
      ],
      "execution_count": 0,
      "outputs": [
        {
          "output_type": "stream",
          "text": [
            "Accuracy on positive reviews = 74.70%\n",
            "Accurance on negative reviews = 81.60%\n",
            "Overall accuracy = 78.15%\n"
          ],
          "name": "stdout"
        }
      ]
    },
    {
      "metadata": {
        "id": "KPXif4wkr0kN",
        "colab_type": "code",
        "colab": {}
      },
      "cell_type": "code",
      "source": [
        ""
      ],
      "execution_count": 0,
      "outputs": []
    },
    {
      "metadata": {
        "id": "w_hwqEqpr0kO",
        "colab_type": "code",
        "colab": {}
      },
      "cell_type": "code",
      "source": [
        ""
      ],
      "execution_count": 0,
      "outputs": []
    },
    {
      "metadata": {
        "id": "7P0Zdvgor0kP",
        "colab_type": "code",
        "colab": {}
      },
      "cell_type": "code",
      "source": [
        ""
      ],
      "execution_count": 0,
      "outputs": []
    }
  ]
}