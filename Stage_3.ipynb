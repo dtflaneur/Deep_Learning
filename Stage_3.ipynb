{
 "cells": [
  {
   "cell_type": "code",
   "execution_count": 43,
   "metadata": {},
   "outputs": [
    {
     "data": {
      "text/plain": [
       "36"
      ]
     },
     "execution_count": 43,
     "metadata": {},
     "output_type": "execute_result"
    }
   ],
   "source": [
    "%reload_ext autoreload\n",
    "%autoreload 2\n",
    "%matplotlib inline\n",
    "\n",
    "# Importing packages\n",
    "from fastai.vision import *\n",
    "from fastai.metrics import error_rate\n",
    "import os\n",
    "from PIL import Image, ImageChops, ImageEnhance\n",
    "import gc\n",
    "from sklearn.metrics import f1_score, accuracy_score, confusion_matrix\n",
    "import pickle\n",
    "import pretrainedmodels\n",
    "from torchvision.models import *\n",
    "from fastai.vision.models import *\n",
    "from fastai.vision.learner import model_meta\n",
    "\n",
    "from utils import *\n",
    "import sys\n",
    "gc.collect()"
   ]
  },
  {
   "cell_type": "code",
   "execution_count": 44,
   "metadata": {},
   "outputs": [],
   "source": [
    "torch.cuda.is_available()\n",
    "# torch.cuda.set_device(0)"
   ]
  },
  {
   "cell_type": "code",
   "execution_count": 45,
   "metadata": {},
   "outputs": [],
   "source": [
    "# path = '/home/ubuntu/Documents/ELA/'\n",
    "path = '/home/ubuntu/share/stage-3/stage3_image_data/'"
   ]
  },
  {
   "cell_type": "code",
   "execution_count": 98,
   "metadata": {},
   "outputs": [],
   "source": [
    "# Helper functions\n",
    "\n",
    "def get_imlist(path):\n",
    "    return [os.path.join(path,f) for f in os.listdir(path) if f.endswith('.jpg') or f.endswith('.png')]\n",
    "\n",
    "def convert_to_ela_image(path, folder, quality):\n",
    "    filename = path\n",
    "    ela_filename = f'/home/ubuntu/Documents/ELA2/{folder}/'\n",
    "    resaved_filename = '/home/ubuntu/Documents/temp.jpg'\n",
    "    \n",
    "    fname = filename.split('/')[-1]\n",
    "    ela_filename = ela_filename + fname\n",
    "    if(os.path.isfile(ela_filename)):\n",
    "        return\n",
    "#     print(ela_filename)\n",
    "    im = Image.open(filename).convert('RGB')\n",
    "    im.save(resaved_filename, 'JPEG', quality=quality)\n",
    "    resaved_im = Image.open(resaved_filename)\n",
    "    \n",
    "    ela_im = ImageChops.difference(im, resaved_im)\n",
    "    \n",
    "    extrema = ela_im.getextrema()\n",
    "    max_diff = max([ex[1] for ex in extrema])\n",
    "    if max_diff == 0:\n",
    "        max_diff = 1\n",
    "    scale = 255.0 / max_diff\n",
    "    \n",
    "    ela_im = ImageEnhance.Brightness(ela_im).enhance(scale)\n",
    "    ela_im = ela_im.resize((512, 512))\n",
    "    ela_im.save(ela_filename)\n",
    "    \n",
    "    return ela_im\n",
    "\n",
    "# Generate/Save ELA files for the train/test images.\n",
    "def generate_ela_files(files, is_train = False, labels = None):\n",
    "    if(is_train):\n",
    "        for f,l in tqdm(zip(files, labels)):\n",
    "            convert_to_ela_image(f,f'train/{l}', 90)\n",
    "    else:\n",
    "        print(len(files))\n",
    "        for f in tqdm(files):\n",
    "#             print(f)\n",
    "            convert_to_ela_image(f, 'train/fake', 90)\n",
    "    \n",
    "# Getting balanced set for train/validation\n",
    "def get_balanced_data(l_real, l_fake):\n",
    "    l_fake_sampled = np.random.choice(l_fake, len(l_real), replace = False)\n",
    "    files = l_real + list(l_fake_sampled)\n",
    "    labels = ['real']*len(l_real) + ['fake']*len(l_fake_sampled)\n",
    "    assert(len(files) == len(labels))\n",
    "    return files,labels\n",
    "\n",
    "def get_predictions(learn, is_test = False):\n",
    "    if(is_test):\n",
    "        log_preds = learn.predict(is_test)\n",
    "        preds = np.argmax(log_preds, axis=1)\n",
    "        probs = np.exp(log_preds)\n",
    "    else:\n",
    "        log_preds, y = learn.TTA()\n",
    "        probs = np.mean(np.exp(log_preds),0)\n",
    "        print(accuracy_np(probs,y))\n",
    "        preds = np.argmax(probs, axis=1)  # from log probabilities to 0 or 1ts\n",
    "        from sklearn.metrics import f1_score\n",
    "        print('F1_score: ', f1_score(y,preds,average='weighted'))\n",
    "        \n",
    "def get_metrics(y, preds):\n",
    "    from sklearn.metrics import f1_score, accuracy_score, confusion_matrix\n",
    "    print('F1_score: ', f1_score(y,preds,average='weighted'))\n",
    "    print('Accuracy: ', accuracy_score(y,preds))\n",
    "    print(confusion_matrix(y,preds))\n",
    "    \n",
    "def get_files(l_real, l_fake):\n",
    "    files = [path+'/'.join(x.split('/')[-3:]) for x in l_real] + [path+'/'.join(x.split('/')[-3:]) for x in l_fake]\n",
    "    labels = ['real']*len(l_real) + ['fake']*len(l_fake)\n",
    "    return files, labels\n",
    "\n",
    "def xception(pretrained=True):\n",
    "    pretrained = 'imagenet+background' if pretrained else None\n",
    "    model = pretrainedmodels.__dict__['xception'](pretrained=pretrained)\n",
    "    return nn.Sequential(*list(model.children()))\n",
    "\n",
    "def get_learner(model_name, data):\n",
    "    if('resnet' in model_name):\n",
    "        m = eval(model_name)\n",
    "        learn = create_cnn(data, m, metrics=accuracy)\n",
    "        return learn\n",
    "    else:\n",
    "        if('densenet' in model_name):\n",
    "            m = eval(model_name)\n",
    "            learn = create_cnn(data, m, pretrained=True, cut=-1, split_on=lambda m: (m[0][0][7],m[1]), metrics = accuracy)\n",
    "            return learn\n",
    "        elif(model_name == 'inceptionv4'):\n",
    "            learn = create_cnn(FakeData(), inceptionv4, pretrained=True, cut=-2, split_on=lambda m: (m[0][11], m[1]))\n",
    "        elif(model_name == 'xception'):\n",
    "            learn = create_cnn(data, xception, pretrained=True, cut = -1, split_on = lambda m: (m[0][11], m[1]))\n",
    "    return learn\n",
    "\n",
    "# Create 3 different balanced train sets \n",
    "## Each having same set of real images(7K) and diff fake ones (7K)\n",
    "## Remaining files are kept as holdout validation set\n",
    "def generate_multi_version():\n",
    "    path_n = '/home/ubuntu/share/stage-3/stage3_image_data/'\n",
    "    l_real = get_imlist(f'{path_n}train/real')\n",
    "    l_fake = get_imlist(f'{path_n}train/fake')\n",
    "    import random\n",
    "    random.seed(42)\n",
    "    random.shuffle(l_real)\n",
    "    random.shuffle(l_fake)\n",
    "    train_real = l_real[:7000]\n",
    "    train_fake1 = l_fake[:7000]\n",
    "    train_fake2 = l_fake[7000:14000]\n",
    "    train_fake3 = l_fake[14000:21000]\n",
    "    val_fake = l_fake[21000:]\n",
    "    val_real = l_real[7000:]\n",
    "    train_label = ['real']*len(train_real) + ['fake']*len(train_fake1)\n",
    "    val_label = ['real']*len(val_real) + ['fake']*len(val_fake)\n",
    "    \n",
    "    train_files1 = train_real + train_fake1\n",
    "    train_files2 = train_real + train_fake2\n",
    "    train_files3 = train_real + train_fake3\n",
    "    val_files = val_real + val_fake\n",
    "    \n",
    "    \n",
    "    return [train_files1, train_files2, train_files3], train_label, val_files, val_label\n",
    "   "
   ]
  },
  {
   "cell_type": "code",
   "execution_count": 64,
   "metadata": {},
   "outputs": [],
   "source": [
    "l_real = get_imlist(f'{path}train/real')\n",
    "l_fake = get_imlist(f'{path}train/fake')\n",
    "test_files = get_imlist(f'{path}test/test')"
   ]
  },
  {
   "cell_type": "code",
   "execution_count": 65,
   "metadata": {},
   "outputs": [
    {
     "data": {
      "text/plain": [
       "(8373, 23887, 5430)"
      ]
     },
     "execution_count": 65,
     "metadata": {},
     "output_type": "execute_result"
    }
   ],
   "source": [
    "len(l_real), len(l_fake), len(test_files)"
   ]
  },
  {
   "cell_type": "code",
   "execution_count": null,
   "metadata": {},
   "outputs": [],
   "source": [
    "files = l_real + l_fake\n",
    "labels = ['real']*len(l_real) + ['fake']*len(l_fake)"
   ]
  },
  {
   "cell_type": "code",
   "execution_count": 51,
   "metadata": {},
   "outputs": [
    {
     "name": "stderr",
     "output_type": "stream",
     "text": [
      "16746it [54:01,  5.17it/s]\n"
     ]
    }
   ],
   "source": [
    "generate_ela_files(files, True, labels)"
   ]
  },
  {
   "cell_type": "code",
   "execution_count": 68,
   "metadata": {},
   "outputs": [
    {
     "name": "stderr",
     "output_type": "stream",
     "text": [
      "100%|██████████| 5430/5430 [22:28<00:00,  4.03it/s]  \n"
     ]
    }
   ],
   "source": [
    "generate_ela_files(test_files)"
   ]
  },
  {
   "cell_type": "code",
   "execution_count": 8,
   "metadata": {},
   "outputs": [],
   "source": [
    "# files,labels = get_files(l_real,l_fake)"
   ]
  },
  {
   "cell_type": "code",
   "execution_count": 9,
   "metadata": {},
   "outputs": [],
   "source": [
    "# files_df = pd.DataFrame({'Files': files, 'labels': labels})"
   ]
  },
  {
   "cell_type": "code",
   "execution_count": 99,
   "metadata": {},
   "outputs": [],
   "source": [
    "train_files_all, train_label, val_files, val_label = generate_multi_version()"
   ]
  },
  {
   "cell_type": "code",
   "execution_count": 103,
   "metadata": {},
   "outputs": [
    {
     "name": "stdout",
     "output_type": "stream",
     "text": [
      "14000 14000 14000\n",
      "14000 (array(['fake', 'real'], dtype='<U4'), array([7000, 7000]))\n",
      "4260 4260 (array(['fake', 'real'], dtype='<U4'), array([2887, 1373]))\n"
     ]
    }
   ],
   "source": [
    "# Few sanity checks\n",
    "print(len(train_files_all[0]), len(train_files_all[1]), len(train_files_all[2]))\n",
    "print(len(train_label), np.unique(train_label, return_counts = True))\n",
    "print(len(val_files), len(val_label), np.unique(val_label, return_counts = True))"
   ]
  },
  {
   "cell_type": "code",
   "execution_count": null,
   "metadata": {},
   "outputs": [],
   "source": [
    "# files = ['/home/ubuntu/Documents/ELA/' + '/'.join(x.split('/')[-3:]) for x in files]"
   ]
  },
  {
   "cell_type": "code",
   "execution_count": 15,
   "metadata": {},
   "outputs": [],
   "source": [
    "for i in range(3):\n",
    "    train_files_all[i] = ['/home/ubuntu/Documents/ELA2/' + '/'.join(x.split('/')[-3:]) for x in train_files_all[i]]\n",
    "val_files = ['/home/ubuntu/Documents/ELA2/' + '/'.join(x.split('/')[-3:]) for x in val_files]"
   ]
  },
  {
   "cell_type": "code",
   "execution_count": null,
   "metadata": {},
   "outputs": [],
   "source": [
    "# Approach\n",
    "## The aim was to get similar acc on all the 3 balanced set created at start - an indicator of model generalizing well on unseen data\n",
    "#### This decision was based on the observation that we had very diff val accuracies on diff samples of 'fake' used as train \n",
    "## Experimented on side to reach a final set of hp which seemed to give similar acc on all 3 val splits for respective train sets\n",
    "\n",
    "## Proceeded with progressive resizing to improve val acc further.\n",
    "\n",
    "## Entire above exercise was done on ELA images as well normal images.\n",
    "## Final submission ensemble of two. - this gave a good lift in f1"
   ]
  },
  {
   "cell_type": "code",
   "execution_count": 17,
   "metadata": {},
   "outputs": [
    {
     "data": {
      "text/html": [
       "Total time: 02:16 <p><table style='width:300px; margin-bottom:10px'>\n",
       "  <tr>\n",
       "    <th>epoch</th>\n",
       "    <th>train_loss</th>\n",
       "    <th>valid_loss</th>\n",
       "    <th>accuracy</th>\n",
       "  </tr>\n",
       "  <tr>\n",
       "    <th>1</th>\n",
       "    <th>0.556275</th>\n",
       "    <th>0.522364</th>\n",
       "    <th>0.747429</th>\n",
       "  </tr>\n",
       "  <tr>\n",
       "    <th>2</th>\n",
       "    <th>0.533718</th>\n",
       "    <th>0.514938</th>\n",
       "    <th>0.752286</th>\n",
       "  </tr>\n",
       "  <tr>\n",
       "    <th>3</th>\n",
       "    <th>0.523318</th>\n",
       "    <th>0.509010</th>\n",
       "    <th>0.751143</th>\n",
       "  </tr>\n",
       "  <tr>\n",
       "    <th>4</th>\n",
       "    <th>0.524286</th>\n",
       "    <th>0.507834</th>\n",
       "    <th>0.756000</th>\n",
       "  </tr>\n",
       "</table>\n"
      ],
      "text/plain": [
       "<IPython.core.display.HTML object>"
      ]
     },
     "metadata": {},
     "output_type": "display_data"
    },
    {
     "data": {
      "text/html": [
       "Total time: 01:31 <p><table style='width:300px; margin-bottom:10px'>\n",
       "  <tr>\n",
       "    <th>epoch</th>\n",
       "    <th>train_loss</th>\n",
       "    <th>valid_loss</th>\n",
       "    <th>accuracy</th>\n",
       "  </tr>\n",
       "  <tr>\n",
       "    <th>1</th>\n",
       "    <th>0.519596</th>\n",
       "    <th>0.501937</th>\n",
       "    <th>0.763714</th>\n",
       "  </tr>\n",
       "  <tr>\n",
       "    <th>2</th>\n",
       "    <th>0.506621</th>\n",
       "    <th>0.498971</th>\n",
       "    <th>0.758857</th>\n",
       "  </tr>\n",
       "</table>\n"
      ],
      "text/plain": [
       "<IPython.core.display.HTML object>"
      ]
     },
     "metadata": {},
     "output_type": "display_data"
    },
    {
     "data": {
      "text/html": [
       "Total time: 01:30 <p><table style='width:300px; margin-bottom:10px'>\n",
       "  <tr>\n",
       "    <th>epoch</th>\n",
       "    <th>train_loss</th>\n",
       "    <th>valid_loss</th>\n",
       "    <th>accuracy</th>\n",
       "  </tr>\n",
       "  <tr>\n",
       "    <th>1</th>\n",
       "    <th>0.508699</th>\n",
       "    <th>0.496347</th>\n",
       "    <th>0.763143</th>\n",
       "  </tr>\n",
       "  <tr>\n",
       "    <th>2</th>\n",
       "    <th>0.506963</th>\n",
       "    <th>0.496946</th>\n",
       "    <th>0.760000</th>\n",
       "  </tr>\n",
       "</table>\n"
      ],
      "text/plain": [
       "<IPython.core.display.HTML object>"
      ]
     },
     "metadata": {},
     "output_type": "display_data"
    }
   ],
   "source": [
    "# 1st iter model on size 128\n",
    "files, labels = train_files_all[0], train_label\n",
    "path = 'home/ubuntu/Documents/ELA2/'\n",
    "fname2label = {f:l for (f,l) in zip(files, labels)}\n",
    "src = ImageItemList(files, path=path).random_split_by_pct(valid_pct=0.25, seed=42).label_from_func(lambda x:fname2label[x])\n",
    "# Removing cropping as default transformation\n",
    "tfms = get_transforms()\n",
    "tfms = (tfms[0][1:],[])\n",
    "data = ImageDataBunch.create_from_ll(src, size = 128, test = 'test', bs = 64, ds_tfms = tfms)\n",
    "learn = create_cnn(data, resnet34, pretrained=True, metrics = accuracy)\n",
    "learn.load('/home/ubuntu/Documents/ELA/models/prsz_299_freezed_ela_iter22')\n",
    "learn.fit_one_cycle(4)\n",
    "learn.save('ela2_prsz_128_frz_set0')\n",
    "learn.unfreeze()\n",
    "learn.fit_one_cycle(2, max_lr = slice(1e-5,1e-4))\n",
    "learn.fit_one_cycle(2, max_lr = slice(5e-6,1e-5))\n",
    "learn.save('ela2_prsz_128_unfrz_set0')\n"
   ]
  },
  {
   "cell_type": "code",
   "execution_count": 31,
   "metadata": {},
   "outputs": [
    {
     "data": {
      "text/html": [
       "Total time: 02:16 <p><table style='width:300px; margin-bottom:10px'>\n",
       "  <tr>\n",
       "    <th>epoch</th>\n",
       "    <th>train_loss</th>\n",
       "    <th>valid_loss</th>\n",
       "    <th>accuracy</th>\n",
       "  </tr>\n",
       "  <tr>\n",
       "    <th>1</th>\n",
       "    <th>0.513156</th>\n",
       "    <th>0.507871</th>\n",
       "    <th>0.759143</th>\n",
       "  </tr>\n",
       "  <tr>\n",
       "    <th>2</th>\n",
       "    <th>0.518863</th>\n",
       "    <th>0.507453</th>\n",
       "    <th>0.758857</th>\n",
       "  </tr>\n",
       "  <tr>\n",
       "    <th>3</th>\n",
       "    <th>0.517992</th>\n",
       "    <th>0.505678</th>\n",
       "    <th>0.758857</th>\n",
       "  </tr>\n",
       "  <tr>\n",
       "    <th>4</th>\n",
       "    <th>0.502330</th>\n",
       "    <th>0.505530</th>\n",
       "    <th>0.759714</th>\n",
       "  </tr>\n",
       "</table>\n"
      ],
      "text/plain": [
       "<IPython.core.display.HTML object>"
      ]
     },
     "metadata": {},
     "output_type": "display_data"
    },
    {
     "data": {
      "text/html": [
       "Total time: 01:30 <p><table style='width:300px; margin-bottom:10px'>\n",
       "  <tr>\n",
       "    <th>epoch</th>\n",
       "    <th>train_loss</th>\n",
       "    <th>valid_loss</th>\n",
       "    <th>accuracy</th>\n",
       "  </tr>\n",
       "  <tr>\n",
       "    <th>1</th>\n",
       "    <th>0.503629</th>\n",
       "    <th>0.503987</th>\n",
       "    <th>0.757714</th>\n",
       "  </tr>\n",
       "  <tr>\n",
       "    <th>2</th>\n",
       "    <th>0.500678</th>\n",
       "    <th>0.503320</th>\n",
       "    <th>0.755429</th>\n",
       "  </tr>\n",
       "</table>\n"
      ],
      "text/plain": [
       "<IPython.core.display.HTML object>"
      ]
     },
     "metadata": {},
     "output_type": "display_data"
    },
    {
     "data": {
      "text/html": [
       "Total time: 01:31 <p><table style='width:300px; margin-bottom:10px'>\n",
       "  <tr>\n",
       "    <th>epoch</th>\n",
       "    <th>train_loss</th>\n",
       "    <th>valid_loss</th>\n",
       "    <th>accuracy</th>\n",
       "  </tr>\n",
       "  <tr>\n",
       "    <th>1</th>\n",
       "    <th>0.495593</th>\n",
       "    <th>0.504584</th>\n",
       "    <th>0.757429</th>\n",
       "  </tr>\n",
       "  <tr>\n",
       "    <th>2</th>\n",
       "    <th>0.496892</th>\n",
       "    <th>0.503236</th>\n",
       "    <th>0.760286</th>\n",
       "  </tr>\n",
       "</table>\n"
      ],
      "text/plain": [
       "<IPython.core.display.HTML object>"
      ]
     },
     "metadata": {},
     "output_type": "display_data"
    }
   ],
   "source": [
    "#2nd iter model on size 128\n",
    "files, labels = train_files_all[1], train_label\n",
    "path = 'home/ubuntu/Documents/ELA2/'\n",
    "fname2label = {f:l for (f,l) in zip(files, labels)}\n",
    "src = ImageItemList(files, path=path).random_split_by_pct(valid_pct=0.25, seed=42).label_from_func(lambda x:fname2label[x])\n",
    "tfms = get_transforms()\n",
    "tfms = (tfms[0][1:],[])\n",
    "data = ImageDataBunch.create_from_ll(src, size = 128, test = 'test', bs = 64, ds_tfms = tfms)\n",
    "learn = create_cnn(data, resnet34, pretrained=True, metrics = accuracy)\n",
    "learn.load('ela2_prsz_128_unfrz_set0')\n",
    "learn.fit_one_cycle(4)\n",
    "learn.save('ela2_prsz_128_frz_set1')\n",
    "learn.unfreeze()\n",
    "learn.fit_one_cycle(2, max_lr = slice(1e-5,1e-4))\n",
    "learn.fit_one_cycle(2, max_lr = slice(5e-6,1e-5))\n",
    "learn.save('ela2_prsz_128_unfrz_set1')\n"
   ]
  },
  {
   "cell_type": "code",
   "execution_count": 32,
   "metadata": {},
   "outputs": [
    {
     "data": {
      "text/html": [
       "Total time: 02:16 <p><table style='width:300px; margin-bottom:10px'>\n",
       "  <tr>\n",
       "    <th>epoch</th>\n",
       "    <th>train_loss</th>\n",
       "    <th>valid_loss</th>\n",
       "    <th>accuracy</th>\n",
       "  </tr>\n",
       "  <tr>\n",
       "    <th>1</th>\n",
       "    <th>0.501382</th>\n",
       "    <th>0.503782</th>\n",
       "    <th>0.759143</th>\n",
       "  </tr>\n",
       "  <tr>\n",
       "    <th>2</th>\n",
       "    <th>0.497225</th>\n",
       "    <th>0.500694</th>\n",
       "    <th>0.759714</th>\n",
       "  </tr>\n",
       "  <tr>\n",
       "    <th>3</th>\n",
       "    <th>0.489146</th>\n",
       "    <th>0.501273</th>\n",
       "    <th>0.756857</th>\n",
       "  </tr>\n",
       "  <tr>\n",
       "    <th>4</th>\n",
       "    <th>0.488903</th>\n",
       "    <th>0.501094</th>\n",
       "    <th>0.759143</th>\n",
       "  </tr>\n",
       "</table>\n"
      ],
      "text/plain": [
       "<IPython.core.display.HTML object>"
      ]
     },
     "metadata": {},
     "output_type": "display_data"
    },
    {
     "data": {
      "text/html": [
       "Total time: 01:31 <p><table style='width:300px; margin-bottom:10px'>\n",
       "  <tr>\n",
       "    <th>epoch</th>\n",
       "    <th>train_loss</th>\n",
       "    <th>valid_loss</th>\n",
       "    <th>accuracy</th>\n",
       "  </tr>\n",
       "  <tr>\n",
       "    <th>1</th>\n",
       "    <th>0.498618</th>\n",
       "    <th>0.499787</th>\n",
       "    <th>0.760571</th>\n",
       "  </tr>\n",
       "  <tr>\n",
       "    <th>2</th>\n",
       "    <th>0.487119</th>\n",
       "    <th>0.500565</th>\n",
       "    <th>0.762000</th>\n",
       "  </tr>\n",
       "</table>\n"
      ],
      "text/plain": [
       "<IPython.core.display.HTML object>"
      ]
     },
     "metadata": {},
     "output_type": "display_data"
    },
    {
     "data": {
      "text/html": [
       "Total time: 01:30 <p><table style='width:300px; margin-bottom:10px'>\n",
       "  <tr>\n",
       "    <th>epoch</th>\n",
       "    <th>train_loss</th>\n",
       "    <th>valid_loss</th>\n",
       "    <th>accuracy</th>\n",
       "  </tr>\n",
       "  <tr>\n",
       "    <th>1</th>\n",
       "    <th>0.475199</th>\n",
       "    <th>0.503268</th>\n",
       "    <th>0.762286</th>\n",
       "  </tr>\n",
       "  <tr>\n",
       "    <th>2</th>\n",
       "    <th>0.481139</th>\n",
       "    <th>0.502274</th>\n",
       "    <th>0.764000</th>\n",
       "  </tr>\n",
       "</table>\n"
      ],
      "text/plain": [
       "<IPython.core.display.HTML object>"
      ]
     },
     "metadata": {},
     "output_type": "display_data"
    }
   ],
   "source": [
    "# 3rd iter model on size 128\n",
    "files, labels = train_files_all[2], train_label\n",
    "path = 'home/ubuntu/Documents/ELA2/'\n",
    "fname2label = {f:l for (f,l) in zip(files, labels)}\n",
    "src = ImageItemList(files, path=path).random_split_by_pct(valid_pct=0.25, seed=42).label_from_func(lambda x:fname2label[x])\n",
    "tfms = get_transforms()\n",
    "tfms = (tfms[0][1:],[])\n",
    "data = ImageDataBunch.create_from_ll(src, size = 128, test = 'test', bs = 64, ds_tfms = tfms)\n",
    "learn = create_cnn(data, resnet34, pretrained=True, metrics = accuracy)\n",
    "learn.load('ela2_prsz_128_unfrz_set1')\n",
    "learn.fit_one_cycle(4)\n",
    "learn.save('ela2_prsz_128_frz_set2')\n",
    "learn.unfreeze()\n",
    "learn.fit_one_cycle(2, max_lr = slice(1e-5,1e-4))\n",
    "learn.fit_one_cycle(2, max_lr = slice(5e-6,1e-5))\n",
    "learn.save('ela2_prsz_128_unfrz_set2')\n"
   ]
  },
  {
   "cell_type": "code",
   "execution_count": 33,
   "metadata": {},
   "outputs": [
    {
     "data": {
      "text/html": [
       "Total time: 05:36 <p><table style='width:300px; margin-bottom:10px'>\n",
       "  <tr>\n",
       "    <th>epoch</th>\n",
       "    <th>train_loss</th>\n",
       "    <th>valid_loss</th>\n",
       "    <th>accuracy</th>\n",
       "  </tr>\n",
       "  <tr>\n",
       "    <th>1</th>\n",
       "    <th>0.485350</th>\n",
       "    <th>0.524085</th>\n",
       "    <th>0.754000</th>\n",
       "  </tr>\n",
       "  <tr>\n",
       "    <th>2</th>\n",
       "    <th>0.484521</th>\n",
       "    <th>0.503620</th>\n",
       "    <th>0.754000</th>\n",
       "  </tr>\n",
       "  <tr>\n",
       "    <th>3</th>\n",
       "    <th>0.480798</th>\n",
       "    <th>0.502310</th>\n",
       "    <th>0.764857</th>\n",
       "  </tr>\n",
       "  <tr>\n",
       "    <th>4</th>\n",
       "    <th>0.469499</th>\n",
       "    <th>0.494159</th>\n",
       "    <th>0.769429</th>\n",
       "  </tr>\n",
       "</table>\n"
      ],
      "text/plain": [
       "<IPython.core.display.HTML object>"
      ]
     },
     "metadata": {},
     "output_type": "display_data"
    },
    {
     "data": {
      "text/html": [
       "Total time: 03:54 <p><table style='width:300px; margin-bottom:10px'>\n",
       "  <tr>\n",
       "    <th>epoch</th>\n",
       "    <th>train_loss</th>\n",
       "    <th>valid_loss</th>\n",
       "    <th>accuracy</th>\n",
       "  </tr>\n",
       "  <tr>\n",
       "    <th>1</th>\n",
       "    <th>0.465912</th>\n",
       "    <th>0.495280</th>\n",
       "    <th>0.766286</th>\n",
       "  </tr>\n",
       "  <tr>\n",
       "    <th>2</th>\n",
       "    <th>0.466468</th>\n",
       "    <th>0.488342</th>\n",
       "    <th>0.773429</th>\n",
       "  </tr>\n",
       "</table>\n"
      ],
      "text/plain": [
       "<IPython.core.display.HTML object>"
      ]
     },
     "metadata": {},
     "output_type": "display_data"
    },
    {
     "data": {
      "text/html": [
       "Total time: 03:53 <p><table style='width:300px; margin-bottom:10px'>\n",
       "  <tr>\n",
       "    <th>epoch</th>\n",
       "    <th>train_loss</th>\n",
       "    <th>valid_loss</th>\n",
       "    <th>accuracy</th>\n",
       "  </tr>\n",
       "  <tr>\n",
       "    <th>1</th>\n",
       "    <th>0.464466</th>\n",
       "    <th>0.502645</th>\n",
       "    <th>0.762286</th>\n",
       "  </tr>\n",
       "  <tr>\n",
       "    <th>2</th>\n",
       "    <th>0.468186</th>\n",
       "    <th>0.498425</th>\n",
       "    <th>0.765143</th>\n",
       "  </tr>\n",
       "</table>\n"
      ],
      "text/plain": [
       "<IPython.core.display.HTML object>"
      ]
     },
     "metadata": {},
     "output_type": "display_data"
    }
   ],
   "source": [
    "# 1st iter model on size 224\n",
    "files, labels = train_files_all[0], train_label\n",
    "path = 'home/ubuntu/Documents/ELA2/'\n",
    "fname2label = {f:l for (f,l) in zip(files, labels)}\n",
    "src = ImageItemList(files, path=path).random_split_by_pct(valid_pct=0.25, seed=42).label_from_func(lambda x:fname2label[x])\n",
    "tfms = get_transforms()\n",
    "tfms = (tfms[0][1:],[])\n",
    "data = ImageDataBunch.create_from_ll(src, size = 224, test = 'test', bs = 64, ds_tfms = tfms)\n",
    "learn = create_cnn(data, resnet34, pretrained=True, metrics = accuracy)\n",
    "learn.load('ela2_prsz_128_unfrz_set2')\n",
    "learn.fit_one_cycle(4)\n",
    "learn.save('ela2_prsz_224_frz_set0')\n",
    "learn.unfreeze()\n",
    "learn.fit_one_cycle(2, max_lr = slice(1e-5,1e-4))\n",
    "learn.fit_one_cycle(2, max_lr = slice(5e-6,1e-5))\n",
    "learn.save('ela2_prsz_224_unfrz_set0')\n"
   ]
  },
  {
   "cell_type": "code",
   "execution_count": 34,
   "metadata": {},
   "outputs": [
    {
     "data": {
      "text/html": [
       "Total time: 05:33 <p><table style='width:300px; margin-bottom:10px'>\n",
       "  <tr>\n",
       "    <th>epoch</th>\n",
       "    <th>train_loss</th>\n",
       "    <th>valid_loss</th>\n",
       "    <th>accuracy</th>\n",
       "  </tr>\n",
       "  <tr>\n",
       "    <th>1</th>\n",
       "    <th>0.478043</th>\n",
       "    <th>0.492816</th>\n",
       "    <th>0.758286</th>\n",
       "  </tr>\n",
       "  <tr>\n",
       "    <th>2</th>\n",
       "    <th>0.480025</th>\n",
       "    <th>0.497928</th>\n",
       "    <th>0.753143</th>\n",
       "  </tr>\n",
       "  <tr>\n",
       "    <th>3</th>\n",
       "    <th>0.469031</th>\n",
       "    <th>0.486419</th>\n",
       "    <th>0.760571</th>\n",
       "  </tr>\n",
       "  <tr>\n",
       "    <th>4</th>\n",
       "    <th>0.460763</th>\n",
       "    <th>0.497334</th>\n",
       "    <th>0.752286</th>\n",
       "  </tr>\n",
       "</table>\n"
      ],
      "text/plain": [
       "<IPython.core.display.HTML object>"
      ]
     },
     "metadata": {},
     "output_type": "display_data"
    },
    {
     "data": {
      "text/html": [
       "Total time: 03:53 <p><table style='width:300px; margin-bottom:10px'>\n",
       "  <tr>\n",
       "    <th>epoch</th>\n",
       "    <th>train_loss</th>\n",
       "    <th>valid_loss</th>\n",
       "    <th>accuracy</th>\n",
       "  </tr>\n",
       "  <tr>\n",
       "    <th>1</th>\n",
       "    <th>0.476757</th>\n",
       "    <th>0.488769</th>\n",
       "    <th>0.760286</th>\n",
       "  </tr>\n",
       "  <tr>\n",
       "    <th>2</th>\n",
       "    <th>0.458073</th>\n",
       "    <th>0.489804</th>\n",
       "    <th>0.761143</th>\n",
       "  </tr>\n",
       "</table>\n"
      ],
      "text/plain": [
       "<IPython.core.display.HTML object>"
      ]
     },
     "metadata": {},
     "output_type": "display_data"
    },
    {
     "data": {
      "text/html": [
       "Total time: 03:53 <p><table style='width:300px; margin-bottom:10px'>\n",
       "  <tr>\n",
       "    <th>epoch</th>\n",
       "    <th>train_loss</th>\n",
       "    <th>valid_loss</th>\n",
       "    <th>accuracy</th>\n",
       "  </tr>\n",
       "  <tr>\n",
       "    <th>1</th>\n",
       "    <th>0.461036</th>\n",
       "    <th>0.490110</th>\n",
       "    <th>0.758571</th>\n",
       "  </tr>\n",
       "  <tr>\n",
       "    <th>2</th>\n",
       "    <th>0.459241</th>\n",
       "    <th>0.482985</th>\n",
       "    <th>0.764571</th>\n",
       "  </tr>\n",
       "</table>\n"
      ],
      "text/plain": [
       "<IPython.core.display.HTML object>"
      ]
     },
     "metadata": {},
     "output_type": "display_data"
    }
   ],
   "source": [
    "# 2nd iter model on size 224\n",
    "files, labels = train_files_all[1], train_label\n",
    "path = 'home/ubuntu/Documents/ELA2/'\n",
    "fname2label = {f:l for (f,l) in zip(files, labels)}\n",
    "src = ImageItemList(files, path=path).random_split_by_pct(valid_pct=0.25, seed=42).label_from_func(lambda x:fname2label[x])\n",
    "tfms = get_transforms()\n",
    "tfms = (tfms[0][1:],[])\n",
    "data = ImageDataBunch.create_from_ll(src, size = 224, test = 'test', bs = 64, ds_tfms = tfms)\n",
    "learn = create_cnn(data, resnet34, pretrained=True, metrics = accuracy)\n",
    "learn.load('ela2_prsz_224_unfrz_set0')\n",
    "learn.fit_one_cycle(4)\n",
    "learn.save('ela2_prsz_224_frz_set1')\n",
    "learn.unfreeze()\n",
    "learn.fit_one_cycle(2, max_lr = slice(1e-5,1e-4))\n",
    "learn.fit_one_cycle(2, max_lr = slice(5e-6,1e-5))\n",
    "learn.save('ela2_prsz_224_unfrz_set1')\n"
   ]
  },
  {
   "cell_type": "code",
   "execution_count": 35,
   "metadata": {},
   "outputs": [
    {
     "data": {
      "text/html": [
       "Total time: 05:33 <p><table style='width:300px; margin-bottom:10px'>\n",
       "  <tr>\n",
       "    <th>epoch</th>\n",
       "    <th>train_loss</th>\n",
       "    <th>valid_loss</th>\n",
       "    <th>accuracy</th>\n",
       "  </tr>\n",
       "  <tr>\n",
       "    <th>1</th>\n",
       "    <th>0.458445</th>\n",
       "    <th>0.495060</th>\n",
       "    <th>0.770857</th>\n",
       "  </tr>\n",
       "  <tr>\n",
       "    <th>2</th>\n",
       "    <th>0.457484</th>\n",
       "    <th>0.482811</th>\n",
       "    <th>0.770571</th>\n",
       "  </tr>\n",
       "  <tr>\n",
       "    <th>3</th>\n",
       "    <th>0.451893</th>\n",
       "    <th>0.500084</th>\n",
       "    <th>0.760857</th>\n",
       "  </tr>\n",
       "  <tr>\n",
       "    <th>4</th>\n",
       "    <th>0.448551</th>\n",
       "    <th>0.487775</th>\n",
       "    <th>0.769429</th>\n",
       "  </tr>\n",
       "</table>\n"
      ],
      "text/plain": [
       "<IPython.core.display.HTML object>"
      ]
     },
     "metadata": {},
     "output_type": "display_data"
    },
    {
     "data": {
      "text/html": [
       "Total time: 03:53 <p><table style='width:300px; margin-bottom:10px'>\n",
       "  <tr>\n",
       "    <th>epoch</th>\n",
       "    <th>train_loss</th>\n",
       "    <th>valid_loss</th>\n",
       "    <th>accuracy</th>\n",
       "  </tr>\n",
       "  <tr>\n",
       "    <th>1</th>\n",
       "    <th>0.463320</th>\n",
       "    <th>0.483189</th>\n",
       "    <th>0.773714</th>\n",
       "  </tr>\n",
       "  <tr>\n",
       "    <th>2</th>\n",
       "    <th>0.444985</th>\n",
       "    <th>0.482079</th>\n",
       "    <th>0.771429</th>\n",
       "  </tr>\n",
       "</table>\n"
      ],
      "text/plain": [
       "<IPython.core.display.HTML object>"
      ]
     },
     "metadata": {},
     "output_type": "display_data"
    },
    {
     "data": {
      "text/html": [
       "Total time: 03:53 <p><table style='width:300px; margin-bottom:10px'>\n",
       "  <tr>\n",
       "    <th>epoch</th>\n",
       "    <th>train_loss</th>\n",
       "    <th>valid_loss</th>\n",
       "    <th>accuracy</th>\n",
       "  </tr>\n",
       "  <tr>\n",
       "    <th>1</th>\n",
       "    <th>0.448058</th>\n",
       "    <th>0.480700</th>\n",
       "    <th>0.772857</th>\n",
       "  </tr>\n",
       "  <tr>\n",
       "    <th>2</th>\n",
       "    <th>0.445798</th>\n",
       "    <th>0.483240</th>\n",
       "    <th>0.771143</th>\n",
       "  </tr>\n",
       "</table>\n"
      ],
      "text/plain": [
       "<IPython.core.display.HTML object>"
      ]
     },
     "metadata": {},
     "output_type": "display_data"
    }
   ],
   "source": [
    "# 3rd iter model on size 224\n",
    "files, labels = train_files_all[2], train_label\n",
    "path = 'home/ubuntu/Documents/ELA2/'\n",
    "fname2label = {f:l for (f,l) in zip(files, labels)}\n",
    "src = ImageItemList(files, path=path).random_split_by_pct(valid_pct=0.25, seed=42).label_from_func(lambda x:fname2label[x])\n",
    "tfms = get_transforms()\n",
    "tfms = (tfms[0][1:],[])\n",
    "data = ImageDataBunch.create_from_ll(src, size = 224, test = 'test', bs = 64, ds_tfms = tfms)\n",
    "learn = create_cnn(data, resnet34, pretrained=True, metrics = accuracy)\n",
    "learn.load('ela2_prsz_224_unfrz_set1')\n",
    "learn.fit_one_cycle(4)\n",
    "learn.save('ela2_prsz_224_frz_set2')\n",
    "learn.unfreeze()\n",
    "learn.fit_one_cycle(2, max_lr = slice(1e-5,1e-4))\n",
    "learn.fit_one_cycle(2, max_lr = slice(5e-6,1e-5))\n",
    "learn.save('ela2_prsz_224_unfrz_set2')\n"
   ]
  },
  {
   "cell_type": "code",
   "execution_count": 36,
   "metadata": {},
   "outputs": [
    {
     "data": {
      "text/html": [
       "Total time: 10:39 <p><table style='width:300px; margin-bottom:10px'>\n",
       "  <tr>\n",
       "    <th>epoch</th>\n",
       "    <th>train_loss</th>\n",
       "    <th>valid_loss</th>\n",
       "    <th>accuracy</th>\n",
       "  </tr>\n",
       "  <tr>\n",
       "    <th>1</th>\n",
       "    <th>0.456077</th>\n",
       "    <th>0.469530</th>\n",
       "    <th>0.782571</th>\n",
       "  </tr>\n",
       "  <tr>\n",
       "    <th>2</th>\n",
       "    <th>0.460838</th>\n",
       "    <th>0.467895</th>\n",
       "    <th>0.782857</th>\n",
       "  </tr>\n",
       "  <tr>\n",
       "    <th>3</th>\n",
       "    <th>0.459286</th>\n",
       "    <th>0.464442</th>\n",
       "    <th>0.785143</th>\n",
       "  </tr>\n",
       "  <tr>\n",
       "    <th>4</th>\n",
       "    <th>0.442363</th>\n",
       "    <th>0.465460</th>\n",
       "    <th>0.783429</th>\n",
       "  </tr>\n",
       "</table>\n"
      ],
      "text/plain": [
       "<IPython.core.display.HTML object>"
      ]
     },
     "metadata": {},
     "output_type": "display_data"
    },
    {
     "data": {
      "text/html": [
       "Total time: 07:09 <p><table style='width:300px; margin-bottom:10px'>\n",
       "  <tr>\n",
       "    <th>epoch</th>\n",
       "    <th>train_loss</th>\n",
       "    <th>valid_loss</th>\n",
       "    <th>accuracy</th>\n",
       "  </tr>\n",
       "  <tr>\n",
       "    <th>1</th>\n",
       "    <th>0.460074</th>\n",
       "    <th>0.470524</th>\n",
       "    <th>0.780286</th>\n",
       "  </tr>\n",
       "  <tr>\n",
       "    <th>2</th>\n",
       "    <th>0.448075</th>\n",
       "    <th>0.467222</th>\n",
       "    <th>0.783429</th>\n",
       "  </tr>\n",
       "</table>\n"
      ],
      "text/plain": [
       "<IPython.core.display.HTML object>"
      ]
     },
     "metadata": {},
     "output_type": "display_data"
    },
    {
     "data": {
      "text/html": [
       "Total time: 07:07 <p><table style='width:300px; margin-bottom:10px'>\n",
       "  <tr>\n",
       "    <th>epoch</th>\n",
       "    <th>train_loss</th>\n",
       "    <th>valid_loss</th>\n",
       "    <th>accuracy</th>\n",
       "  </tr>\n",
       "  <tr>\n",
       "    <th>1</th>\n",
       "    <th>0.424523</th>\n",
       "    <th>0.465925</th>\n",
       "    <th>0.785429</th>\n",
       "  </tr>\n",
       "  <tr>\n",
       "    <th>2</th>\n",
       "    <th>0.439334</th>\n",
       "    <th>0.467333</th>\n",
       "    <th>0.784571</th>\n",
       "  </tr>\n",
       "</table>\n"
      ],
      "text/plain": [
       "<IPython.core.display.HTML object>"
      ]
     },
     "metadata": {},
     "output_type": "display_data"
    }
   ],
   "source": [
    "# 1st iter model on size 299\n",
    "files, labels = train_files_all[0], train_label\n",
    "path = 'home/ubuntu/Documents/ELA2/'\n",
    "fname2label = {f:l for (f,l) in zip(files, labels)}\n",
    "src = ImageItemList(files, path=path).random_split_by_pct(valid_pct=0.25, seed=42).label_from_func(lambda x:fname2label[x])\n",
    "tfms = get_transforms()\n",
    "tfms = (tfms[0][1:],[])\n",
    "data = ImageDataBunch.create_from_ll(src, size = 299, test = 'test', bs = 64, ds_tfms = tfms)\n",
    "learn = create_cnn(data, resnet34, pretrained=True, metrics = accuracy)\n",
    "learn.load('ela2_prsz_224_unfrz_set2')\n",
    "learn.fit_one_cycle(4)\n",
    "learn.save('ela2_prsz_299_frz_set0')\n",
    "learn.unfreeze()\n",
    "learn.fit_one_cycle(2, max_lr = slice(1e-5,1e-4))\n",
    "learn.fit_one_cycle(2, max_lr = slice(5e-6,1e-5))\n",
    "learn.save('ela2_prsz_299_unfrz_set0')\n"
   ]
  },
  {
   "cell_type": "code",
   "execution_count": 37,
   "metadata": {},
   "outputs": [
    {
     "data": {
      "text/html": [
       "Total time: 10:33 <p><table style='width:300px; margin-bottom:10px'>\n",
       "  <tr>\n",
       "    <th>epoch</th>\n",
       "    <th>train_loss</th>\n",
       "    <th>valid_loss</th>\n",
       "    <th>accuracy</th>\n",
       "  </tr>\n",
       "  <tr>\n",
       "    <th>1</th>\n",
       "    <th>0.454746</th>\n",
       "    <th>0.471391</th>\n",
       "    <th>0.775143</th>\n",
       "  </tr>\n",
       "  <tr>\n",
       "    <th>2</th>\n",
       "    <th>0.442271</th>\n",
       "    <th>0.470967</th>\n",
       "    <th>0.778857</th>\n",
       "  </tr>\n",
       "  <tr>\n",
       "    <th>3</th>\n",
       "    <th>0.441257</th>\n",
       "    <th>0.470947</th>\n",
       "    <th>0.778286</th>\n",
       "  </tr>\n",
       "  <tr>\n",
       "    <th>4</th>\n",
       "    <th>0.439012</th>\n",
       "    <th>0.471762</th>\n",
       "    <th>0.780857</th>\n",
       "  </tr>\n",
       "</table>\n"
      ],
      "text/plain": [
       "<IPython.core.display.HTML object>"
      ]
     },
     "metadata": {},
     "output_type": "display_data"
    },
    {
     "data": {
      "text/html": [
       "Total time: 07:08 <p><table style='width:300px; margin-bottom:10px'>\n",
       "  <tr>\n",
       "    <th>epoch</th>\n",
       "    <th>train_loss</th>\n",
       "    <th>valid_loss</th>\n",
       "    <th>accuracy</th>\n",
       "  </tr>\n",
       "  <tr>\n",
       "    <th>1</th>\n",
       "    <th>0.452828</th>\n",
       "    <th>0.487525</th>\n",
       "    <th>0.765429</th>\n",
       "  </tr>\n",
       "  <tr>\n",
       "    <th>2</th>\n",
       "    <th>0.426538</th>\n",
       "    <th>0.473686</th>\n",
       "    <th>0.777143</th>\n",
       "  </tr>\n",
       "</table>\n"
      ],
      "text/plain": [
       "<IPython.core.display.HTML object>"
      ]
     },
     "metadata": {},
     "output_type": "display_data"
    },
    {
     "data": {
      "text/html": [
       "Total time: 07:07 <p><table style='width:300px; margin-bottom:10px'>\n",
       "  <tr>\n",
       "    <th>epoch</th>\n",
       "    <th>train_loss</th>\n",
       "    <th>valid_loss</th>\n",
       "    <th>accuracy</th>\n",
       "  </tr>\n",
       "  <tr>\n",
       "    <th>1</th>\n",
       "    <th>0.431918</th>\n",
       "    <th>0.478344</th>\n",
       "    <th>0.776571</th>\n",
       "  </tr>\n",
       "  <tr>\n",
       "    <th>2</th>\n",
       "    <th>0.417714</th>\n",
       "    <th>0.476806</th>\n",
       "    <th>0.777429</th>\n",
       "  </tr>\n",
       "</table>\n"
      ],
      "text/plain": [
       "<IPython.core.display.HTML object>"
      ]
     },
     "metadata": {},
     "output_type": "display_data"
    }
   ],
   "source": [
    "# 2nd iter model on size 299\n",
    "files, labels = train_files_all[1], train_label\n",
    "path = 'home/ubuntu/Documents/ELA2/'\n",
    "fname2label = {f:l for (f,l) in zip(files, labels)}\n",
    "src = ImageItemList(files, path=path).random_split_by_pct(valid_pct=0.25, seed=42).label_from_func(lambda x:fname2label[x])\n",
    "tfms = get_transforms()\n",
    "tfms = (tfms[0][1:],[])\n",
    "data = ImageDataBunch.create_from_ll(src, size = 299, test = 'test', bs = 64, ds_tfms = tfms)\n",
    "learn = create_cnn(data, resnet34, pretrained=True, metrics = accuracy)\n",
    "learn.load('ela2_prsz_299_unfrz_set0')\n",
    "learn.fit_one_cycle(4)\n",
    "learn.save('ela2_prsz_299_frz_set1')\n",
    "learn.unfreeze()\n",
    "learn.fit_one_cycle(2, max_lr = slice(1e-5,1e-4))\n",
    "learn.fit_one_cycle(2, max_lr = slice(5e-6,1e-5))\n",
    "learn.save('ela2_prsz_299_unfrz_set1')\n"
   ]
  },
  {
   "cell_type": "code",
   "execution_count": 38,
   "metadata": {},
   "outputs": [
    {
     "data": {
      "text/html": [
       "Total time: 10:34 <p><table style='width:300px; margin-bottom:10px'>\n",
       "  <tr>\n",
       "    <th>epoch</th>\n",
       "    <th>train_loss</th>\n",
       "    <th>valid_loss</th>\n",
       "    <th>accuracy</th>\n",
       "  </tr>\n",
       "  <tr>\n",
       "    <th>1</th>\n",
       "    <th>0.430627</th>\n",
       "    <th>0.480224</th>\n",
       "    <th>0.775429</th>\n",
       "  </tr>\n",
       "  <tr>\n",
       "    <th>2</th>\n",
       "    <th>0.440238</th>\n",
       "    <th>0.477205</th>\n",
       "    <th>0.778857</th>\n",
       "  </tr>\n",
       "  <tr>\n",
       "    <th>3</th>\n",
       "    <th>0.430465</th>\n",
       "    <th>0.478991</th>\n",
       "    <th>0.779714</th>\n",
       "  </tr>\n",
       "  <tr>\n",
       "    <th>4</th>\n",
       "    <th>0.425552</th>\n",
       "    <th>0.477765</th>\n",
       "    <th>0.778857</th>\n",
       "  </tr>\n",
       "</table>\n"
      ],
      "text/plain": [
       "<IPython.core.display.HTML object>"
      ]
     },
     "metadata": {},
     "output_type": "display_data"
    },
    {
     "data": {
      "text/html": [
       "Total time: 07:08 <p><table style='width:300px; margin-bottom:10px'>\n",
       "  <tr>\n",
       "    <th>epoch</th>\n",
       "    <th>train_loss</th>\n",
       "    <th>valid_loss</th>\n",
       "    <th>accuracy</th>\n",
       "  </tr>\n",
       "  <tr>\n",
       "    <th>1</th>\n",
       "    <th>0.436265</th>\n",
       "    <th>0.476740</th>\n",
       "    <th>0.781143</th>\n",
       "  </tr>\n",
       "  <tr>\n",
       "    <th>2</th>\n",
       "    <th>0.415353</th>\n",
       "    <th>0.475092</th>\n",
       "    <th>0.782000</th>\n",
       "  </tr>\n",
       "</table>\n"
      ],
      "text/plain": [
       "<IPython.core.display.HTML object>"
      ]
     },
     "metadata": {},
     "output_type": "display_data"
    },
    {
     "name": "stderr",
     "output_type": "stream",
     "text": [
      "Exception ignored in: <bound method _DataLoaderIter.__del__ of <torch.utils.data.dataloader._DataLoaderIter object at 0x7f26c8dd57f0>>\n",
      "Traceback (most recent call last):\n",
      "  File \"/opt/anaconda3/lib/python3.6/site-packages/torch/utils/data/dataloader.py\", line 717, in __del__\n",
      "    self._shutdown_workers()\n",
      "  File \"/opt/anaconda3/lib/python3.6/site-packages/torch/utils/data/dataloader.py\", line 713, in _shutdown_workers\n",
      "    w.join()\n",
      "  File \"/opt/anaconda3/lib/python3.6/multiprocessing/process.py\", line 122, in join\n",
      "    assert self._parent_pid == os.getpid(), 'can only join a child process'\n",
      "AssertionError: can only join a child process\n",
      "Exception ignored in: <bound method _DataLoaderIter.__del__ of <torch.utils.data.dataloader._DataLoaderIter object at 0x7f26c8dd57f0>>\n",
      "Traceback (most recent call last):\n",
      "  File \"/opt/anaconda3/lib/python3.6/site-packages/torch/utils/data/dataloader.py\", line 717, in __del__\n",
      "    self._shutdown_workers()\n",
      "  File \"/opt/anaconda3/lib/python3.6/site-packages/torch/utils/data/dataloader.py\", line 713, in _shutdown_workers\n",
      "    w.join()\n",
      "  File \"/opt/anaconda3/lib/python3.6/multiprocessing/process.py\", line 122, in join\n",
      "    assert self._parent_pid == os.getpid(), 'can only join a child process'\n",
      "AssertionError: can only join a child process\n",
      "Exception ignored in: <bound method _DataLoaderIter.__del__ of <torch.utils.data.dataloader._DataLoaderIter object at 0x7f26c8dd57f0>>\n",
      "Traceback (most recent call last):\n",
      "  File \"/opt/anaconda3/lib/python3.6/site-packages/torch/utils/data/dataloader.py\", line 717, in __del__\n",
      "    self._shutdown_workers()\n",
      "  File \"/opt/anaconda3/lib/python3.6/site-packages/torch/utils/data/dataloader.py\", line 713, in _shutdown_workers\n",
      "    w.join()\n",
      "  File \"/opt/anaconda3/lib/python3.6/multiprocessing/process.py\", line 122, in join\n",
      "    assert self._parent_pid == os.getpid(), 'can only join a child process'\n",
      "AssertionError: can only join a child process\n",
      "Exception ignored in: <bound method _DataLoaderIter.__del__ of <torch.utils.data.dataloader._DataLoaderIter object at 0x7f26c8dd57f0>>\n",
      "Traceback (most recent call last):\n",
      "  File \"/opt/anaconda3/lib/python3.6/site-packages/torch/utils/data/dataloader.py\", line 717, in __del__\n",
      "    self._shutdown_workers()\n",
      "  File \"/opt/anaconda3/lib/python3.6/site-packages/torch/utils/data/dataloader.py\", line 713, in _shutdown_workers\n",
      "    w.join()\n",
      "  File \"/opt/anaconda3/lib/python3.6/multiprocessing/process.py\", line 122, in join\n",
      "    assert self._parent_pid == os.getpid(), 'can only join a child process'\n",
      "AssertionError: can only join a child process\n",
      "Exception ignored in: <bound method _DataLoaderIter.__del__ of <torch.utils.data.dataloader._DataLoaderIter object at 0x7f26c8dd57f0>>\n",
      "Traceback (most recent call last):\n",
      "  File \"/opt/anaconda3/lib/python3.6/site-packages/torch/utils/data/dataloader.py\", line 717, in __del__\n",
      "    self._shutdown_workers()\n",
      "  File \"/opt/anaconda3/lib/python3.6/site-packages/torch/utils/data/dataloader.py\", line 713, in _shutdown_workers\n",
      "    w.join()\n",
      "  File \"/opt/anaconda3/lib/python3.6/multiprocessing/process.py\", line 122, in join\n",
      "    assert self._parent_pid == os.getpid(), 'can only join a child process'\n",
      "AssertionError: can only join a child process\n",
      "Exception ignored in: <bound method _DataLoaderIter.__del__ of <torch.utils.data.dataloader._DataLoaderIter object at 0x7f26c8dd57f0>>\n",
      "Traceback (most recent call last):\n",
      "  File \"/opt/anaconda3/lib/python3.6/site-packages/torch/utils/data/dataloader.py\", line 717, in __del__\n",
      "    self._shutdown_workers()\n",
      "  File \"/opt/anaconda3/lib/python3.6/site-packages/torch/utils/data/dataloader.py\", line 713, in _shutdown_workers\n",
      "    w.join()\n",
      "  File \"/opt/anaconda3/lib/python3.6/multiprocessing/process.py\", line 122, in join\n",
      "    assert self._parent_pid == os.getpid(), 'can only join a child process'\n",
      "AssertionError: can only join a child process\n",
      "Exception ignored in: <bound method _DataLoaderIter.__del__ of <torch.utils.data.dataloader._DataLoaderIter object at 0x7f26c8dd57f0>>\n",
      "Traceback (most recent call last):\n",
      "  File \"/opt/anaconda3/lib/python3.6/site-packages/torch/utils/data/dataloader.py\", line 717, in __del__\n",
      "    self._shutdown_workers()\n",
      "  File \"/opt/anaconda3/lib/python3.6/site-packages/torch/utils/data/dataloader.py\", line 713, in _shutdown_workers\n",
      "    w.join()\n",
      "  File \"/opt/anaconda3/lib/python3.6/multiprocessing/process.py\", line 122, in join\n",
      "    assert self._parent_pid == os.getpid(), 'can only join a child process'\n",
      "AssertionError: can only join a child process\n",
      "Exception ignored in: <bound method _DataLoaderIter.__del__ of <torch.utils.data.dataloader._DataLoaderIter object at 0x7f26c8dd57f0>>\n",
      "Traceback (most recent call last):\n",
      "  File \"/opt/anaconda3/lib/python3.6/site-packages/torch/utils/data/dataloader.py\", line 717, in __del__\n",
      "    self._shutdown_workers()\n",
      "  File \"/opt/anaconda3/lib/python3.6/site-packages/torch/utils/data/dataloader.py\", line 713, in _shutdown_workers\n",
      "    w.join()\n",
      "  File \"/opt/anaconda3/lib/python3.6/multiprocessing/process.py\", line 122, in join\n",
      "    assert self._parent_pid == os.getpid(), 'can only join a child process'\n",
      "AssertionError: can only join a child process\n"
     ]
    },
    {
     "data": {
      "text/html": [
       "Total time: 07:08 <p><table style='width:300px; margin-bottom:10px'>\n",
       "  <tr>\n",
       "    <th>epoch</th>\n",
       "    <th>train_loss</th>\n",
       "    <th>valid_loss</th>\n",
       "    <th>accuracy</th>\n",
       "  </tr>\n",
       "  <tr>\n",
       "    <th>1</th>\n",
       "    <th>0.407751</th>\n",
       "    <th>0.475758</th>\n",
       "    <th>0.777714</th>\n",
       "  </tr>\n",
       "  <tr>\n",
       "    <th>2</th>\n",
       "    <th>0.406571</th>\n",
       "    <th>0.476755</th>\n",
       "    <th>0.779429</th>\n",
       "  </tr>\n",
       "</table>\n"
      ],
      "text/plain": [
       "<IPython.core.display.HTML object>"
      ]
     },
     "metadata": {},
     "output_type": "display_data"
    },
    {
     "name": "stderr",
     "output_type": "stream",
     "text": [
      "Exception ignored in: <bound method _DataLoaderIter.__del__ of <torch.utils.data.dataloader._DataLoaderIter object at 0x7f26c8dd57f0>>\n",
      "Traceback (most recent call last):\n",
      "  File \"/opt/anaconda3/lib/python3.6/site-packages/torch/utils/data/dataloader.py\", line 717, in __del__\n",
      "    self._shutdown_workers()\n",
      "  File \"/opt/anaconda3/lib/python3.6/site-packages/torch/utils/data/dataloader.py\", line 713, in _shutdown_workers\n",
      "    w.join()\n",
      "  File \"/opt/anaconda3/lib/python3.6/multiprocessing/process.py\", line 122, in join\n",
      "    assert self._parent_pid == os.getpid(), 'can only join a child process'\n",
      "AssertionError: can only join a child process\n",
      "Exception ignored in: <bound method _DataLoaderIter.__del__ of <torch.utils.data.dataloader._DataLoaderIter object at 0x7f26c8dd57f0>>\n",
      "Traceback (most recent call last):\n",
      "  File \"/opt/anaconda3/lib/python3.6/site-packages/torch/utils/data/dataloader.py\", line 717, in __del__\n",
      "    self._shutdown_workers()\n",
      "  File \"/opt/anaconda3/lib/python3.6/site-packages/torch/utils/data/dataloader.py\", line 713, in _shutdown_workers\n",
      "    w.join()\n",
      "  File \"/opt/anaconda3/lib/python3.6/multiprocessing/process.py\", line 122, in join\n",
      "    assert self._parent_pid == os.getpid(), 'can only join a child process'\n",
      "AssertionError: can only join a child process\n",
      "Exception ignored in: <bound method _DataLoaderIter.__del__ of <torch.utils.data.dataloader._DataLoaderIter object at 0x7f26c8dd57f0>>\n",
      "Traceback (most recent call last):\n",
      "  File \"/opt/anaconda3/lib/python3.6/site-packages/torch/utils/data/dataloader.py\", line 717, in __del__\n",
      "    self._shutdown_workers()\n",
      "  File \"/opt/anaconda3/lib/python3.6/site-packages/torch/utils/data/dataloader.py\", line 713, in _shutdown_workers\n",
      "    w.join()\n",
      "  File \"/opt/anaconda3/lib/python3.6/multiprocessing/process.py\", line 122, in join\n",
      "    assert self._parent_pid == os.getpid(), 'can only join a child process'\n",
      "AssertionError: can only join a child process\n",
      "Exception ignored in: <bound method _DataLoaderIter.__del__ of <torch.utils.data.dataloader._DataLoaderIter object at 0x7f26c8dd57f0>>\n",
      "Traceback (most recent call last):\n",
      "  File \"/opt/anaconda3/lib/python3.6/site-packages/torch/utils/data/dataloader.py\", line 717, in __del__\n",
      "    self._shutdown_workers()\n",
      "  File \"/opt/anaconda3/lib/python3.6/site-packages/torch/utils/data/dataloader.py\", line 713, in _shutdown_workers\n",
      "    w.join()\n",
      "  File \"/opt/anaconda3/lib/python3.6/multiprocessing/process.py\", line 122, in join\n",
      "    assert self._parent_pid == os.getpid(), 'can only join a child process'\n",
      "AssertionError: can only join a child process\n",
      "Exception ignored in: <bound method _DataLoaderIter.__del__ of <torch.utils.data.dataloader._DataLoaderIter object at 0x7f26c8dd57f0>>\n",
      "Traceback (most recent call last):\n",
      "  File \"/opt/anaconda3/lib/python3.6/site-packages/torch/utils/data/dataloader.py\", line 717, in __del__\n",
      "    self._shutdown_workers()\n",
      "  File \"/opt/anaconda3/lib/python3.6/site-packages/torch/utils/data/dataloader.py\", line 713, in _shutdown_workers\n",
      "    w.join()\n",
      "  File \"/opt/anaconda3/lib/python3.6/multiprocessing/process.py\", line 122, in join\n",
      "    assert self._parent_pid == os.getpid(), 'can only join a child process'\n",
      "AssertionError: can only join a child process\n",
      "Exception ignored in: <bound method _DataLoaderIter.__del__ of <torch.utils.data.dataloader._DataLoaderIter object at 0x7f26c8dd57f0>>\n",
      "Traceback (most recent call last):\n",
      "  File \"/opt/anaconda3/lib/python3.6/site-packages/torch/utils/data/dataloader.py\", line 717, in __del__\n",
      "    self._shutdown_workers()\n",
      "  File \"/opt/anaconda3/lib/python3.6/site-packages/torch/utils/data/dataloader.py\", line 713, in _shutdown_workers\n",
      "    w.join()\n",
      "  File \"/opt/anaconda3/lib/python3.6/multiprocessing/process.py\", line 122, in join\n",
      "    assert self._parent_pid == os.getpid(), 'can only join a child process'\n",
      "AssertionError: can only join a child process\n",
      "Exception ignored in: <bound method _DataLoaderIter.__del__ of <torch.utils.data.dataloader._DataLoaderIter object at 0x7f26c8dd57f0>>\n",
      "Traceback (most recent call last):\n",
      "  File \"/opt/anaconda3/lib/python3.6/site-packages/torch/utils/data/dataloader.py\", line 717, in __del__\n",
      "    self._shutdown_workers()\n",
      "  File \"/opt/anaconda3/lib/python3.6/site-packages/torch/utils/data/dataloader.py\", line 713, in _shutdown_workers\n",
      "    w.join()\n",
      "  File \"/opt/anaconda3/lib/python3.6/multiprocessing/process.py\", line 122, in join\n",
      "    assert self._parent_pid == os.getpid(), 'can only join a child process'\n",
      "AssertionError: can only join a child process\n",
      "Exception ignored in: <bound method _DataLoaderIter.__del__ of <torch.utils.data.dataloader._DataLoaderIter object at 0x7f26c8dd57f0>>\n",
      "Traceback (most recent call last):\n",
      "  File \"/opt/anaconda3/lib/python3.6/site-packages/torch/utils/data/dataloader.py\", line 717, in __del__\n",
      "    self._shutdown_workers()\n",
      "  File \"/opt/anaconda3/lib/python3.6/site-packages/torch/utils/data/dataloader.py\", line 713, in _shutdown_workers\n",
      "    w.join()\n",
      "  File \"/opt/anaconda3/lib/python3.6/multiprocessing/process.py\", line 122, in join\n",
      "    assert self._parent_pid == os.getpid(), 'can only join a child process'\n",
      "AssertionError: can only join a child process\n"
     ]
    }
   ],
   "source": [
    "# 3rd iter model on size 299\n",
    "files, labels = train_files_all[2], train_label\n",
    "path = 'home/ubuntu/Documents/ELA2/'\n",
    "fname2label = {f:l for (f,l) in zip(files, labels)}\n",
    "src = ImageItemList(files, path=path).random_split_by_pct(valid_pct=0.25, seed=42).label_from_func(lambda x:fname2label[x])\n",
    "tfms = get_transforms()\n",
    "tfms = (tfms[0][1:],[])\n",
    "data = ImageDataBunch.create_from_ll(src, size = 299, test = 'test', bs = 64, ds_tfms = tfms)\n",
    "learn = create_cnn(data, resnet34, pretrained=True, metrics = accuracy)\n",
    "learn.load('ela2_prsz_299_unfrz_set1')\n",
    "learn.fit_one_cycle(4)\n",
    "learn.save('ela2_prsz_299_frz_set2')\n",
    "learn.unfreeze()\n",
    "learn.fit_one_cycle(2, max_lr = slice(1e-5,1e-4))\n",
    "learn.fit_one_cycle(2, max_lr = slice(5e-6,1e-5))\n",
    "learn.save('ela2_prsz_299_unfrz_set2')\n"
   ]
  },
  {
   "cell_type": "code",
   "execution_count": 91,
   "metadata": {},
   "outputs": [
    {
     "name": "stdout",
     "output_type": "stream",
     "text": [
      "You can deactivate this warning by passing `no_check=True`.\n"
     ]
    },
    {
     "name": "stderr",
     "output_type": "stream",
     "text": [
      "/opt/anaconda3/lib/python3.6/site-packages/fastai/basic_data.py:211: UserWarning: Your training dataloader is empty, you have only 43 items in your training set.\n",
      "                 Your batch size is 64, you should lower it.\n",
      "  Your batch size is {self.train_dl.batch_size}, you should lower it.\"\"\")\n"
     ]
    }
   ],
   "source": [
    "# Test on the holdout validation set.\n",
    "fname2label = {f:l for (f,l) in zip(val_files, val_label)}\n",
    "src = ImageItemList(val_files, path=path).random_split_by_pct(valid_pct=0.99, seed=42).label_from_func(lambda x:fname2label[x])\n",
    "tfms = get_transforms()\n",
    "tfms = (tfms[0][1:],[])\n",
    "data = ImageDataBunch.create_from_ll(src, size = 299, bs = 64, ds_tfms = tfms)"
   ]
  },
  {
   "cell_type": "code",
   "execution_count": 92,
   "metadata": {},
   "outputs": [
    {
     "data": {
      "text/plain": [
       "Learner(data=ImageDataBunch;\n",
       "\n",
       "Train: LabelList\n",
       "y: CategoryList (43 items)\n",
       "[Category real, Category real, Category real, Category real, Category real]...\n",
       "Path: /home/ubuntu/Documents/ELA\n",
       "x: ImageItemList (43 items)\n",
       "[Image (3, 224, 224), Image (3, 224, 224), Image (3, 224, 224), Image (3, 224, 224), Image (3, 224, 224)]...\n",
       "Path: /home/ubuntu/Documents/ELA;\n",
       "\n",
       "Valid: LabelList\n",
       "y: CategoryList (4217 items)\n",
       "[Category fake, Category fake, Category fake, Category fake, Category fake]...\n",
       "Path: /home/ubuntu/Documents/ELA\n",
       "x: ImageItemList (4217 items)\n",
       "[Image (3, 224, 224), Image (3, 224, 224), Image (3, 224, 224), Image (3, 224, 224), Image (3, 224, 224)]...\n",
       "Path: /home/ubuntu/Documents/ELA;\n",
       "\n",
       "Test: None, model=Sequential(\n",
       "  (0): Sequential(\n",
       "    (0): Conv2d(3, 64, kernel_size=(7, 7), stride=(2, 2), padding=(3, 3), bias=False)\n",
       "    (1): BatchNorm2d(64, eps=1e-05, momentum=0.1, affine=True, track_running_stats=True)\n",
       "    (2): ReLU(inplace)\n",
       "    (3): MaxPool2d(kernel_size=3, stride=2, padding=1, dilation=1, ceil_mode=False)\n",
       "    (4): Sequential(\n",
       "      (0): BasicBlock(\n",
       "        (conv1): Conv2d(64, 64, kernel_size=(3, 3), stride=(1, 1), padding=(1, 1), bias=False)\n",
       "        (bn1): BatchNorm2d(64, eps=1e-05, momentum=0.1, affine=True, track_running_stats=True)\n",
       "        (relu): ReLU(inplace)\n",
       "        (conv2): Conv2d(64, 64, kernel_size=(3, 3), stride=(1, 1), padding=(1, 1), bias=False)\n",
       "        (bn2): BatchNorm2d(64, eps=1e-05, momentum=0.1, affine=True, track_running_stats=True)\n",
       "      )\n",
       "      (1): BasicBlock(\n",
       "        (conv1): Conv2d(64, 64, kernel_size=(3, 3), stride=(1, 1), padding=(1, 1), bias=False)\n",
       "        (bn1): BatchNorm2d(64, eps=1e-05, momentum=0.1, affine=True, track_running_stats=True)\n",
       "        (relu): ReLU(inplace)\n",
       "        (conv2): Conv2d(64, 64, kernel_size=(3, 3), stride=(1, 1), padding=(1, 1), bias=False)\n",
       "        (bn2): BatchNorm2d(64, eps=1e-05, momentum=0.1, affine=True, track_running_stats=True)\n",
       "      )\n",
       "      (2): BasicBlock(\n",
       "        (conv1): Conv2d(64, 64, kernel_size=(3, 3), stride=(1, 1), padding=(1, 1), bias=False)\n",
       "        (bn1): BatchNorm2d(64, eps=1e-05, momentum=0.1, affine=True, track_running_stats=True)\n",
       "        (relu): ReLU(inplace)\n",
       "        (conv2): Conv2d(64, 64, kernel_size=(3, 3), stride=(1, 1), padding=(1, 1), bias=False)\n",
       "        (bn2): BatchNorm2d(64, eps=1e-05, momentum=0.1, affine=True, track_running_stats=True)\n",
       "      )\n",
       "    )\n",
       "    (5): Sequential(\n",
       "      (0): BasicBlock(\n",
       "        (conv1): Conv2d(64, 128, kernel_size=(3, 3), stride=(2, 2), padding=(1, 1), bias=False)\n",
       "        (bn1): BatchNorm2d(128, eps=1e-05, momentum=0.1, affine=True, track_running_stats=True)\n",
       "        (relu): ReLU(inplace)\n",
       "        (conv2): Conv2d(128, 128, kernel_size=(3, 3), stride=(1, 1), padding=(1, 1), bias=False)\n",
       "        (bn2): BatchNorm2d(128, eps=1e-05, momentum=0.1, affine=True, track_running_stats=True)\n",
       "        (downsample): Sequential(\n",
       "          (0): Conv2d(64, 128, kernel_size=(1, 1), stride=(2, 2), bias=False)\n",
       "          (1): BatchNorm2d(128, eps=1e-05, momentum=0.1, affine=True, track_running_stats=True)\n",
       "        )\n",
       "      )\n",
       "      (1): BasicBlock(\n",
       "        (conv1): Conv2d(128, 128, kernel_size=(3, 3), stride=(1, 1), padding=(1, 1), bias=False)\n",
       "        (bn1): BatchNorm2d(128, eps=1e-05, momentum=0.1, affine=True, track_running_stats=True)\n",
       "        (relu): ReLU(inplace)\n",
       "        (conv2): Conv2d(128, 128, kernel_size=(3, 3), stride=(1, 1), padding=(1, 1), bias=False)\n",
       "        (bn2): BatchNorm2d(128, eps=1e-05, momentum=0.1, affine=True, track_running_stats=True)\n",
       "      )\n",
       "      (2): BasicBlock(\n",
       "        (conv1): Conv2d(128, 128, kernel_size=(3, 3), stride=(1, 1), padding=(1, 1), bias=False)\n",
       "        (bn1): BatchNorm2d(128, eps=1e-05, momentum=0.1, affine=True, track_running_stats=True)\n",
       "        (relu): ReLU(inplace)\n",
       "        (conv2): Conv2d(128, 128, kernel_size=(3, 3), stride=(1, 1), padding=(1, 1), bias=False)\n",
       "        (bn2): BatchNorm2d(128, eps=1e-05, momentum=0.1, affine=True, track_running_stats=True)\n",
       "      )\n",
       "      (3): BasicBlock(\n",
       "        (conv1): Conv2d(128, 128, kernel_size=(3, 3), stride=(1, 1), padding=(1, 1), bias=False)\n",
       "        (bn1): BatchNorm2d(128, eps=1e-05, momentum=0.1, affine=True, track_running_stats=True)\n",
       "        (relu): ReLU(inplace)\n",
       "        (conv2): Conv2d(128, 128, kernel_size=(3, 3), stride=(1, 1), padding=(1, 1), bias=False)\n",
       "        (bn2): BatchNorm2d(128, eps=1e-05, momentum=0.1, affine=True, track_running_stats=True)\n",
       "      )\n",
       "    )\n",
       "    (6): Sequential(\n",
       "      (0): BasicBlock(\n",
       "        (conv1): Conv2d(128, 256, kernel_size=(3, 3), stride=(2, 2), padding=(1, 1), bias=False)\n",
       "        (bn1): BatchNorm2d(256, eps=1e-05, momentum=0.1, affine=True, track_running_stats=True)\n",
       "        (relu): ReLU(inplace)\n",
       "        (conv2): Conv2d(256, 256, kernel_size=(3, 3), stride=(1, 1), padding=(1, 1), bias=False)\n",
       "        (bn2): BatchNorm2d(256, eps=1e-05, momentum=0.1, affine=True, track_running_stats=True)\n",
       "        (downsample): Sequential(\n",
       "          (0): Conv2d(128, 256, kernel_size=(1, 1), stride=(2, 2), bias=False)\n",
       "          (1): BatchNorm2d(256, eps=1e-05, momentum=0.1, affine=True, track_running_stats=True)\n",
       "        )\n",
       "      )\n",
       "      (1): BasicBlock(\n",
       "        (conv1): Conv2d(256, 256, kernel_size=(3, 3), stride=(1, 1), padding=(1, 1), bias=False)\n",
       "        (bn1): BatchNorm2d(256, eps=1e-05, momentum=0.1, affine=True, track_running_stats=True)\n",
       "        (relu): ReLU(inplace)\n",
       "        (conv2): Conv2d(256, 256, kernel_size=(3, 3), stride=(1, 1), padding=(1, 1), bias=False)\n",
       "        (bn2): BatchNorm2d(256, eps=1e-05, momentum=0.1, affine=True, track_running_stats=True)\n",
       "      )\n",
       "      (2): BasicBlock(\n",
       "        (conv1): Conv2d(256, 256, kernel_size=(3, 3), stride=(1, 1), padding=(1, 1), bias=False)\n",
       "        (bn1): BatchNorm2d(256, eps=1e-05, momentum=0.1, affine=True, track_running_stats=True)\n",
       "        (relu): ReLU(inplace)\n",
       "        (conv2): Conv2d(256, 256, kernel_size=(3, 3), stride=(1, 1), padding=(1, 1), bias=False)\n",
       "        (bn2): BatchNorm2d(256, eps=1e-05, momentum=0.1, affine=True, track_running_stats=True)\n",
       "      )\n",
       "      (3): BasicBlock(\n",
       "        (conv1): Conv2d(256, 256, kernel_size=(3, 3), stride=(1, 1), padding=(1, 1), bias=False)\n",
       "        (bn1): BatchNorm2d(256, eps=1e-05, momentum=0.1, affine=True, track_running_stats=True)\n",
       "        (relu): ReLU(inplace)\n",
       "        (conv2): Conv2d(256, 256, kernel_size=(3, 3), stride=(1, 1), padding=(1, 1), bias=False)\n",
       "        (bn2): BatchNorm2d(256, eps=1e-05, momentum=0.1, affine=True, track_running_stats=True)\n",
       "      )\n",
       "      (4): BasicBlock(\n",
       "        (conv1): Conv2d(256, 256, kernel_size=(3, 3), stride=(1, 1), padding=(1, 1), bias=False)\n",
       "        (bn1): BatchNorm2d(256, eps=1e-05, momentum=0.1, affine=True, track_running_stats=True)\n",
       "        (relu): ReLU(inplace)\n",
       "        (conv2): Conv2d(256, 256, kernel_size=(3, 3), stride=(1, 1), padding=(1, 1), bias=False)\n",
       "        (bn2): BatchNorm2d(256, eps=1e-05, momentum=0.1, affine=True, track_running_stats=True)\n",
       "      )\n",
       "      (5): BasicBlock(\n",
       "        (conv1): Conv2d(256, 256, kernel_size=(3, 3), stride=(1, 1), padding=(1, 1), bias=False)\n",
       "        (bn1): BatchNorm2d(256, eps=1e-05, momentum=0.1, affine=True, track_running_stats=True)\n",
       "        (relu): ReLU(inplace)\n",
       "        (conv2): Conv2d(256, 256, kernel_size=(3, 3), stride=(1, 1), padding=(1, 1), bias=False)\n",
       "        (bn2): BatchNorm2d(256, eps=1e-05, momentum=0.1, affine=True, track_running_stats=True)\n",
       "      )\n",
       "    )\n",
       "    (7): Sequential(\n",
       "      (0): BasicBlock(\n",
       "        (conv1): Conv2d(256, 512, kernel_size=(3, 3), stride=(2, 2), padding=(1, 1), bias=False)\n",
       "        (bn1): BatchNorm2d(512, eps=1e-05, momentum=0.1, affine=True, track_running_stats=True)\n",
       "        (relu): ReLU(inplace)\n",
       "        (conv2): Conv2d(512, 512, kernel_size=(3, 3), stride=(1, 1), padding=(1, 1), bias=False)\n",
       "        (bn2): BatchNorm2d(512, eps=1e-05, momentum=0.1, affine=True, track_running_stats=True)\n",
       "        (downsample): Sequential(\n",
       "          (0): Conv2d(256, 512, kernel_size=(1, 1), stride=(2, 2), bias=False)\n",
       "          (1): BatchNorm2d(512, eps=1e-05, momentum=0.1, affine=True, track_running_stats=True)\n",
       "        )\n",
       "      )\n",
       "      (1): BasicBlock(\n",
       "        (conv1): Conv2d(512, 512, kernel_size=(3, 3), stride=(1, 1), padding=(1, 1), bias=False)\n",
       "        (bn1): BatchNorm2d(512, eps=1e-05, momentum=0.1, affine=True, track_running_stats=True)\n",
       "        (relu): ReLU(inplace)\n",
       "        (conv2): Conv2d(512, 512, kernel_size=(3, 3), stride=(1, 1), padding=(1, 1), bias=False)\n",
       "        (bn2): BatchNorm2d(512, eps=1e-05, momentum=0.1, affine=True, track_running_stats=True)\n",
       "      )\n",
       "      (2): BasicBlock(\n",
       "        (conv1): Conv2d(512, 512, kernel_size=(3, 3), stride=(1, 1), padding=(1, 1), bias=False)\n",
       "        (bn1): BatchNorm2d(512, eps=1e-05, momentum=0.1, affine=True, track_running_stats=True)\n",
       "        (relu): ReLU(inplace)\n",
       "        (conv2): Conv2d(512, 512, kernel_size=(3, 3), stride=(1, 1), padding=(1, 1), bias=False)\n",
       "        (bn2): BatchNorm2d(512, eps=1e-05, momentum=0.1, affine=True, track_running_stats=True)\n",
       "      )\n",
       "    )\n",
       "  )\n",
       "  (1): Sequential(\n",
       "    (0): AdaptiveConcatPool2d(\n",
       "      (ap): AdaptiveAvgPool2d(output_size=1)\n",
       "      (mp): AdaptiveMaxPool2d(output_size=1)\n",
       "    )\n",
       "    (1): Flatten()\n",
       "    (2): BatchNorm1d(1024, eps=1e-05, momentum=0.1, affine=True, track_running_stats=True)\n",
       "    (3): Dropout(p=0.25)\n",
       "    (4): Linear(in_features=1024, out_features=512, bias=True)\n",
       "    (5): ReLU(inplace)\n",
       "    (6): BatchNorm1d(512, eps=1e-05, momentum=0.1, affine=True, track_running_stats=True)\n",
       "    (7): Dropout(p=0.5)\n",
       "    (8): Linear(in_features=512, out_features=2, bias=True)\n",
       "  )\n",
       "), opt_func=functools.partial(<class 'torch.optim.adam.Adam'>, betas=(0.9, 0.99)), loss_func=FlattenedLoss of CrossEntropyLoss(), metrics=[<function accuracy at 0x7f26efb12b70>], true_wd=True, bn_wd=True, wd=0.01, train_bn=True, path=PosixPath('/home/ubuntu/Documents/ELA'), model_dir='models', callback_fns=[<class 'fastai.basic_train.Recorder'>], callbacks=[], layer_groups=[Sequential(\n",
       "  (0): Conv2d(3, 64, kernel_size=(7, 7), stride=(2, 2), padding=(3, 3), bias=False)\n",
       "  (1): BatchNorm2d(64, eps=1e-05, momentum=0.1, affine=True, track_running_stats=True)\n",
       "  (2): ReLU(inplace)\n",
       "  (3): MaxPool2d(kernel_size=3, stride=2, padding=1, dilation=1, ceil_mode=False)\n",
       "  (4): Conv2d(64, 64, kernel_size=(3, 3), stride=(1, 1), padding=(1, 1), bias=False)\n",
       "  (5): BatchNorm2d(64, eps=1e-05, momentum=0.1, affine=True, track_running_stats=True)\n",
       "  (6): ReLU(inplace)\n",
       "  (7): Conv2d(64, 64, kernel_size=(3, 3), stride=(1, 1), padding=(1, 1), bias=False)\n",
       "  (8): BatchNorm2d(64, eps=1e-05, momentum=0.1, affine=True, track_running_stats=True)\n",
       "  (9): Conv2d(64, 64, kernel_size=(3, 3), stride=(1, 1), padding=(1, 1), bias=False)\n",
       "  (10): BatchNorm2d(64, eps=1e-05, momentum=0.1, affine=True, track_running_stats=True)\n",
       "  (11): ReLU(inplace)\n",
       "  (12): Conv2d(64, 64, kernel_size=(3, 3), stride=(1, 1), padding=(1, 1), bias=False)\n",
       "  (13): BatchNorm2d(64, eps=1e-05, momentum=0.1, affine=True, track_running_stats=True)\n",
       "  (14): Conv2d(64, 64, kernel_size=(3, 3), stride=(1, 1), padding=(1, 1), bias=False)\n",
       "  (15): BatchNorm2d(64, eps=1e-05, momentum=0.1, affine=True, track_running_stats=True)\n",
       "  (16): ReLU(inplace)\n",
       "  (17): Conv2d(64, 64, kernel_size=(3, 3), stride=(1, 1), padding=(1, 1), bias=False)\n",
       "  (18): BatchNorm2d(64, eps=1e-05, momentum=0.1, affine=True, track_running_stats=True)\n",
       "  (19): Conv2d(64, 128, kernel_size=(3, 3), stride=(2, 2), padding=(1, 1), bias=False)\n",
       "  (20): BatchNorm2d(128, eps=1e-05, momentum=0.1, affine=True, track_running_stats=True)\n",
       "  (21): ReLU(inplace)\n",
       "  (22): Conv2d(128, 128, kernel_size=(3, 3), stride=(1, 1), padding=(1, 1), bias=False)\n",
       "  (23): BatchNorm2d(128, eps=1e-05, momentum=0.1, affine=True, track_running_stats=True)\n",
       "  (24): Conv2d(64, 128, kernel_size=(1, 1), stride=(2, 2), bias=False)\n",
       "  (25): BatchNorm2d(128, eps=1e-05, momentum=0.1, affine=True, track_running_stats=True)\n",
       "  (26): Conv2d(128, 128, kernel_size=(3, 3), stride=(1, 1), padding=(1, 1), bias=False)\n",
       "  (27): BatchNorm2d(128, eps=1e-05, momentum=0.1, affine=True, track_running_stats=True)\n",
       "  (28): ReLU(inplace)\n",
       "  (29): Conv2d(128, 128, kernel_size=(3, 3), stride=(1, 1), padding=(1, 1), bias=False)\n",
       "  (30): BatchNorm2d(128, eps=1e-05, momentum=0.1, affine=True, track_running_stats=True)\n",
       "  (31): Conv2d(128, 128, kernel_size=(3, 3), stride=(1, 1), padding=(1, 1), bias=False)\n",
       "  (32): BatchNorm2d(128, eps=1e-05, momentum=0.1, affine=True, track_running_stats=True)\n",
       "  (33): ReLU(inplace)\n",
       "  (34): Conv2d(128, 128, kernel_size=(3, 3), stride=(1, 1), padding=(1, 1), bias=False)\n",
       "  (35): BatchNorm2d(128, eps=1e-05, momentum=0.1, affine=True, track_running_stats=True)\n",
       "  (36): Conv2d(128, 128, kernel_size=(3, 3), stride=(1, 1), padding=(1, 1), bias=False)\n",
       "  (37): BatchNorm2d(128, eps=1e-05, momentum=0.1, affine=True, track_running_stats=True)\n",
       "  (38): ReLU(inplace)\n",
       "  (39): Conv2d(128, 128, kernel_size=(3, 3), stride=(1, 1), padding=(1, 1), bias=False)\n",
       "  (40): BatchNorm2d(128, eps=1e-05, momentum=0.1, affine=True, track_running_stats=True)\n",
       "), Sequential(\n",
       "  (0): Conv2d(128, 256, kernel_size=(3, 3), stride=(2, 2), padding=(1, 1), bias=False)\n",
       "  (1): BatchNorm2d(256, eps=1e-05, momentum=0.1, affine=True, track_running_stats=True)\n",
       "  (2): ReLU(inplace)\n",
       "  (3): Conv2d(256, 256, kernel_size=(3, 3), stride=(1, 1), padding=(1, 1), bias=False)\n",
       "  (4): BatchNorm2d(256, eps=1e-05, momentum=0.1, affine=True, track_running_stats=True)\n",
       "  (5): Conv2d(128, 256, kernel_size=(1, 1), stride=(2, 2), bias=False)\n",
       "  (6): BatchNorm2d(256, eps=1e-05, momentum=0.1, affine=True, track_running_stats=True)\n",
       "  (7): Conv2d(256, 256, kernel_size=(3, 3), stride=(1, 1), padding=(1, 1), bias=False)\n",
       "  (8): BatchNorm2d(256, eps=1e-05, momentum=0.1, affine=True, track_running_stats=True)\n",
       "  (9): ReLU(inplace)\n",
       "  (10): Conv2d(256, 256, kernel_size=(3, 3), stride=(1, 1), padding=(1, 1), bias=False)\n",
       "  (11): BatchNorm2d(256, eps=1e-05, momentum=0.1, affine=True, track_running_stats=True)\n",
       "  (12): Conv2d(256, 256, kernel_size=(3, 3), stride=(1, 1), padding=(1, 1), bias=False)\n",
       "  (13): BatchNorm2d(256, eps=1e-05, momentum=0.1, affine=True, track_running_stats=True)\n",
       "  (14): ReLU(inplace)\n",
       "  (15): Conv2d(256, 256, kernel_size=(3, 3), stride=(1, 1), padding=(1, 1), bias=False)\n",
       "  (16): BatchNorm2d(256, eps=1e-05, momentum=0.1, affine=True, track_running_stats=True)\n",
       "  (17): Conv2d(256, 256, kernel_size=(3, 3), stride=(1, 1), padding=(1, 1), bias=False)\n",
       "  (18): BatchNorm2d(256, eps=1e-05, momentum=0.1, affine=True, track_running_stats=True)\n",
       "  (19): ReLU(inplace)\n",
       "  (20): Conv2d(256, 256, kernel_size=(3, 3), stride=(1, 1), padding=(1, 1), bias=False)\n",
       "  (21): BatchNorm2d(256, eps=1e-05, momentum=0.1, affine=True, track_running_stats=True)\n",
       "  (22): Conv2d(256, 256, kernel_size=(3, 3), stride=(1, 1), padding=(1, 1), bias=False)\n",
       "  (23): BatchNorm2d(256, eps=1e-05, momentum=0.1, affine=True, track_running_stats=True)\n",
       "  (24): ReLU(inplace)\n",
       "  (25): Conv2d(256, 256, kernel_size=(3, 3), stride=(1, 1), padding=(1, 1), bias=False)\n",
       "  (26): BatchNorm2d(256, eps=1e-05, momentum=0.1, affine=True, track_running_stats=True)\n",
       "  (27): Conv2d(256, 256, kernel_size=(3, 3), stride=(1, 1), padding=(1, 1), bias=False)\n",
       "  (28): BatchNorm2d(256, eps=1e-05, momentum=0.1, affine=True, track_running_stats=True)\n",
       "  (29): ReLU(inplace)\n",
       "  (30): Conv2d(256, 256, kernel_size=(3, 3), stride=(1, 1), padding=(1, 1), bias=False)\n",
       "  (31): BatchNorm2d(256, eps=1e-05, momentum=0.1, affine=True, track_running_stats=True)\n",
       "  (32): Conv2d(256, 512, kernel_size=(3, 3), stride=(2, 2), padding=(1, 1), bias=False)\n",
       "  (33): BatchNorm2d(512, eps=1e-05, momentum=0.1, affine=True, track_running_stats=True)\n",
       "  (34): ReLU(inplace)\n",
       "  (35): Conv2d(512, 512, kernel_size=(3, 3), stride=(1, 1), padding=(1, 1), bias=False)\n",
       "  (36): BatchNorm2d(512, eps=1e-05, momentum=0.1, affine=True, track_running_stats=True)\n",
       "  (37): Conv2d(256, 512, kernel_size=(1, 1), stride=(2, 2), bias=False)\n",
       "  (38): BatchNorm2d(512, eps=1e-05, momentum=0.1, affine=True, track_running_stats=True)\n",
       "  (39): Conv2d(512, 512, kernel_size=(3, 3), stride=(1, 1), padding=(1, 1), bias=False)\n",
       "  (40): BatchNorm2d(512, eps=1e-05, momentum=0.1, affine=True, track_running_stats=True)\n",
       "  (41): ReLU(inplace)\n",
       "  (42): Conv2d(512, 512, kernel_size=(3, 3), stride=(1, 1), padding=(1, 1), bias=False)\n",
       "  (43): BatchNorm2d(512, eps=1e-05, momentum=0.1, affine=True, track_running_stats=True)\n",
       "  (44): Conv2d(512, 512, kernel_size=(3, 3), stride=(1, 1), padding=(1, 1), bias=False)\n",
       "  (45): BatchNorm2d(512, eps=1e-05, momentum=0.1, affine=True, track_running_stats=True)\n",
       "  (46): ReLU(inplace)\n",
       "  (47): Conv2d(512, 512, kernel_size=(3, 3), stride=(1, 1), padding=(1, 1), bias=False)\n",
       "  (48): BatchNorm2d(512, eps=1e-05, momentum=0.1, affine=True, track_running_stats=True)\n",
       "), Sequential(\n",
       "  (0): AdaptiveAvgPool2d(output_size=1)\n",
       "  (1): AdaptiveMaxPool2d(output_size=1)\n",
       "  (2): Flatten()\n",
       "  (3): BatchNorm1d(1024, eps=1e-05, momentum=0.1, affine=True, track_running_stats=True)\n",
       "  (4): Dropout(p=0.25)\n",
       "  (5): Linear(in_features=1024, out_features=512, bias=True)\n",
       "  (6): ReLU(inplace)\n",
       "  (7): BatchNorm1d(512, eps=1e-05, momentum=0.1, affine=True, track_running_stats=True)\n",
       "  (8): Dropout(p=0.5)\n",
       "  (9): Linear(in_features=512, out_features=2, bias=True)\n",
       ")])"
      ]
     },
     "execution_count": 92,
     "metadata": {},
     "output_type": "execute_result"
    }
   ],
   "source": [
    "learn = create_cnn(data, resnet34, pretrained=True, metrics = accuracy)\n",
    "learn.load('/home/ubuntu/home/ubuntu/Documents/ELA2/models/ela2_prsz_299_unfrz_set2')"
   ]
  },
  {
   "cell_type": "code",
   "execution_count": 93,
   "metadata": {},
   "outputs": [
    {
     "data": {
      "text/plain": [
       "(array([0, 1]), array([2858, 1359]))"
      ]
     },
     "execution_count": 93,
     "metadata": {},
     "output_type": "execute_result"
    }
   ],
   "source": [
    "np.unique(learn.data.valid_ds.y.items, return_counts = True)"
   ]
  },
  {
   "cell_type": "code",
   "execution_count": 94,
   "metadata": {},
   "outputs": [],
   "source": [
    "p = learn.get_preds()"
   ]
  },
  {
   "cell_type": "code",
   "execution_count": 95,
   "metadata": {},
   "outputs": [
    {
     "name": "stdout",
     "output_type": "stream",
     "text": [
      "F1_score:  0.7638183946703178\n",
      "Accuracy:  0.7562248043632914\n",
      "[[2063  795]\n",
      " [ 233 1126]]\n"
     ]
    }
   ],
   "source": [
    "temp = np.argmax(p[0], axis = 1)\n",
    "get_metrics(data.valid_ds.y.items, temp)"
   ]
  },
  {
   "cell_type": "code",
   "execution_count": 131,
   "metadata": {},
   "outputs": [],
   "source": [
    "def get_data_for_ela_1(modelname):\n",
    "    fname2label = {f:l for (f,l) in zip(val_files, val_label)}\n",
    "    path = '/home/ubuntu/Documents/ELA/'\n",
    "    src = ImageItemList(val_files, path=path).random_split_by_pct(valid_pct=0.99, seed=42).label_from_func(lambda x:fname2label[x])\n",
    "    tfms = get_transforms()\n",
    "    tfms = (tfms[0][1:],[])\n",
    "    data = ImageDataBunch.create_from_ll(src, size = 299, bs = 64, test = 'test', ds_tfms = tfms)\n",
    "    learn = create_cnn(data, resnet34, pretrained=True, metrics = accuracy)\n",
    "    learn.load(f'/home/ubuntu/home/ubuntu/Documents/ELA2/models/{modelname}')\n",
    "    print(np.unique(learn.data.valid_ds.y.items, return_counts = True))\n",
    "    learn.data.test_dl.items.sort()\n",
    "    print(len(learn.data.test_ds.items))\n",
    "    print(learn.data.test_dl.x.items[8])\n",
    "    return learn\n",
    "\n",
    "def get_normal_data(modelname):\n",
    "    path = '/home/ubuntu/share/stage-3/stage3_image_data/'\n",
    "    val_files_1 = ['/home/ubuntu/share/stage-3/stage3_image_data/' + '/'.join(x.split('/')[-3:]) for x in val_files]\n",
    "    fname2label = {f:l for (f,l) in zip(val_files_1, val_label)}\n",
    "    src = ImageItemList(val_files_1, path=path).random_split_by_pct(valid_pct=0.99, seed=42).label_from_func(lambda x:fname2label[x])\n",
    "    tfms = get_transforms()\n",
    "    tfms = (tfms[0][1:],[])\n",
    "    data = ImageDataBunch.create_from_ll(src, size = 224, bs = 64, ds_tfms = tfms, test = 'test')\n",
    "    data.path = '/home/ubuntu/Documents/'\n",
    "    learn = create_cnn(data, resnet50, pretrained=True, metrics = accuracy)\n",
    "    print(np.unique(learn.data.valid_ds.y.items, return_counts = True))\n",
    "    learn.data.test_dl.items.sort()\n",
    "    print(len(learn.data.test_ds.items))\n",
    "    print(learn.data.test_dl.x.items[8])\n",
    "    learn.load(f'/home/ubuntu/Documents/models/{modelname}')\n",
    "    return learn"
   ]
  },
  {
   "cell_type": "code",
   "execution_count": 117,
   "metadata": {},
   "outputs": [],
   "source": [
    "net_dict = {'resnet18': models.resnet18, 'resnet34': models.resnet34, 'resnet50': models.resnet50, 'resnet101': models.resnet101}\n",
    "models_used_def = ['ela2_prsz_299_unfrz_set2','resnet50_trns_iter_2']\n",
    "def get_ensemble(models_used = models_used_def, is_test = False):\n",
    "    models_combined = pd.DataFrame()\n",
    "    all_res = {}\n",
    "    for i in models_used:\n",
    "        print(i)\n",
    "        netname = i.split('_')[0]\n",
    "#         arch = net_dict[netname]\n",
    "        if('ela' in i):\n",
    "            # need to load data from ela folder\n",
    "            learn = get_data_for_ela_1(i)\n",
    "        else:\n",
    "            learn = get_normal_data(i)\n",
    "        if(is_test):\n",
    "            d = DatasetType.Test\n",
    "        else:\n",
    "            d = DatasetType.Valid\n",
    "        probs = learn.get_preds(d)\n",
    "        all_res[i] = np.argmax(probs[0], axis = 1)\n",
    "        all_res[i+'fake'] = [float(x[0]) for x in probs[0]]\n",
    "        all_res[i+'real'] = [float(x[1]) for x in probs[0]]\n",
    "        if(is_test == False):\n",
    "            get_metrics(data.valid_ds.y.items, all_res[i])\n",
    "        all_res[i+'|prob'] = np.max(np.array(probs[0]), axis = 1)\n",
    "    models_combined = pd.DataFrame(all_res)\n",
    "    return models_combined\n",
    "\n",
    "def get_ensemble_submission(is_t = False):\n",
    "    results_combined = get_ensemble(is_test = is_t)\n",
    "    results_combined['confident'] = results_combined[[x+'|prob' for x in models_used_def]].idxmax(axis = 1)\n",
    "    results_combined['label'] = results_combined.apply(lambda x : x[x['confident'].split('|')[0]], axis = 1)\n",
    "    return results_combined['label'].astype(int).values\n",
    "\n",
    "def get_submission_file(learn, ensemble = True, output_filename = 'final_submission.csv'):\n",
    "    if(ensemble):\n",
    "        test_preds = get_ensemble_submission(True)\n",
    "    else:\n",
    "        test_predictions = learn.predict(is_test = True)\n",
    "        test_preds = np.argmax(test_predictions, axis=1)  # from log probabilities to 0 or 1ts\n",
    "        test_probs = np.exp(test_predictions[:,1])        # pr()\n",
    "        \n",
    "    labels = [data.classes[x] for x in test_preds]\n",
    "    assert(len(data.test_dl.x.items) == len(labels))\n",
    "    \n",
    "    output_df = pd.DataFrame({'Filename':data.test_dl.x.items, 'Prediction': np.array(labels)})\n",
    "    output_df['Filename'] = output_df['Filename'].apply(lambda x: str(x).split('/')[-1])\n",
    "    \n",
    "    output_df.to_csv(output_filename, index=False)\n",
    "    return output_df\n",
    "\n"
   ]
  },
  {
   "cell_type": "code",
   "execution_count": 1,
   "metadata": {},
   "outputs": [],
   "source": [
    "# dela = get_data_for_ela_1()\n",
    "# len(dela.test_ds.y.items)"
   ]
  },
  {
   "cell_type": "code",
   "execution_count": 118,
   "metadata": {},
   "outputs": [
    {
     "name": "stdout",
     "output_type": "stream",
     "text": [
      "F1_score:  0.7572649556377495\n",
      "Accuracy:  0.7491107422338155\n",
      "[[1993  865]\n",
      " [ 193 1166]]\n"
     ]
    }
   ],
   "source": [
    "comb = get_ensemble(is_test = False)"
   ]
  },
  {
   "cell_type": "code",
   "execution_count": 133,
   "metadata": {},
   "outputs": [],
   "source": [
    "comb['confident'] = comb[[x+'|prob' for x in models_used_def]].idxmax(axis = 1)"
   ]
  },
  {
   "cell_type": "code",
   "execution_count": 134,
   "metadata": {},
   "outputs": [],
   "source": [
    "comb['label'] = comb.apply(lambda x : x[x['confident'].split('|')[0]], axis = 1)"
   ]
  },
  {
   "cell_type": "code",
   "execution_count": 121,
   "metadata": {},
   "outputs": [
    {
     "name": "stdout",
     "output_type": "stream",
     "text": [
      "F1_score:  0.8205281496603728\n",
      "Accuracy:  0.8152715200379417\n",
      "[[2241  617]\n",
      " [ 162 1197]]\n"
     ]
    }
   ],
   "source": [
    "# Ensemble result on holdout val set\n",
    "get_metrics(data.valid_ds.y.items, comb.label.values)"
   ]
  },
  {
   "cell_type": "code",
   "execution_count": null,
   "metadata": {},
   "outputs": [],
   "source": [
    "# Getting the prediction on the test set"
   ]
  },
  {
   "cell_type": "code",
   "execution_count": 132,
   "metadata": {},
   "outputs": [],
   "source": [
    "comb = get_ensemble(is_test = True)"
   ]
  },
  {
   "cell_type": "code",
   "execution_count": 133,
   "metadata": {},
   "outputs": [],
   "source": [
    "comb['confident'] = comb[[x+'|prob' for x in models_used_def]].idxmax(axis = 1)"
   ]
  },
  {
   "cell_type": "code",
   "execution_count": 134,
   "metadata": {},
   "outputs": [],
   "source": [
    "comb['label'] = comb.apply(lambda x : x[x['confident'].split('|')[0]], axis = 1)"
   ]
  },
  {
   "cell_type": "code",
   "execution_count": 135,
   "metadata": {},
   "outputs": [
    {
     "data": {
      "text/html": [
       "<div>\n",
       "<style scoped>\n",
       "    .dataframe tbody tr th:only-of-type {\n",
       "        vertical-align: middle;\n",
       "    }\n",
       "\n",
       "    .dataframe tbody tr th {\n",
       "        vertical-align: top;\n",
       "    }\n",
       "\n",
       "    .dataframe thead th {\n",
       "        text-align: right;\n",
       "    }\n",
       "</style>\n",
       "<table border=\"1\" class=\"dataframe\">\n",
       "  <thead>\n",
       "    <tr style=\"text-align: right;\">\n",
       "      <th></th>\n",
       "      <th>ela2_prsz_299_unfrz_set2</th>\n",
       "      <th>ela2_prsz_299_unfrz_set2fake</th>\n",
       "      <th>ela2_prsz_299_unfrz_set2real</th>\n",
       "      <th>ela2_prsz_299_unfrz_set2|prob</th>\n",
       "      <th>resnet50_trns_iter_2</th>\n",
       "      <th>resnet50_trns_iter_2fake</th>\n",
       "      <th>resnet50_trns_iter_2real</th>\n",
       "      <th>resnet50_trns_iter_2|prob</th>\n",
       "      <th>confident</th>\n",
       "      <th>label</th>\n",
       "    </tr>\n",
       "  </thead>\n",
       "  <tbody>\n",
       "    <tr>\n",
       "      <th>0</th>\n",
       "      <td>1</td>\n",
       "      <td>0.294935</td>\n",
       "      <td>0.705065</td>\n",
       "      <td>0.705065</td>\n",
       "      <td>1</td>\n",
       "      <td>0.410452</td>\n",
       "      <td>0.589548</td>\n",
       "      <td>0.589548</td>\n",
       "      <td>ela2_prsz_299_unfrz_set2|prob</td>\n",
       "      <td>1</td>\n",
       "    </tr>\n",
       "    <tr>\n",
       "      <th>1</th>\n",
       "      <td>0</td>\n",
       "      <td>0.883732</td>\n",
       "      <td>0.116267</td>\n",
       "      <td>0.883732</td>\n",
       "      <td>0</td>\n",
       "      <td>0.510377</td>\n",
       "      <td>0.489623</td>\n",
       "      <td>0.510377</td>\n",
       "      <td>ela2_prsz_299_unfrz_set2|prob</td>\n",
       "      <td>0</td>\n",
       "    </tr>\n",
       "    <tr>\n",
       "      <th>2</th>\n",
       "      <td>0</td>\n",
       "      <td>0.973347</td>\n",
       "      <td>0.026653</td>\n",
       "      <td>0.973347</td>\n",
       "      <td>0</td>\n",
       "      <td>0.934513</td>\n",
       "      <td>0.065487</td>\n",
       "      <td>0.934513</td>\n",
       "      <td>ela2_prsz_299_unfrz_set2|prob</td>\n",
       "      <td>0</td>\n",
       "    </tr>\n",
       "    <tr>\n",
       "      <th>3</th>\n",
       "      <td>0</td>\n",
       "      <td>0.585824</td>\n",
       "      <td>0.414176</td>\n",
       "      <td>0.585824</td>\n",
       "      <td>0</td>\n",
       "      <td>0.826101</td>\n",
       "      <td>0.173899</td>\n",
       "      <td>0.826101</td>\n",
       "      <td>resnet50_trns_iter_2|prob</td>\n",
       "      <td>0</td>\n",
       "    </tr>\n",
       "    <tr>\n",
       "      <th>4</th>\n",
       "      <td>1</td>\n",
       "      <td>0.451896</td>\n",
       "      <td>0.548104</td>\n",
       "      <td>0.548104</td>\n",
       "      <td>1</td>\n",
       "      <td>0.145631</td>\n",
       "      <td>0.854369</td>\n",
       "      <td>0.854369</td>\n",
       "      <td>resnet50_trns_iter_2|prob</td>\n",
       "      <td>1</td>\n",
       "    </tr>\n",
       "  </tbody>\n",
       "</table>\n",
       "</div>"
      ],
      "text/plain": [
       "   ela2_prsz_299_unfrz_set2  ela2_prsz_299_unfrz_set2fake  \\\n",
       "0                         1                      0.294935   \n",
       "1                         0                      0.883732   \n",
       "2                         0                      0.973347   \n",
       "3                         0                      0.585824   \n",
       "4                         1                      0.451896   \n",
       "\n",
       "   ela2_prsz_299_unfrz_set2real  ela2_prsz_299_unfrz_set2|prob  \\\n",
       "0                      0.705065                       0.705065   \n",
       "1                      0.116267                       0.883732   \n",
       "2                      0.026653                       0.973347   \n",
       "3                      0.414176                       0.585824   \n",
       "4                      0.548104                       0.548104   \n",
       "\n",
       "   resnet50_trns_iter_2  resnet50_trns_iter_2fake  resnet50_trns_iter_2real  \\\n",
       "0                     1                  0.410452                  0.589548   \n",
       "1                     0                  0.510377                  0.489623   \n",
       "2                     0                  0.934513                  0.065487   \n",
       "3                     0                  0.826101                  0.173899   \n",
       "4                     1                  0.145631                  0.854369   \n",
       "\n",
       "   resnet50_trns_iter_2|prob                      confident  label  \n",
       "0                   0.589548  ela2_prsz_299_unfrz_set2|prob      1  \n",
       "1                   0.510377  ela2_prsz_299_unfrz_set2|prob      0  \n",
       "2                   0.934513  ela2_prsz_299_unfrz_set2|prob      0  \n",
       "3                   0.826101      resnet50_trns_iter_2|prob      0  \n",
       "4                   0.854369      resnet50_trns_iter_2|prob      1  "
      ]
     },
     "execution_count": 135,
     "metadata": {},
     "output_type": "execute_result"
    }
   ],
   "source": [
    "comb.head()"
   ]
  },
  {
   "cell_type": "code",
   "execution_count": 137,
   "metadata": {},
   "outputs": [],
   "source": [
    "la = comb['label'].astype(int).values\n",
    "lals = [data.classes[x] for x in la]\n",
    "assert(len(data.test_dl.x.items) == len(lals))\n",
    "\n",
    "output_df = pd.DataFrame({'Filename':data.test_dl.x.items, 'Prediction': np.array(lals)})\n",
    "output_df['Filename'] = output_df['Filename'].apply(lambda x: str(x).split('/')[-1])\n",
    "\n",
    "output_df.to_csv('submission_ensemble_final.csv', index=False)"
   ]
  },
  {
   "cell_type": "code",
   "execution_count": 138,
   "metadata": {},
   "outputs": [
    {
     "data": {
      "text/plain": [
       "real    2752\n",
       "fake    2678\n",
       "Name: Prediction, dtype: int64"
      ]
     },
     "execution_count": 138,
     "metadata": {},
     "output_type": "execute_result"
    }
   ],
   "source": [
    "output_df.Prediction.value_counts()"
   ]
  },
  {
   "cell_type": "code",
   "execution_count": 63,
   "metadata": {},
   "outputs": [
    {
     "data": {
      "text/html": [
       "<div>\n",
       "<style scoped>\n",
       "    .dataframe tbody tr th:only-of-type {\n",
       "        vertical-align: middle;\n",
       "    }\n",
       "\n",
       "    .dataframe tbody tr th {\n",
       "        vertical-align: top;\n",
       "    }\n",
       "\n",
       "    .dataframe thead th {\n",
       "        text-align: right;\n",
       "    }\n",
       "</style>\n",
       "<table border=\"1\" class=\"dataframe\">\n",
       "  <thead>\n",
       "    <tr style=\"text-align: right;\">\n",
       "      <th></th>\n",
       "      <th>resnet50_trns_iter_2</th>\n",
       "      <th>resnet50_trns_iter_2fake</th>\n",
       "      <th>resnet50_trns_iter_2real</th>\n",
       "      <th>resnet50_trns_iter_2|prob</th>\n",
       "      <th>resnet34_ela_299_iter22</th>\n",
       "      <th>resnet34_ela_299_iter22fake</th>\n",
       "      <th>resnet34_ela_299_iter22real</th>\n",
       "      <th>resnet34_ela_299_iter22|prob</th>\n",
       "      <th>confident</th>\n",
       "      <th>label</th>\n",
       "    </tr>\n",
       "  </thead>\n",
       "  <tbody>\n",
       "    <tr>\n",
       "      <th>0</th>\n",
       "      <td>1</td>\n",
       "      <td>0.055228</td>\n",
       "      <td>0.944772</td>\n",
       "      <td>0.944772</td>\n",
       "      <td>1</td>\n",
       "      <td>0.416043</td>\n",
       "      <td>0.583957</td>\n",
       "      <td>0.583957</td>\n",
       "      <td>resnet50_trns_iter_2|prob</td>\n",
       "      <td>1</td>\n",
       "    </tr>\n",
       "    <tr>\n",
       "      <th>1</th>\n",
       "      <td>1</td>\n",
       "      <td>0.206869</td>\n",
       "      <td>0.793131</td>\n",
       "      <td>0.793131</td>\n",
       "      <td>1</td>\n",
       "      <td>0.497745</td>\n",
       "      <td>0.502255</td>\n",
       "      <td>0.502255</td>\n",
       "      <td>resnet50_trns_iter_2|prob</td>\n",
       "      <td>1</td>\n",
       "    </tr>\n",
       "    <tr>\n",
       "      <th>2</th>\n",
       "      <td>1</td>\n",
       "      <td>0.318592</td>\n",
       "      <td>0.681408</td>\n",
       "      <td>0.681408</td>\n",
       "      <td>1</td>\n",
       "      <td>0.322339</td>\n",
       "      <td>0.677661</td>\n",
       "      <td>0.677661</td>\n",
       "      <td>resnet50_trns_iter_2|prob</td>\n",
       "      <td>1</td>\n",
       "    </tr>\n",
       "    <tr>\n",
       "      <th>3</th>\n",
       "      <td>0</td>\n",
       "      <td>0.656912</td>\n",
       "      <td>0.343088</td>\n",
       "      <td>0.656912</td>\n",
       "      <td>1</td>\n",
       "      <td>0.429506</td>\n",
       "      <td>0.570494</td>\n",
       "      <td>0.570494</td>\n",
       "      <td>resnet50_trns_iter_2|prob</td>\n",
       "      <td>0</td>\n",
       "    </tr>\n",
       "    <tr>\n",
       "      <th>4</th>\n",
       "      <td>0</td>\n",
       "      <td>0.753644</td>\n",
       "      <td>0.246356</td>\n",
       "      <td>0.753644</td>\n",
       "      <td>1</td>\n",
       "      <td>0.450236</td>\n",
       "      <td>0.549764</td>\n",
       "      <td>0.549764</td>\n",
       "      <td>resnet50_trns_iter_2|prob</td>\n",
       "      <td>0</td>\n",
       "    </tr>\n",
       "  </tbody>\n",
       "</table>\n",
       "</div>"
      ],
      "text/plain": [
       "   resnet50_trns_iter_2  resnet50_trns_iter_2fake  resnet50_trns_iter_2real  \\\n",
       "0                     1                  0.055228                  0.944772   \n",
       "1                     1                  0.206869                  0.793131   \n",
       "2                     1                  0.318592                  0.681408   \n",
       "3                     0                  0.656912                  0.343088   \n",
       "4                     0                  0.753644                  0.246356   \n",
       "\n",
       "   resnet50_trns_iter_2|prob  resnet34_ela_299_iter22  \\\n",
       "0                   0.944772                        1   \n",
       "1                   0.793131                        1   \n",
       "2                   0.681408                        1   \n",
       "3                   0.656912                        1   \n",
       "4                   0.753644                        1   \n",
       "\n",
       "   resnet34_ela_299_iter22fake  resnet34_ela_299_iter22real  \\\n",
       "0                     0.416043                     0.583957   \n",
       "1                     0.497745                     0.502255   \n",
       "2                     0.322339                     0.677661   \n",
       "3                     0.429506                     0.570494   \n",
       "4                     0.450236                     0.549764   \n",
       "\n",
       "   resnet34_ela_299_iter22|prob                  confident  label  \n",
       "0                      0.583957  resnet50_trns_iter_2|prob      1  \n",
       "1                      0.502255  resnet50_trns_iter_2|prob      1  \n",
       "2                      0.677661  resnet50_trns_iter_2|prob      1  \n",
       "3                      0.570494  resnet50_trns_iter_2|prob      0  \n",
       "4                      0.549764  resnet50_trns_iter_2|prob      0  "
      ]
     },
     "execution_count": 63,
     "metadata": {},
     "output_type": "execute_result"
    }
   ],
   "source": [
    "comb.head()"
   ]
  },
  {
   "cell_type": "markdown",
   "metadata": {},
   "source": [
    "# Rough, no need to refer"
   ]
  },
  {
   "cell_type": "code",
   "execution_count": 32,
   "metadata": {},
   "outputs": [],
   "source": [
    "# learn = create_cnn(data, models.resnet34, metrics=accuracy)"
   ]
  },
  {
   "cell_type": "code",
   "execution_count": 33,
   "metadata": {},
   "outputs": [
    {
     "data": {
      "text/html": [
       "Total time: 37:04 <p><table style='width:300px; margin-bottom:10px'>\n",
       "  <tr>\n",
       "    <th>epoch</th>\n",
       "    <th>train_loss</th>\n",
       "    <th>valid_loss</th>\n",
       "    <th>accuracy</th>\n",
       "  </tr>\n",
       "  <tr>\n",
       "    <th>1</th>\n",
       "    <th>0.710183</th>\n",
       "    <th>0.618685</th>\n",
       "    <th>0.656235</th>\n",
       "  </tr>\n",
       "  <tr>\n",
       "    <th>2</th>\n",
       "    <th>0.622221</th>\n",
       "    <th>0.594685</th>\n",
       "    <th>0.688485</th>\n",
       "  </tr>\n",
       "  <tr>\n",
       "    <th>3</th>\n",
       "    <th>0.578733</th>\n",
       "    <th>0.576262</th>\n",
       "    <th>0.695891</th>\n",
       "  </tr>\n",
       "  <tr>\n",
       "    <th>4</th>\n",
       "    <th>0.548707</th>\n",
       "    <th>0.567682</th>\n",
       "    <th>0.709986</th>\n",
       "  </tr>\n",
       "</table>\n"
      ],
      "text/plain": [
       "<IPython.core.display.HTML object>"
      ]
     },
     "metadata": {},
     "output_type": "display_data"
    }
   ],
   "source": [
    "learn.fit_one_cycle(4)"
   ]
  },
  {
   "cell_type": "code",
   "execution_count": 34,
   "metadata": {},
   "outputs": [],
   "source": [
    "learn.save('resnet50_trns_iter1')"
   ]
  },
  {
   "cell_type": "code",
   "execution_count": 35,
   "metadata": {},
   "outputs": [],
   "source": [
    "learn.freeze_to(-2)"
   ]
  },
  {
   "cell_type": "code",
   "execution_count": 36,
   "metadata": {},
   "outputs": [],
   "source": [
    "learn.data.batch_size = 32"
   ]
  },
  {
   "cell_type": "code",
   "execution_count": 37,
   "metadata": {},
   "outputs": [
    {
     "data": {
      "text/html": [
       "Total time: 18:43 <p><table style='width:300px; margin-bottom:10px'>\n",
       "  <tr>\n",
       "    <th>epoch</th>\n",
       "    <th>train_loss</th>\n",
       "    <th>valid_loss</th>\n",
       "    <th>accuracy</th>\n",
       "  </tr>\n",
       "  <tr>\n",
       "    <th>1</th>\n",
       "    <th>0.548446</th>\n",
       "    <th>0.555912</th>\n",
       "    <th>0.711897</th>\n",
       "  </tr>\n",
       "  <tr>\n",
       "    <th>2</th>\n",
       "    <th>0.484806</th>\n",
       "    <th>0.546715</th>\n",
       "    <th>0.725036</th>\n",
       "  </tr>\n",
       "</table>\n"
      ],
      "text/plain": [
       "<IPython.core.display.HTML object>"
      ]
     },
     "metadata": {},
     "output_type": "display_data"
    }
   ],
   "source": [
    "learn.fit_one_cycle(2, max_lr = slice(1e-5,1e-4))"
   ]
  },
  {
   "cell_type": "code",
   "execution_count": 38,
   "metadata": {},
   "outputs": [],
   "source": [
    "learn.save('resnet50_trns_iter_2')"
   ]
  },
  {
   "cell_type": "code",
   "execution_count": 59,
   "metadata": {},
   "outputs": [
    {
     "data": {
      "text/html": [
       "Total time: 19:38 <p><table style='width:300px; margin-bottom:10px'>\n",
       "  <tr>\n",
       "    <th>epoch</th>\n",
       "    <th>train_loss</th>\n",
       "    <th>valid_loss</th>\n",
       "    <th>accuracy</th>\n",
       "  </tr>\n",
       "  <tr>\n",
       "    <th>1</th>\n",
       "    <th>0.448832</th>\n",
       "    <th>0.555732</th>\n",
       "    <th>0.726708</th>\n",
       "  </tr>\n",
       "  <tr>\n",
       "    <th>2</th>\n",
       "    <th>0.372659</th>\n",
       "    <th>0.561016</th>\n",
       "    <th>0.736742</th>\n",
       "  </tr>\n",
       "</table>\n"
      ],
      "text/plain": [
       "<IPython.core.display.HTML object>"
      ]
     },
     "metadata": {},
     "output_type": "display_data"
    }
   ],
   "source": [
    "learn.fit_one_cycle(2, max_lr = slice(1e-5,1e-4))"
   ]
  },
  {
   "cell_type": "code",
   "execution_count": null,
   "metadata": {},
   "outputs": [],
   "source": [
    "learn.save('resnet50_trns_iter_3')"
   ]
  },
  {
   "cell_type": "code",
   "execution_count": 47,
   "metadata": {},
   "outputs": [
    {
     "name": "stdout",
     "output_type": "stream",
     "text": [
      "LR Finder is complete, type {learner_name}.recorder.plot() to see the graph.\n"
     ]
    },
    {
     "data": {
      "image/png": "[encoded data removed]",
      "text/plain": [
       "<Figure size 432x288 with 1 Axes>"
      ]
     },
     "metadata": {
      "needs_background": "light"
     },
     "output_type": "display_data"
    }
   ],
   "source": [
    "learn.lr_find()\n",
    "learn.recorder.plot()"
   ]
  },
  {
   "cell_type": "code",
   "execution_count": 90,
   "metadata": {},
   "outputs": [
    {
     "name": "stdout",
     "output_type": "stream",
     "text": [
      "['fake', 'real']\n"
     ]
    },
    {
     "data": {
      "text/plain": [
       "32"
      ]
     },
     "execution_count": 90,
     "metadata": {},
     "output_type": "execute_result"
    }
   ],
   "source": [
    "print(data.classes)\n",
    "learn.data.batch_size"
   ]
  },
  {
   "cell_type": "code",
   "execution_count": 205,
   "metadata": {},
   "outputs": [
    {
     "data": {
      "text/html": [
       "Total time: 58:48 <p><table style='width:300px; margin-bottom:10px'>\n",
       "  <tr>\n",
       "    <th>epoch</th>\n",
       "    <th>train_loss</th>\n",
       "    <th>valid_loss</th>\n",
       "    <th>accuracy</th>\n",
       "  </tr>\n",
       "  <tr>\n",
       "    <th>1</th>\n",
       "    <th>0.560081</th>\n",
       "    <th>0.587431</th>\n",
       "    <th>0.688247</th>\n",
       "  </tr>\n",
       "  <tr>\n",
       "    <th>2</th>\n",
       "    <th>0.585592</th>\n",
       "    <th>0.583629</th>\n",
       "    <th>0.691352</th>\n",
       "  </tr>\n",
       "  <tr>\n",
       "    <th>3</th>\n",
       "    <th>0.548207</th>\n",
       "    <th>0.576736</th>\n",
       "    <th>0.699952</th>\n",
       "  </tr>\n",
       "  <tr>\n",
       "    <th>4</th>\n",
       "    <th>0.526985</th>\n",
       "    <th>0.575528</th>\n",
       "    <th>0.705208</th>\n",
       "  </tr>\n",
       "  <tr>\n",
       "    <th>5</th>\n",
       "    <th>0.544158</th>\n",
       "    <th>0.572644</th>\n",
       "    <th>0.703058</th>\n",
       "  </tr>\n",
       "</table>\n"
      ],
      "text/plain": [
       "<IPython.core.display.HTML object>"
      ]
     },
     "metadata": {},
     "output_type": "display_data"
    }
   ],
   "source": [
    "learn.fit_one_cycle(5, max_lr = slice(1e-5,1e-4))"
   ]
  },
  {
   "cell_type": "code",
   "execution_count": 91,
   "metadata": {},
   "outputs": [
    {
     "data": {
      "text/plain": [
       "Learner(data=ImageDataBunch;\n",
       "\n",
       "Train: LabelList\n",
       "y: CategoryList (12560 items)\n",
       "[Category real, Category real, Category real, Category real, Category real]...\n",
       "Path: /home/ubuntu/share/stage-3/stage3_image_data\n",
       "x: ImageItemList (12560 items)\n",
       "[Image (3, 717, 960), Image (3, 720, 1280), Image (3, 900, 600), Image (3, 750, 499), Image (3, 750, 499)]...\n",
       "Path: /home/ubuntu/share/stage-3/stage3_image_data;\n",
       "\n",
       "Valid: LabelList\n",
       "y: CategoryList (4186 items)\n",
       "[Category real, Category real, Category real, Category real, Category fake]...\n",
       "Path: /home/ubuntu/share/stage-3/stage3_image_data\n",
       "x: ImageItemList (4186 items)\n",
       "[Image (3, 1024, 729), Image (3, 600, 600), Image (3, 2246, 3369), Image (3, 1026, 900), Image (3, 1200, 1600)]...\n",
       "Path: /home/ubuntu/share/stage-3/stage3_image_data;\n",
       "\n",
       "Test: LabelList\n",
       "y: EmptyLabelList (5430 items)\n",
       "[EmptyLabel , EmptyLabel , EmptyLabel , EmptyLabel , EmptyLabel ]...\n",
       "Path: .\n",
       "x: ImageItemList (5430 items)\n",
       "[Image (3, 714, 964), Image (3, 1125, 1500), Image (3, 660, 970), Image (3, 1080, 1920), Image (3, 720, 537)]...\n",
       "Path: /home/ubuntu/share/stage-3/stage3_image_data, model=Sequential(\n",
       "  (0): Sequential(\n",
       "    (0): Conv2d(3, 64, kernel_size=(7, 7), stride=(2, 2), padding=(3, 3), bias=False)\n",
       "    (1): BatchNorm2d(64, eps=1e-05, momentum=0.1, affine=True, track_running_stats=True)\n",
       "    (2): ReLU(inplace)\n",
       "    (3): MaxPool2d(kernel_size=3, stride=2, padding=1, dilation=1, ceil_mode=False)\n",
       "    (4): Sequential(\n",
       "      (0): Bottleneck(\n",
       "        (conv1): Conv2d(64, 64, kernel_size=(1, 1), stride=(1, 1), bias=False)\n",
       "        (bn1): BatchNorm2d(64, eps=1e-05, momentum=0.1, affine=True, track_running_stats=True)\n",
       "        (conv2): Conv2d(64, 64, kernel_size=(3, 3), stride=(1, 1), padding=(1, 1), bias=False)\n",
       "        (bn2): BatchNorm2d(64, eps=1e-05, momentum=0.1, affine=True, track_running_stats=True)\n",
       "        (conv3): Conv2d(64, 256, kernel_size=(1, 1), stride=(1, 1), bias=False)\n",
       "        (bn3): BatchNorm2d(256, eps=1e-05, momentum=0.1, affine=True, track_running_stats=True)\n",
       "        (relu): ReLU(inplace)\n",
       "        (downsample): Sequential(\n",
       "          (0): Conv2d(64, 256, kernel_size=(1, 1), stride=(1, 1), bias=False)\n",
       "          (1): BatchNorm2d(256, eps=1e-05, momentum=0.1, affine=True, track_running_stats=True)\n",
       "        )\n",
       "      )\n",
       "      (1): Bottleneck(\n",
       "        (conv1): Conv2d(256, 64, kernel_size=(1, 1), stride=(1, 1), bias=False)\n",
       "        (bn1): BatchNorm2d(64, eps=1e-05, momentum=0.1, affine=True, track_running_stats=True)\n",
       "        (conv2): Conv2d(64, 64, kernel_size=(3, 3), stride=(1, 1), padding=(1, 1), bias=False)\n",
       "        (bn2): BatchNorm2d(64, eps=1e-05, momentum=0.1, affine=True, track_running_stats=True)\n",
       "        (conv3): Conv2d(64, 256, kernel_size=(1, 1), stride=(1, 1), bias=False)\n",
       "        (bn3): BatchNorm2d(256, eps=1e-05, momentum=0.1, affine=True, track_running_stats=True)\n",
       "        (relu): ReLU(inplace)\n",
       "      )\n",
       "      (2): Bottleneck(\n",
       "        (conv1): Conv2d(256, 64, kernel_size=(1, 1), stride=(1, 1), bias=False)\n",
       "        (bn1): BatchNorm2d(64, eps=1e-05, momentum=0.1, affine=True, track_running_stats=True)\n",
       "        (conv2): Conv2d(64, 64, kernel_size=(3, 3), stride=(1, 1), padding=(1, 1), bias=False)\n",
       "        (bn2): BatchNorm2d(64, eps=1e-05, momentum=0.1, affine=True, track_running_stats=True)\n",
       "        (conv3): Conv2d(64, 256, kernel_size=(1, 1), stride=(1, 1), bias=False)\n",
       "        (bn3): BatchNorm2d(256, eps=1e-05, momentum=0.1, affine=True, track_running_stats=True)\n",
       "        (relu): ReLU(inplace)\n",
       "      )\n",
       "    )\n",
       "    (5): Sequential(\n",
       "      (0): Bottleneck(\n",
       "        (conv1): Conv2d(256, 128, kernel_size=(1, 1), stride=(1, 1), bias=False)\n",
       "        (bn1): BatchNorm2d(128, eps=1e-05, momentum=0.1, affine=True, track_running_stats=True)\n",
       "        (conv2): Conv2d(128, 128, kernel_size=(3, 3), stride=(2, 2), padding=(1, 1), bias=False)\n",
       "        (bn2): BatchNorm2d(128, eps=1e-05, momentum=0.1, affine=True, track_running_stats=True)\n",
       "        (conv3): Conv2d(128, 512, kernel_size=(1, 1), stride=(1, 1), bias=False)\n",
       "        (bn3): BatchNorm2d(512, eps=1e-05, momentum=0.1, affine=True, track_running_stats=True)\n",
       "        (relu): ReLU(inplace)\n",
       "        (downsample): Sequential(\n",
       "          (0): Conv2d(256, 512, kernel_size=(1, 1), stride=(2, 2), bias=False)\n",
       "          (1): BatchNorm2d(512, eps=1e-05, momentum=0.1, affine=True, track_running_stats=True)\n",
       "        )\n",
       "      )\n",
       "      (1): Bottleneck(\n",
       "        (conv1): Conv2d(512, 128, kernel_size=(1, 1), stride=(1, 1), bias=False)\n",
       "        (bn1): BatchNorm2d(128, eps=1e-05, momentum=0.1, affine=True, track_running_stats=True)\n",
       "        (conv2): Conv2d(128, 128, kernel_size=(3, 3), stride=(1, 1), padding=(1, 1), bias=False)\n",
       "        (bn2): BatchNorm2d(128, eps=1e-05, momentum=0.1, affine=True, track_running_stats=True)\n",
       "        (conv3): Conv2d(128, 512, kernel_size=(1, 1), stride=(1, 1), bias=False)\n",
       "        (bn3): BatchNorm2d(512, eps=1e-05, momentum=0.1, affine=True, track_running_stats=True)\n",
       "        (relu): ReLU(inplace)\n",
       "      )\n",
       "      (2): Bottleneck(\n",
       "        (conv1): Conv2d(512, 128, kernel_size=(1, 1), stride=(1, 1), bias=False)\n",
       "        (bn1): BatchNorm2d(128, eps=1e-05, momentum=0.1, affine=True, track_running_stats=True)\n",
       "        (conv2): Conv2d(128, 128, kernel_size=(3, 3), stride=(1, 1), padding=(1, 1), bias=False)\n",
       "        (bn2): BatchNorm2d(128, eps=1e-05, momentum=0.1, affine=True, track_running_stats=True)\n",
       "        (conv3): Conv2d(128, 512, kernel_size=(1, 1), stride=(1, 1), bias=False)\n",
       "        (bn3): BatchNorm2d(512, eps=1e-05, momentum=0.1, affine=True, track_running_stats=True)\n",
       "        (relu): ReLU(inplace)\n",
       "      )\n",
       "      (3): Bottleneck(\n",
       "        (conv1): Conv2d(512, 128, kernel_size=(1, 1), stride=(1, 1), bias=False)\n",
       "        (bn1): BatchNorm2d(128, eps=1e-05, momentum=0.1, affine=True, track_running_stats=True)\n",
       "        (conv2): Conv2d(128, 128, kernel_size=(3, 3), stride=(1, 1), padding=(1, 1), bias=False)\n",
       "        (bn2): BatchNorm2d(128, eps=1e-05, momentum=0.1, affine=True, track_running_stats=True)\n",
       "        (conv3): Conv2d(128, 512, kernel_size=(1, 1), stride=(1, 1), bias=False)\n",
       "        (bn3): BatchNorm2d(512, eps=1e-05, momentum=0.1, affine=True, track_running_stats=True)\n",
       "        (relu): ReLU(inplace)\n",
       "      )\n",
       "    )\n",
       "    (6): Sequential(\n",
       "      (0): Bottleneck(\n",
       "        (conv1): Conv2d(512, 256, kernel_size=(1, 1), stride=(1, 1), bias=False)\n",
       "        (bn1): BatchNorm2d(256, eps=1e-05, momentum=0.1, affine=True, track_running_stats=True)\n",
       "        (conv2): Conv2d(256, 256, kernel_size=(3, 3), stride=(2, 2), padding=(1, 1), bias=False)\n",
       "        (bn2): BatchNorm2d(256, eps=1e-05, momentum=0.1, affine=True, track_running_stats=True)\n",
       "        (conv3): Conv2d(256, 1024, kernel_size=(1, 1), stride=(1, 1), bias=False)\n",
       "        (bn3): BatchNorm2d(1024, eps=1e-05, momentum=0.1, affine=True, track_running_stats=True)\n",
       "        (relu): ReLU(inplace)\n",
       "        (downsample): Sequential(\n",
       "          (0): Conv2d(512, 1024, kernel_size=(1, 1), stride=(2, 2), bias=False)\n",
       "          (1): BatchNorm2d(1024, eps=1e-05, momentum=0.1, affine=True, track_running_stats=True)\n",
       "        )\n",
       "      )\n",
       "      (1): Bottleneck(\n",
       "        (conv1): Conv2d(1024, 256, kernel_size=(1, 1), stride=(1, 1), bias=False)\n",
       "        (bn1): BatchNorm2d(256, eps=1e-05, momentum=0.1, affine=True, track_running_stats=True)\n",
       "        (conv2): Conv2d(256, 256, kernel_size=(3, 3), stride=(1, 1), padding=(1, 1), bias=False)\n",
       "        (bn2): BatchNorm2d(256, eps=1e-05, momentum=0.1, affine=True, track_running_stats=True)\n",
       "        (conv3): Conv2d(256, 1024, kernel_size=(1, 1), stride=(1, 1), bias=False)\n",
       "        (bn3): BatchNorm2d(1024, eps=1e-05, momentum=0.1, affine=True, track_running_stats=True)\n",
       "        (relu): ReLU(inplace)\n",
       "      )\n",
       "      (2): Bottleneck(\n",
       "        (conv1): Conv2d(1024, 256, kernel_size=(1, 1), stride=(1, 1), bias=False)\n",
       "        (bn1): BatchNorm2d(256, eps=1e-05, momentum=0.1, affine=True, track_running_stats=True)\n",
       "        (conv2): Conv2d(256, 256, kernel_size=(3, 3), stride=(1, 1), padding=(1, 1), bias=False)\n",
       "        (bn2): BatchNorm2d(256, eps=1e-05, momentum=0.1, affine=True, track_running_stats=True)\n",
       "        (conv3): Conv2d(256, 1024, kernel_size=(1, 1), stride=(1, 1), bias=False)\n",
       "        (bn3): BatchNorm2d(1024, eps=1e-05, momentum=0.1, affine=True, track_running_stats=True)\n",
       "        (relu): ReLU(inplace)\n",
       "      )\n",
       "      (3): Bottleneck(\n",
       "        (conv1): Conv2d(1024, 256, kernel_size=(1, 1), stride=(1, 1), bias=False)\n",
       "        (bn1): BatchNorm2d(256, eps=1e-05, momentum=0.1, affine=True, track_running_stats=True)\n",
       "        (conv2): Conv2d(256, 256, kernel_size=(3, 3), stride=(1, 1), padding=(1, 1), bias=False)\n",
       "        (bn2): BatchNorm2d(256, eps=1e-05, momentum=0.1, affine=True, track_running_stats=True)\n",
       "        (conv3): Conv2d(256, 1024, kernel_size=(1, 1), stride=(1, 1), bias=False)\n",
       "        (bn3): BatchNorm2d(1024, eps=1e-05, momentum=0.1, affine=True, track_running_stats=True)\n",
       "        (relu): ReLU(inplace)\n",
       "      )\n",
       "      (4): Bottleneck(\n",
       "        (conv1): Conv2d(1024, 256, kernel_size=(1, 1), stride=(1, 1), bias=False)\n",
       "        (bn1): BatchNorm2d(256, eps=1e-05, momentum=0.1, affine=True, track_running_stats=True)\n",
       "        (conv2): Conv2d(256, 256, kernel_size=(3, 3), stride=(1, 1), padding=(1, 1), bias=False)\n",
       "        (bn2): BatchNorm2d(256, eps=1e-05, momentum=0.1, affine=True, track_running_stats=True)\n",
       "        (conv3): Conv2d(256, 1024, kernel_size=(1, 1), stride=(1, 1), bias=False)\n",
       "        (bn3): BatchNorm2d(1024, eps=1e-05, momentum=0.1, affine=True, track_running_stats=True)\n",
       "        (relu): ReLU(inplace)\n",
       "      )\n",
       "      (5): Bottleneck(\n",
       "        (conv1): Conv2d(1024, 256, kernel_size=(1, 1), stride=(1, 1), bias=False)\n",
       "        (bn1): BatchNorm2d(256, eps=1e-05, momentum=0.1, affine=True, track_running_stats=True)\n",
       "        (conv2): Conv2d(256, 256, kernel_size=(3, 3), stride=(1, 1), padding=(1, 1), bias=False)\n",
       "        (bn2): BatchNorm2d(256, eps=1e-05, momentum=0.1, affine=True, track_running_stats=True)\n",
       "        (conv3): Conv2d(256, 1024, kernel_size=(1, 1), stride=(1, 1), bias=False)\n",
       "        (bn3): BatchNorm2d(1024, eps=1e-05, momentum=0.1, affine=True, track_running_stats=True)\n",
       "        (relu): ReLU(inplace)\n",
       "      )\n",
       "    )\n",
       "    (7): Sequential(\n",
       "      (0): Bottleneck(\n",
       "        (conv1): Conv2d(1024, 512, kernel_size=(1, 1), stride=(1, 1), bias=False)\n",
       "        (bn1): BatchNorm2d(512, eps=1e-05, momentum=0.1, affine=True, track_running_stats=True)\n",
       "        (conv2): Conv2d(512, 512, kernel_size=(3, 3), stride=(2, 2), padding=(1, 1), bias=False)\n",
       "        (bn2): BatchNorm2d(512, eps=1e-05, momentum=0.1, affine=True, track_running_stats=True)\n",
       "        (conv3): Conv2d(512, 2048, kernel_size=(1, 1), stride=(1, 1), bias=False)\n",
       "        (bn3): BatchNorm2d(2048, eps=1e-05, momentum=0.1, affine=True, track_running_stats=True)\n",
       "        (relu): ReLU(inplace)\n",
       "        (downsample): Sequential(\n",
       "          (0): Conv2d(1024, 2048, kernel_size=(1, 1), stride=(2, 2), bias=False)\n",
       "          (1): BatchNorm2d(2048, eps=1e-05, momentum=0.1, affine=True, track_running_stats=True)\n",
       "        )\n",
       "      )\n",
       "      (1): Bottleneck(\n",
       "        (conv1): Conv2d(2048, 512, kernel_size=(1, 1), stride=(1, 1), bias=False)\n",
       "        (bn1): BatchNorm2d(512, eps=1e-05, momentum=0.1, affine=True, track_running_stats=True)\n",
       "        (conv2): Conv2d(512, 512, kernel_size=(3, 3), stride=(1, 1), padding=(1, 1), bias=False)\n",
       "        (bn2): BatchNorm2d(512, eps=1e-05, momentum=0.1, affine=True, track_running_stats=True)\n",
       "        (conv3): Conv2d(512, 2048, kernel_size=(1, 1), stride=(1, 1), bias=False)\n",
       "        (bn3): BatchNorm2d(2048, eps=1e-05, momentum=0.1, affine=True, track_running_stats=True)\n",
       "        (relu): ReLU(inplace)\n",
       "      )\n",
       "      (2): Bottleneck(\n",
       "        (conv1): Conv2d(2048, 512, kernel_size=(1, 1), stride=(1, 1), bias=False)\n",
       "        (bn1): BatchNorm2d(512, eps=1e-05, momentum=0.1, affine=True, track_running_stats=True)\n",
       "        (conv2): Conv2d(512, 512, kernel_size=(3, 3), stride=(1, 1), padding=(1, 1), bias=False)\n",
       "        (bn2): BatchNorm2d(512, eps=1e-05, momentum=0.1, affine=True, track_running_stats=True)\n",
       "        (conv3): Conv2d(512, 2048, kernel_size=(1, 1), stride=(1, 1), bias=False)\n",
       "        (bn3): BatchNorm2d(2048, eps=1e-05, momentum=0.1, affine=True, track_running_stats=True)\n",
       "        (relu): ReLU(inplace)\n",
       "      )\n",
       "    )\n",
       "  )\n",
       "  (1): Sequential(\n",
       "    (0): AdaptiveConcatPool2d(\n",
       "      (ap): AdaptiveAvgPool2d(output_size=1)\n",
       "      (mp): AdaptiveMaxPool2d(output_size=1)\n",
       "    )\n",
       "    (1): Flatten()\n",
       "    (2): BatchNorm1d(4096, eps=1e-05, momentum=0.1, affine=True, track_running_stats=True)\n",
       "    (3): Dropout(p=0.25)\n",
       "    (4): Linear(in_features=4096, out_features=512, bias=True)\n",
       "    (5): ReLU(inplace)\n",
       "    (6): BatchNorm1d(512, eps=1e-05, momentum=0.1, affine=True, track_running_stats=True)\n",
       "    (7): Dropout(p=0.5)\n",
       "    (8): Linear(in_features=512, out_features=2, bias=True)\n",
       "  )\n",
       "), opt_func=functools.partial(<class 'torch.optim.adam.Adam'>, betas=(0.9, 0.99)), loss_func=FlattenedLoss of CrossEntropyLoss(), metrics=[<function accuracy at 0x7fd074547b70>], true_wd=True, bn_wd=True, wd=0.01, train_bn=True, path=PosixPath('/home/ubuntu/Documents'), model_dir='models', callback_fns=[<class 'fastai.basic_train.Recorder'>], callbacks=[], layer_groups=[Sequential(\n",
       "  (0): Conv2d(3, 64, kernel_size=(7, 7), stride=(2, 2), padding=(3, 3), bias=False)\n",
       "  (1): BatchNorm2d(64, eps=1e-05, momentum=0.1, affine=True, track_running_stats=True)\n",
       "  (2): ReLU(inplace)\n",
       "  (3): MaxPool2d(kernel_size=3, stride=2, padding=1, dilation=1, ceil_mode=False)\n",
       "  (4): Conv2d(64, 64, kernel_size=(1, 1), stride=(1, 1), bias=False)\n",
       "  (5): BatchNorm2d(64, eps=1e-05, momentum=0.1, affine=True, track_running_stats=True)\n",
       "  (6): Conv2d(64, 64, kernel_size=(3, 3), stride=(1, 1), padding=(1, 1), bias=False)\n",
       "  (7): BatchNorm2d(64, eps=1e-05, momentum=0.1, affine=True, track_running_stats=True)\n",
       "  (8): Conv2d(64, 256, kernel_size=(1, 1), stride=(1, 1), bias=False)\n",
       "  (9): BatchNorm2d(256, eps=1e-05, momentum=0.1, affine=True, track_running_stats=True)\n",
       "  (10): ReLU(inplace)\n",
       "  (11): Conv2d(64, 256, kernel_size=(1, 1), stride=(1, 1), bias=False)\n",
       "  (12): BatchNorm2d(256, eps=1e-05, momentum=0.1, affine=True, track_running_stats=True)\n",
       "  (13): Conv2d(256, 64, kernel_size=(1, 1), stride=(1, 1), bias=False)\n",
       "  (14): BatchNorm2d(64, eps=1e-05, momentum=0.1, affine=True, track_running_stats=True)\n",
       "  (15): Conv2d(64, 64, kernel_size=(3, 3), stride=(1, 1), padding=(1, 1), bias=False)\n",
       "  (16): BatchNorm2d(64, eps=1e-05, momentum=0.1, affine=True, track_running_stats=True)\n",
       "  (17): Conv2d(64, 256, kernel_size=(1, 1), stride=(1, 1), bias=False)\n",
       "  (18): BatchNorm2d(256, eps=1e-05, momentum=0.1, affine=True, track_running_stats=True)\n",
       "  (19): ReLU(inplace)\n",
       "  (20): Conv2d(256, 64, kernel_size=(1, 1), stride=(1, 1), bias=False)\n",
       "  (21): BatchNorm2d(64, eps=1e-05, momentum=0.1, affine=True, track_running_stats=True)\n",
       "  (22): Conv2d(64, 64, kernel_size=(3, 3), stride=(1, 1), padding=(1, 1), bias=False)\n",
       "  (23): BatchNorm2d(64, eps=1e-05, momentum=0.1, affine=True, track_running_stats=True)\n",
       "  (24): Conv2d(64, 256, kernel_size=(1, 1), stride=(1, 1), bias=False)\n",
       "  (25): BatchNorm2d(256, eps=1e-05, momentum=0.1, affine=True, track_running_stats=True)\n",
       "  (26): ReLU(inplace)\n",
       "  (27): Conv2d(256, 128, kernel_size=(1, 1), stride=(1, 1), bias=False)\n",
       "  (28): BatchNorm2d(128, eps=1e-05, momentum=0.1, affine=True, track_running_stats=True)\n",
       "  (29): Conv2d(128, 128, kernel_size=(3, 3), stride=(2, 2), padding=(1, 1), bias=False)\n",
       "  (30): BatchNorm2d(128, eps=1e-05, momentum=0.1, affine=True, track_running_stats=True)\n",
       "  (31): Conv2d(128, 512, kernel_size=(1, 1), stride=(1, 1), bias=False)\n",
       "  (32): BatchNorm2d(512, eps=1e-05, momentum=0.1, affine=True, track_running_stats=True)\n",
       "  (33): ReLU(inplace)\n",
       "  (34): Conv2d(256, 512, kernel_size=(1, 1), stride=(2, 2), bias=False)\n",
       "  (35): BatchNorm2d(512, eps=1e-05, momentum=0.1, affine=True, track_running_stats=True)\n",
       "  (36): Conv2d(512, 128, kernel_size=(1, 1), stride=(1, 1), bias=False)\n",
       "  (37): BatchNorm2d(128, eps=1e-05, momentum=0.1, affine=True, track_running_stats=True)\n",
       "  (38): Conv2d(128, 128, kernel_size=(3, 3), stride=(1, 1), padding=(1, 1), bias=False)\n",
       "  (39): BatchNorm2d(128, eps=1e-05, momentum=0.1, affine=True, track_running_stats=True)\n",
       "  (40): Conv2d(128, 512, kernel_size=(1, 1), stride=(1, 1), bias=False)\n",
       "  (41): BatchNorm2d(512, eps=1e-05, momentum=0.1, affine=True, track_running_stats=True)\n",
       "  (42): ReLU(inplace)\n",
       "  (43): Conv2d(512, 128, kernel_size=(1, 1), stride=(1, 1), bias=False)\n",
       "  (44): BatchNorm2d(128, eps=1e-05, momentum=0.1, affine=True, track_running_stats=True)\n",
       "  (45): Conv2d(128, 128, kernel_size=(3, 3), stride=(1, 1), padding=(1, 1), bias=False)\n",
       "  (46): BatchNorm2d(128, eps=1e-05, momentum=0.1, affine=True, track_running_stats=True)\n",
       "  (47): Conv2d(128, 512, kernel_size=(1, 1), stride=(1, 1), bias=False)\n",
       "  (48): BatchNorm2d(512, eps=1e-05, momentum=0.1, affine=True, track_running_stats=True)\n",
       "  (49): ReLU(inplace)\n",
       "  (50): Conv2d(512, 128, kernel_size=(1, 1), stride=(1, 1), bias=False)\n",
       "  (51): BatchNorm2d(128, eps=1e-05, momentum=0.1, affine=True, track_running_stats=True)\n",
       "  (52): Conv2d(128, 128, kernel_size=(3, 3), stride=(1, 1), padding=(1, 1), bias=False)\n",
       "  (53): BatchNorm2d(128, eps=1e-05, momentum=0.1, affine=True, track_running_stats=True)\n",
       "  (54): Conv2d(128, 512, kernel_size=(1, 1), stride=(1, 1), bias=False)\n",
       "  (55): BatchNorm2d(512, eps=1e-05, momentum=0.1, affine=True, track_running_stats=True)\n",
       "  (56): ReLU(inplace)\n",
       "), Sequential(\n",
       "  (0): Conv2d(512, 256, kernel_size=(1, 1), stride=(1, 1), bias=False)\n",
       "  (1): BatchNorm2d(256, eps=1e-05, momentum=0.1, affine=True, track_running_stats=True)\n",
       "  (2): Conv2d(256, 256, kernel_size=(3, 3), stride=(2, 2), padding=(1, 1), bias=False)\n",
       "  (3): BatchNorm2d(256, eps=1e-05, momentum=0.1, affine=True, track_running_stats=True)\n",
       "  (4): Conv2d(256, 1024, kernel_size=(1, 1), stride=(1, 1), bias=False)\n",
       "  (5): BatchNorm2d(1024, eps=1e-05, momentum=0.1, affine=True, track_running_stats=True)\n",
       "  (6): ReLU(inplace)\n",
       "  (7): Conv2d(512, 1024, kernel_size=(1, 1), stride=(2, 2), bias=False)\n",
       "  (8): BatchNorm2d(1024, eps=1e-05, momentum=0.1, affine=True, track_running_stats=True)\n",
       "  (9): Conv2d(1024, 256, kernel_size=(1, 1), stride=(1, 1), bias=False)\n",
       "  (10): BatchNorm2d(256, eps=1e-05, momentum=0.1, affine=True, track_running_stats=True)\n",
       "  (11): Conv2d(256, 256, kernel_size=(3, 3), stride=(1, 1), padding=(1, 1), bias=False)\n",
       "  (12): BatchNorm2d(256, eps=1e-05, momentum=0.1, affine=True, track_running_stats=True)\n",
       "  (13): Conv2d(256, 1024, kernel_size=(1, 1), stride=(1, 1), bias=False)\n",
       "  (14): BatchNorm2d(1024, eps=1e-05, momentum=0.1, affine=True, track_running_stats=True)\n",
       "  (15): ReLU(inplace)\n",
       "  (16): Conv2d(1024, 256, kernel_size=(1, 1), stride=(1, 1), bias=False)\n",
       "  (17): BatchNorm2d(256, eps=1e-05, momentum=0.1, affine=True, track_running_stats=True)\n",
       "  (18): Conv2d(256, 256, kernel_size=(3, 3), stride=(1, 1), padding=(1, 1), bias=False)\n",
       "  (19): BatchNorm2d(256, eps=1e-05, momentum=0.1, affine=True, track_running_stats=True)\n",
       "  (20): Conv2d(256, 1024, kernel_size=(1, 1), stride=(1, 1), bias=False)\n",
       "  (21): BatchNorm2d(1024, eps=1e-05, momentum=0.1, affine=True, track_running_stats=True)\n",
       "  (22): ReLU(inplace)\n",
       "  (23): Conv2d(1024, 256, kernel_size=(1, 1), stride=(1, 1), bias=False)\n",
       "  (24): BatchNorm2d(256, eps=1e-05, momentum=0.1, affine=True, track_running_stats=True)\n",
       "  (25): Conv2d(256, 256, kernel_size=(3, 3), stride=(1, 1), padding=(1, 1), bias=False)\n",
       "  (26): BatchNorm2d(256, eps=1e-05, momentum=0.1, affine=True, track_running_stats=True)\n",
       "  (27): Conv2d(256, 1024, kernel_size=(1, 1), stride=(1, 1), bias=False)\n",
       "  (28): BatchNorm2d(1024, eps=1e-05, momentum=0.1, affine=True, track_running_stats=True)\n",
       "  (29): ReLU(inplace)\n",
       "  (30): Conv2d(1024, 256, kernel_size=(1, 1), stride=(1, 1), bias=False)\n",
       "  (31): BatchNorm2d(256, eps=1e-05, momentum=0.1, affine=True, track_running_stats=True)\n",
       "  (32): Conv2d(256, 256, kernel_size=(3, 3), stride=(1, 1), padding=(1, 1), bias=False)\n",
       "  (33): BatchNorm2d(256, eps=1e-05, momentum=0.1, affine=True, track_running_stats=True)\n",
       "  (34): Conv2d(256, 1024, kernel_size=(1, 1), stride=(1, 1), bias=False)\n",
       "  (35): BatchNorm2d(1024, eps=1e-05, momentum=0.1, affine=True, track_running_stats=True)\n",
       "  (36): ReLU(inplace)\n",
       "  (37): Conv2d(1024, 256, kernel_size=(1, 1), stride=(1, 1), bias=False)\n",
       "  (38): BatchNorm2d(256, eps=1e-05, momentum=0.1, affine=True, track_running_stats=True)\n",
       "  (39): Conv2d(256, 256, kernel_size=(3, 3), stride=(1, 1), padding=(1, 1), bias=False)\n",
       "  (40): BatchNorm2d(256, eps=1e-05, momentum=0.1, affine=True, track_running_stats=True)\n",
       "  (41): Conv2d(256, 1024, kernel_size=(1, 1), stride=(1, 1), bias=False)\n",
       "  (42): BatchNorm2d(1024, eps=1e-05, momentum=0.1, affine=True, track_running_stats=True)\n",
       "  (43): ReLU(inplace)\n",
       "  (44): Conv2d(1024, 512, kernel_size=(1, 1), stride=(1, 1), bias=False)\n",
       "  (45): BatchNorm2d(512, eps=1e-05, momentum=0.1, affine=True, track_running_stats=True)\n",
       "  (46): Conv2d(512, 512, kernel_size=(3, 3), stride=(2, 2), padding=(1, 1), bias=False)\n",
       "  (47): BatchNorm2d(512, eps=1e-05, momentum=0.1, affine=True, track_running_stats=True)\n",
       "  (48): Conv2d(512, 2048, kernel_size=(1, 1), stride=(1, 1), bias=False)\n",
       "  (49): BatchNorm2d(2048, eps=1e-05, momentum=0.1, affine=True, track_running_stats=True)\n",
       "  (50): ReLU(inplace)\n",
       "  (51): Conv2d(1024, 2048, kernel_size=(1, 1), stride=(2, 2), bias=False)\n",
       "  (52): BatchNorm2d(2048, eps=1e-05, momentum=0.1, affine=True, track_running_stats=True)\n",
       "  (53): Conv2d(2048, 512, kernel_size=(1, 1), stride=(1, 1), bias=False)\n",
       "  (54): BatchNorm2d(512, eps=1e-05, momentum=0.1, affine=True, track_running_stats=True)\n",
       "  (55): Conv2d(512, 512, kernel_size=(3, 3), stride=(1, 1), padding=(1, 1), bias=False)\n",
       "  (56): BatchNorm2d(512, eps=1e-05, momentum=0.1, affine=True, track_running_stats=True)\n",
       "  (57): Conv2d(512, 2048, kernel_size=(1, 1), stride=(1, 1), bias=False)\n",
       "  (58): BatchNorm2d(2048, eps=1e-05, momentum=0.1, affine=True, track_running_stats=True)\n",
       "  (59): ReLU(inplace)\n",
       "  (60): Conv2d(2048, 512, kernel_size=(1, 1), stride=(1, 1), bias=False)\n",
       "  (61): BatchNorm2d(512, eps=1e-05, momentum=0.1, affine=True, track_running_stats=True)\n",
       "  (62): Conv2d(512, 512, kernel_size=(3, 3), stride=(1, 1), padding=(1, 1), bias=False)\n",
       "  (63): BatchNorm2d(512, eps=1e-05, momentum=0.1, affine=True, track_running_stats=True)\n",
       "  (64): Conv2d(512, 2048, kernel_size=(1, 1), stride=(1, 1), bias=False)\n",
       "  (65): BatchNorm2d(2048, eps=1e-05, momentum=0.1, affine=True, track_running_stats=True)\n",
       "  (66): ReLU(inplace)\n",
       "), Sequential(\n",
       "  (0): AdaptiveAvgPool2d(output_size=1)\n",
       "  (1): AdaptiveMaxPool2d(output_size=1)\n",
       "  (2): Flatten()\n",
       "  (3): BatchNorm1d(4096, eps=1e-05, momentum=0.1, affine=True, track_running_stats=True)\n",
       "  (4): Dropout(p=0.25)\n",
       "  (5): Linear(in_features=4096, out_features=512, bias=True)\n",
       "  (6): ReLU(inplace)\n",
       "  (7): BatchNorm1d(512, eps=1e-05, momentum=0.1, affine=True, track_running_stats=True)\n",
       "  (8): Dropout(p=0.5)\n",
       "  (9): Linear(in_features=512, out_features=2, bias=True)\n",
       ")])"
      ]
     },
     "execution_count": 91,
     "metadata": {},
     "output_type": "execute_result"
    }
   ],
   "source": [
    "# data = ImageDataBunch.create_from_ll(src, size = 224, test = 'test', bs = 32, ds_tfms = get_transforms())\n",
    "# data.path = '/home/ubuntu/Documents/'\n",
    "learn = create_cnn(data, models.resnet50, metrics=accuracy)\n",
    "learn.load('resnet50_trns_iter1')"
   ]
  },
  {
   "cell_type": "code",
   "execution_count": 92,
   "metadata": {},
   "outputs": [
    {
     "data": {
      "text/plain": [
       "[tensor([[0.2393, 0.7607],\n",
       "         [0.1080, 0.8920],\n",
       "         [0.2749, 0.7251],\n",
       "         ...,\n",
       "         [0.3568, 0.6432],\n",
       "         [0.2401, 0.7599],\n",
       "         [0.6485, 0.3515]]), tensor([1, 1, 1,  ..., 0, 1, 0])]"
      ]
     },
     "execution_count": 92,
     "metadata": {},
     "output_type": "execute_result"
    }
   ],
   "source": [
    "l = learn.get_preds()\n",
    "l"
   ]
  },
  {
   "cell_type": "code",
   "execution_count": 93,
   "metadata": {},
   "outputs": [],
   "source": [
    "a = [float(x[1]) for x in l[0]]"
   ]
  },
  {
   "cell_type": "code",
   "execution_count": 94,
   "metadata": {},
   "outputs": [
    {
     "data": {
      "text/plain": [
       "tensor([1, 1, 1,  ..., 1, 1, 0])"
      ]
     },
     "execution_count": 94,
     "metadata": {},
     "output_type": "execute_result"
    }
   ],
   "source": [
    "temp = np.argmax(l[0], axis = 1)\n",
    "temp"
   ]
  },
  {
   "cell_type": "code",
   "execution_count": 95,
   "metadata": {},
   "outputs": [
    {
     "data": {
      "text/plain": [
       "(array([0, 1]), array([ 798, 3388]))"
      ]
     },
     "execution_count": 95,
     "metadata": {},
     "output_type": "execute_result"
    }
   ],
   "source": [
    "np.unique(temp, return_counts=True)"
   ]
  },
  {
   "cell_type": "code",
   "execution_count": 96,
   "metadata": {},
   "outputs": [
    {
     "name": "stdout",
     "output_type": "stream",
     "text": [
      "F1_score:  0.474204842480635\n",
      "Accuracy:  0.524605828953655\n",
      "[[ 445 1637]\n",
      " [ 353 1751]]\n"
     ]
    }
   ],
   "source": [
    "get_metrics(data.valid_ds.y.items, temp)"
   ]
  },
  {
   "cell_type": "code",
   "execution_count": 103,
   "metadata": {},
   "outputs": [
    {
     "data": {
      "text/plain": [
       "[tensor([[0.0702, 0.9298],\n",
       "         [0.2291, 0.7709],\n",
       "         [0.2932, 0.7068],\n",
       "         ...,\n",
       "         [0.5602, 0.4398],\n",
       "         [0.2433, 0.7567],\n",
       "         [0.3969, 0.6031]]), tensor([0, 0, 0,  ..., 0, 0, 0])]"
      ]
     },
     "execution_count": 103,
     "metadata": {},
     "output_type": "execute_result"
    }
   ],
   "source": [
    "# getting test predictions\n",
    "test_output = learn.get_preds(DatasetType.Test)\n",
    "test_output"
   ]
  },
  {
   "cell_type": "code",
   "execution_count": 104,
   "metadata": {},
   "outputs": [
    {
     "data": {
      "text/plain": [
       "array([1, 1, 1, 1, ..., 1, 0, 1, 1])"
      ]
     },
     "execution_count": 104,
     "metadata": {},
     "output_type": "execute_result"
    }
   ],
   "source": [
    "labels = np.argmax(test_output[0], axis = 1)\n",
    "np.array(labels)"
   ]
  },
  {
   "cell_type": "code",
   "execution_count": 105,
   "metadata": {},
   "outputs": [],
   "source": [
    "output_df = pd.DataFrame({'Filename':data.test_dl.x.items, 'Prediction': np.array(labels)})"
   ]
  },
  {
   "cell_type": "code",
   "execution_count": 106,
   "metadata": {},
   "outputs": [],
   "source": [
    "output_df['Filename'] = output_df['Filename'].apply(lambda x: str(x).split('/')[-1])"
   ]
  },
  {
   "cell_type": "code",
   "execution_count": 107,
   "metadata": {},
   "outputs": [
    {
     "data": {
      "text/html": [
       "<div>\n",
       "<style scoped>\n",
       "    .dataframe tbody tr th:only-of-type {\n",
       "        vertical-align: middle;\n",
       "    }\n",
       "\n",
       "    .dataframe tbody tr th {\n",
       "        vertical-align: top;\n",
       "    }\n",
       "\n",
       "    .dataframe thead th {\n",
       "        text-align: right;\n",
       "    }\n",
       "</style>\n",
       "<table border=\"1\" class=\"dataframe\">\n",
       "  <thead>\n",
       "    <tr style=\"text-align: right;\">\n",
       "      <th></th>\n",
       "      <th>Filename</th>\n",
       "      <th>Prediction</th>\n",
       "    </tr>\n",
       "  </thead>\n",
       "  <tbody>\n",
       "    <tr>\n",
       "      <th>0</th>\n",
       "      <td>3a7458a237d5d457c88ff8ebacb73481.jpg</td>\n",
       "      <td>1</td>\n",
       "    </tr>\n",
       "    <tr>\n",
       "      <th>1</th>\n",
       "      <td>63b3f3fd3a255d3ff49ad52ac7f34453.jpg</td>\n",
       "      <td>1</td>\n",
       "    </tr>\n",
       "    <tr>\n",
       "      <th>2</th>\n",
       "      <td>65093b60262226d52221d4fa17f614cc.jpg</td>\n",
       "      <td>1</td>\n",
       "    </tr>\n",
       "    <tr>\n",
       "      <th>3</th>\n",
       "      <td>9ee7256d99e720cbb653b6a536871307.jpg</td>\n",
       "      <td>1</td>\n",
       "    </tr>\n",
       "    <tr>\n",
       "      <th>4</th>\n",
       "      <td>e20d2f9863e74bbd0fdbc4c3e38f092b.jpg</td>\n",
       "      <td>1</td>\n",
       "    </tr>\n",
       "  </tbody>\n",
       "</table>\n",
       "</div>"
      ],
      "text/plain": [
       "                               Filename  Prediction\n",
       "0  3a7458a237d5d457c88ff8ebacb73481.jpg           1\n",
       "1  63b3f3fd3a255d3ff49ad52ac7f34453.jpg           1\n",
       "2  65093b60262226d52221d4fa17f614cc.jpg           1\n",
       "3  9ee7256d99e720cbb653b6a536871307.jpg           1\n",
       "4  e20d2f9863e74bbd0fdbc4c3e38f092b.jpg           1"
      ]
     },
     "execution_count": 107,
     "metadata": {},
     "output_type": "execute_result"
    }
   ],
   "source": [
    "output_df.head()"
   ]
  },
  {
   "cell_type": "code",
   "execution_count": 108,
   "metadata": {},
   "outputs": [],
   "source": [
    "output_df['Prediction'] = output_df['Prediction'].map({0: 'fake', 1: 'real'})"
   ]
  },
  {
   "cell_type": "code",
   "execution_count": 109,
   "metadata": {},
   "outputs": [
    {
     "data": {
      "text/html": [
       "<div>\n",
       "<style scoped>\n",
       "    .dataframe tbody tr th:only-of-type {\n",
       "        vertical-align: middle;\n",
       "    }\n",
       "\n",
       "    .dataframe tbody tr th {\n",
       "        vertical-align: top;\n",
       "    }\n",
       "\n",
       "    .dataframe thead th {\n",
       "        text-align: right;\n",
       "    }\n",
       "</style>\n",
       "<table border=\"1\" class=\"dataframe\">\n",
       "  <thead>\n",
       "    <tr style=\"text-align: right;\">\n",
       "      <th></th>\n",
       "      <th>Filename</th>\n",
       "      <th>Prediction</th>\n",
       "    </tr>\n",
       "  </thead>\n",
       "  <tbody>\n",
       "    <tr>\n",
       "      <th>0</th>\n",
       "      <td>3a7458a237d5d457c88ff8ebacb73481.jpg</td>\n",
       "      <td>real</td>\n",
       "    </tr>\n",
       "    <tr>\n",
       "      <th>1</th>\n",
       "      <td>63b3f3fd3a255d3ff49ad52ac7f34453.jpg</td>\n",
       "      <td>real</td>\n",
       "    </tr>\n",
       "    <tr>\n",
       "      <th>2</th>\n",
       "      <td>65093b60262226d52221d4fa17f614cc.jpg</td>\n",
       "      <td>real</td>\n",
       "    </tr>\n",
       "    <tr>\n",
       "      <th>3</th>\n",
       "      <td>9ee7256d99e720cbb653b6a536871307.jpg</td>\n",
       "      <td>real</td>\n",
       "    </tr>\n",
       "    <tr>\n",
       "      <th>4</th>\n",
       "      <td>e20d2f9863e74bbd0fdbc4c3e38f092b.jpg</td>\n",
       "      <td>real</td>\n",
       "    </tr>\n",
       "  </tbody>\n",
       "</table>\n",
       "</div>"
      ],
      "text/plain": [
       "                               Filename Prediction\n",
       "0  3a7458a237d5d457c88ff8ebacb73481.jpg       real\n",
       "1  63b3f3fd3a255d3ff49ad52ac7f34453.jpg       real\n",
       "2  65093b60262226d52221d4fa17f614cc.jpg       real\n",
       "3  9ee7256d99e720cbb653b6a536871307.jpg       real\n",
       "4  e20d2f9863e74bbd0fdbc4c3e38f092b.jpg       real"
      ]
     },
     "execution_count": 109,
     "metadata": {},
     "output_type": "execute_result"
    }
   ],
   "source": [
    "output_df.head()"
   ]
  },
  {
   "cell_type": "code",
   "execution_count": 110,
   "metadata": {},
   "outputs": [
    {
     "data": {
      "text/plain": [
       "real    4709\n",
       "fake     721\n",
       "Name: Prediction, dtype: int64"
      ]
     },
     "execution_count": 110,
     "metadata": {},
     "output_type": "execute_result"
    }
   ],
   "source": [
    "output_df['Prediction'].value_counts()"
   ]
  },
  {
   "cell_type": "code",
   "execution_count": 111,
   "metadata": {},
   "outputs": [],
   "source": [
    "output_df.to_csv('submission_only_resnet50.csv', index=False)"
   ]
  },
  {
   "cell_type": "code",
   "execution_count": 112,
   "metadata": {},
   "outputs": [
    {
     "data": {
      "text/plain": [
       "tensor([[0.0702, 0.9298],\n",
       "        [0.2291, 0.7709],\n",
       "        [0.2932, 0.7068],\n",
       "        ...,\n",
       "        [0.5602, 0.4398],\n",
       "        [0.2433, 0.7567],\n",
       "        [0.3969, 0.6031]])"
      ]
     },
     "execution_count": 112,
     "metadata": {},
     "output_type": "execute_result"
    }
   ],
   "source": [
    "test_output[0]"
   ]
  },
  {
   "cell_type": "code",
   "execution_count": 113,
   "metadata": {},
   "outputs": [
    {
     "data": {
      "text/plain": [
       "array([1, 1, 1, 1, ..., 1, 0, 1, 1])"
      ]
     },
     "execution_count": 113,
     "metadata": {},
     "output_type": "execute_result"
    }
   ],
   "source": [
    "np.argmax(np.array(test_output[0]), axis = 1)"
   ]
  },
  {
   "cell_type": "code",
   "execution_count": null,
   "metadata": {},
   "outputs": [],
   "source": []
  },
  {
   "cell_type": "code",
   "execution_count": 86,
   "metadata": {},
   "outputs": [],
   "source": [
    "def get_data_for_ela():\n",
    "    path = '/home/ubuntu/Documents/ELA'\n",
    "    files_df = pd.read_csv('training_data.csv')\n",
    "    files,labels = list(files_df['Files'].values), list(files_df['labels'].values)\n",
    "    \n",
    "    files = ['/home/ubuntu/Documents/ELA/' + '/'.join(x.split('/')[-3:]) for x in files]\n",
    "    fname2label = {f:l for (f,l) in zip(files, labels)}\n",
    "    src = ImageItemList(files, path=path).random_split_by_pct(valid_pct=0.25, seed=42).label_from_func(lambda x:fname2label[x])\n",
    "    \n",
    "    data = ImageDataBunch.create_from_ll(src, size = 299, test = 'test', bs = 32, ds_tfms = None)\n",
    "    data.path = '/home/ubuntu/Documents/'\n",
    "    return data\n",
    "    "
   ]
  },
  {
   "cell_type": "code",
   "execution_count": 83,
   "metadata": {},
   "outputs": [],
   "source": [
    "net_dict = {'resnet18': models.resnet18, 'resnet34': models.resnet34, 'resnet50': models.resnet50, 'resnet101': models.resnet101}\n",
    "models_used_def = ['resnet50_trns_iter_2','resnet34_ela_299_iter22']\n",
    "def get_ensemble(models_used = models_used_def, is_test = False):\n",
    "    models_combined = pd.DataFrame()\n",
    "    all_res = {}\n",
    "    for i in models_used:\n",
    "        print(i)\n",
    "        netname = i.split('_')[0]\n",
    "        arch = net_dict[netname]\n",
    "        if('ela' in i):\n",
    "            # need to load data from ela folder\n",
    "            print('its ela')\n",
    "            data_ela = get_data_for_ela()\n",
    "            learn = create_cnn(data_ela, arch, metrics=accuracy)\n",
    "            learn.load(i)\n",
    "        else:\n",
    "            learn = create_cnn(data, arch, metrics=accuracy)\n",
    "            learn.load(i)\n",
    "        if(is_test):\n",
    "            d = DatasetType.Test\n",
    "        else:\n",
    "            d = DatasetType.Valid\n",
    "        probs = learn.get_preds(d)\n",
    "        all_res[i] = np.argmax(probs[0], axis = 1)\n",
    "        all_res[i+'fake'] = [float(x[0]) for x in probs[0]]\n",
    "        all_res[i+'real'] = [float(x[1]) for x in probs[0]]\n",
    "        if(is_test == False):\n",
    "            get_metrics(data.valid_ds.y.items, all_res[i])\n",
    "        all_res[i+'|prob'] = np.max(np.array(probs[0]), axis = 1)\n",
    "    models_combined = pd.DataFrame(all_res)\n",
    "    return models_combined\n",
    "\n",
    "def get_ensemble_submission(is_t = False):\n",
    "    results_combined = get_ensemble(is_test = is_t)\n",
    "    results_combined['confident'] = results_combined[[x+'|prob' for x in models_used_def]].idxmax(axis = 1)\n",
    "    results_combined['label'] = results_combined.apply(lambda x : x[x['confident'].split('|')[0]], axis = 1)\n",
    "    return results_combined['label'].astype(int).values\n",
    "\n",
    "def get_submission_file(learn, ensemble = True, output_filename = 'final_submission.csv'):\n",
    "    if(ensemble):\n",
    "        test_preds = get_ensemble_submission(True)\n",
    "    else:\n",
    "        test_predictions = learn.predict(is_test = True)\n",
    "        test_preds = np.argmax(test_predictions, axis=1)  # from log probabilities to 0 or 1ts\n",
    "        test_probs = np.exp(test_predictions[:,1])        # pr()\n",
    "        \n",
    "    labels = [data.classes[x] for x in test_preds]\n",
    "    assert(len(data.test_dl.x.items) == len(labels))\n",
    "    \n",
    "    output_df = pd.DataFrame({'Filename':data.test_dl.x.items, 'Prediction': np.array(labels)})\n",
    "    output_df['Filename'] = output_df['Filename'].apply(lambda x: str(x).split('/')[-1])\n",
    "    \n",
    "    output_df.to_csv(output_filename, index=False)\n",
    "    return output_df\n",
    "\n"
   ]
  },
  {
   "cell_type": "code",
   "execution_count": 87,
   "metadata": {},
   "outputs": [
    {
     "data": {
      "text/plain": [
       "5430"
      ]
     },
     "execution_count": 87,
     "metadata": {},
     "output_type": "execute_result"
    }
   ],
   "source": [
    "dela = get_data_for_ela()\n",
    "len(dela.test_ds.y.items)"
   ]
  },
  {
   "cell_type": "code",
   "execution_count": 60,
   "metadata": {},
   "outputs": [
    {
     "name": "stdout",
     "output_type": "stream",
     "text": [
      "F1_score:  0.7995151962610598\n",
      "Accuracy:  0.8000477783086479\n",
      "[[1561  521]\n",
      " [ 316 1788]]\n"
     ]
    }
   ],
   "source": [
    "comb = get_ensemble(is_test = False)"
   ]
  },
  {
   "cell_type": "code",
   "execution_count": 88,
   "metadata": {},
   "outputs": [],
   "source": [
    "comb = get_ensemble(is_test = True)"
   ]
  },
  {
   "cell_type": "code",
   "execution_count": 89,
   "metadata": {},
   "outputs": [],
   "source": [
    "comb['confident'] = comb[[x+'|prob' for x in models_used_def]].idxmax(axis = 1)"
   ]
  },
  {
   "cell_type": "code",
   "execution_count": 90,
   "metadata": {},
   "outputs": [],
   "source": [
    "comb['label'] = comb.apply(lambda x : x[x['confident'].split('|')[0]], axis = 1)"
   ]
  },
  {
   "cell_type": "code",
   "execution_count": 93,
   "metadata": {},
   "outputs": [],
   "source": [
    "la = comb['label'].astype(int).values\n",
    "lals = [data.classes[x] for x in la]\n",
    "assert(len(data.test_dl.x.items) == len(lals))\n",
    "\n",
    "output_df = pd.DataFrame({'Filename':data.test_dl.x.items, 'Prediction': np.array(lals)})\n",
    "output_df['Filename'] = output_df['Filename'].apply(lambda x: str(x).split('/')[-1])\n",
    "\n",
    "output_df.to_csv('submission_ela_ens', index=False)"
   ]
  },
  {
   "cell_type": "code",
   "execution_count": 95,
   "metadata": {},
   "outputs": [
    {
     "data": {
      "text/plain": [
       "real    2800\n",
       "fake    2630\n",
       "Name: Prediction, dtype: int64"
      ]
     },
     "execution_count": 95,
     "metadata": {},
     "output_type": "execute_result"
    }
   ],
   "source": [
    "output_df.Prediction.value_counts()"
   ]
  },
  {
   "cell_type": "code",
   "execution_count": 63,
   "metadata": {},
   "outputs": [
    {
     "data": {
      "text/html": [
       "<div>\n",
       "<style scoped>\n",
       "    .dataframe tbody tr th:only-of-type {\n",
       "        vertical-align: middle;\n",
       "    }\n",
       "\n",
       "    .dataframe tbody tr th {\n",
       "        vertical-align: top;\n",
       "    }\n",
       "\n",
       "    .dataframe thead th {\n",
       "        text-align: right;\n",
       "    }\n",
       "</style>\n",
       "<table border=\"1\" class=\"dataframe\">\n",
       "  <thead>\n",
       "    <tr style=\"text-align: right;\">\n",
       "      <th></th>\n",
       "      <th>resnet50_trns_iter_2</th>\n",
       "      <th>resnet50_trns_iter_2fake</th>\n",
       "      <th>resnet50_trns_iter_2real</th>\n",
       "      <th>resnet50_trns_iter_2|prob</th>\n",
       "      <th>resnet34_ela_299_iter22</th>\n",
       "      <th>resnet34_ela_299_iter22fake</th>\n",
       "      <th>resnet34_ela_299_iter22real</th>\n",
       "      <th>resnet34_ela_299_iter22|prob</th>\n",
       "      <th>confident</th>\n",
       "      <th>label</th>\n",
       "    </tr>\n",
       "  </thead>\n",
       "  <tbody>\n",
       "    <tr>\n",
       "      <th>0</th>\n",
       "      <td>1</td>\n",
       "      <td>0.055228</td>\n",
       "      <td>0.944772</td>\n",
       "      <td>0.944772</td>\n",
       "      <td>1</td>\n",
       "      <td>0.416043</td>\n",
       "      <td>0.583957</td>\n",
       "      <td>0.583957</td>\n",
       "      <td>resnet50_trns_iter_2|prob</td>\n",
       "      <td>1</td>\n",
       "    </tr>\n",
       "    <tr>\n",
       "      <th>1</th>\n",
       "      <td>1</td>\n",
       "      <td>0.206869</td>\n",
       "      <td>0.793131</td>\n",
       "      <td>0.793131</td>\n",
       "      <td>1</td>\n",
       "      <td>0.497745</td>\n",
       "      <td>0.502255</td>\n",
       "      <td>0.502255</td>\n",
       "      <td>resnet50_trns_iter_2|prob</td>\n",
       "      <td>1</td>\n",
       "    </tr>\n",
       "    <tr>\n",
       "      <th>2</th>\n",
       "      <td>1</td>\n",
       "      <td>0.318592</td>\n",
       "      <td>0.681408</td>\n",
       "      <td>0.681408</td>\n",
       "      <td>1</td>\n",
       "      <td>0.322339</td>\n",
       "      <td>0.677661</td>\n",
       "      <td>0.677661</td>\n",
       "      <td>resnet50_trns_iter_2|prob</td>\n",
       "      <td>1</td>\n",
       "    </tr>\n",
       "    <tr>\n",
       "      <th>3</th>\n",
       "      <td>0</td>\n",
       "      <td>0.656912</td>\n",
       "      <td>0.343088</td>\n",
       "      <td>0.656912</td>\n",
       "      <td>1</td>\n",
       "      <td>0.429506</td>\n",
       "      <td>0.570494</td>\n",
       "      <td>0.570494</td>\n",
       "      <td>resnet50_trns_iter_2|prob</td>\n",
       "      <td>0</td>\n",
       "    </tr>\n",
       "    <tr>\n",
       "      <th>4</th>\n",
       "      <td>0</td>\n",
       "      <td>0.753644</td>\n",
       "      <td>0.246356</td>\n",
       "      <td>0.753644</td>\n",
       "      <td>1</td>\n",
       "      <td>0.450236</td>\n",
       "      <td>0.549764</td>\n",
       "      <td>0.549764</td>\n",
       "      <td>resnet50_trns_iter_2|prob</td>\n",
       "      <td>0</td>\n",
       "    </tr>\n",
       "  </tbody>\n",
       "</table>\n",
       "</div>"
      ],
      "text/plain": [
       "   resnet50_trns_iter_2  resnet50_trns_iter_2fake  resnet50_trns_iter_2real  \\\n",
       "0                     1                  0.055228                  0.944772   \n",
       "1                     1                  0.206869                  0.793131   \n",
       "2                     1                  0.318592                  0.681408   \n",
       "3                     0                  0.656912                  0.343088   \n",
       "4                     0                  0.753644                  0.246356   \n",
       "\n",
       "   resnet50_trns_iter_2|prob  resnet34_ela_299_iter22  \\\n",
       "0                   0.944772                        1   \n",
       "1                   0.793131                        1   \n",
       "2                   0.681408                        1   \n",
       "3                   0.656912                        1   \n",
       "4                   0.753644                        1   \n",
       "\n",
       "   resnet34_ela_299_iter22fake  resnet34_ela_299_iter22real  \\\n",
       "0                     0.416043                     0.583957   \n",
       "1                     0.497745                     0.502255   \n",
       "2                     0.322339                     0.677661   \n",
       "3                     0.429506                     0.570494   \n",
       "4                     0.450236                     0.549764   \n",
       "\n",
       "   resnet34_ela_299_iter22|prob                  confident  label  \n",
       "0                      0.583957  resnet50_trns_iter_2|prob      1  \n",
       "1                      0.502255  resnet50_trns_iter_2|prob      1  \n",
       "2                      0.677661  resnet50_trns_iter_2|prob      1  \n",
       "3                      0.570494  resnet50_trns_iter_2|prob      0  \n",
       "4                      0.549764  resnet50_trns_iter_2|prob      0  "
      ]
     },
     "execution_count": 63,
     "metadata": {},
     "output_type": "execute_result"
    }
   ],
   "source": [
    "comb.head()"
   ]
  },
  {
   "cell_type": "code",
   "execution_count": 64,
   "metadata": {},
   "outputs": [
    {
     "name": "stdout",
     "output_type": "stream",
     "text": [
      "F1_score:  0.8282291803995502\n",
      "Accuracy:  0.8284758719541329\n",
      "[[1649  433]\n",
      " [ 285 1819]]\n"
     ]
    }
   ],
   "source": [
    "get_metrics(data.valid_ds.y.items, comb.label.values)"
   ]
  },
  {
   "cell_type": "code",
   "execution_count": 55,
   "metadata": {},
   "outputs": [],
   "source": [
    "comb['average_fake'] = (comb['resnet50_trns_iter_2fake'] + comb['resnet34_ela_299_iter22fake']) / 2.0\n",
    "comb['average_real'] = (comb['resnet50_trns_iter_2real'] + comb['resnet34_ela_299_iter22real']) / 2.0"
   ]
  },
  {
   "cell_type": "code",
   "execution_count": 57,
   "metadata": {},
   "outputs": [
    {
     "data": {
      "text/html": [
       "<div>\n",
       "<style scoped>\n",
       "    .dataframe tbody tr th:only-of-type {\n",
       "        vertical-align: middle;\n",
       "    }\n",
       "\n",
       "    .dataframe tbody tr th {\n",
       "        vertical-align: top;\n",
       "    }\n",
       "\n",
       "    .dataframe thead th {\n",
       "        text-align: right;\n",
       "    }\n",
       "</style>\n",
       "<table border=\"1\" class=\"dataframe\">\n",
       "  <thead>\n",
       "    <tr style=\"text-align: right;\">\n",
       "      <th></th>\n",
       "      <th>resnet50_trns_iter_2</th>\n",
       "      <th>resnet50_trns_iter_2fake</th>\n",
       "      <th>resnet50_trns_iter_2real</th>\n",
       "      <th>resnet50_trns_iter_2|prob</th>\n",
       "      <th>resnet34_ela_299_iter22</th>\n",
       "      <th>resnet34_ela_299_iter22fake</th>\n",
       "      <th>resnet34_ela_299_iter22real</th>\n",
       "      <th>resnet34_ela_299_iter22|prob</th>\n",
       "      <th>confident</th>\n",
       "      <th>label</th>\n",
       "      <th>average_fake</th>\n",
       "      <th>average_real</th>\n",
       "      <th>label_avg</th>\n",
       "    </tr>\n",
       "  </thead>\n",
       "  <tbody>\n",
       "    <tr>\n",
       "      <th>0</th>\n",
       "      <td>1</td>\n",
       "      <td>0.055228</td>\n",
       "      <td>0.944772</td>\n",
       "      <td>0.944772</td>\n",
       "      <td>1</td>\n",
       "      <td>0.416043</td>\n",
       "      <td>0.583957</td>\n",
       "      <td>0.583957</td>\n",
       "      <td>resnet50_trns_iter_2|prob</td>\n",
       "      <td>1</td>\n",
       "      <td>0.235636</td>\n",
       "      <td>0.764364</td>\n",
       "      <td>1</td>\n",
       "    </tr>\n",
       "    <tr>\n",
       "      <th>1</th>\n",
       "      <td>1</td>\n",
       "      <td>0.206869</td>\n",
       "      <td>0.793131</td>\n",
       "      <td>0.793131</td>\n",
       "      <td>1</td>\n",
       "      <td>0.497745</td>\n",
       "      <td>0.502255</td>\n",
       "      <td>0.502255</td>\n",
       "      <td>resnet50_trns_iter_2|prob</td>\n",
       "      <td>1</td>\n",
       "      <td>0.352307</td>\n",
       "      <td>0.647693</td>\n",
       "      <td>1</td>\n",
       "    </tr>\n",
       "    <tr>\n",
       "      <th>2</th>\n",
       "      <td>1</td>\n",
       "      <td>0.318592</td>\n",
       "      <td>0.681408</td>\n",
       "      <td>0.681408</td>\n",
       "      <td>1</td>\n",
       "      <td>0.322339</td>\n",
       "      <td>0.677661</td>\n",
       "      <td>0.677661</td>\n",
       "      <td>resnet50_trns_iter_2|prob</td>\n",
       "      <td>1</td>\n",
       "      <td>0.320466</td>\n",
       "      <td>0.679534</td>\n",
       "      <td>1</td>\n",
       "    </tr>\n",
       "    <tr>\n",
       "      <th>3</th>\n",
       "      <td>0</td>\n",
       "      <td>0.656912</td>\n",
       "      <td>0.343088</td>\n",
       "      <td>0.656912</td>\n",
       "      <td>1</td>\n",
       "      <td>0.429506</td>\n",
       "      <td>0.570494</td>\n",
       "      <td>0.570494</td>\n",
       "      <td>resnet50_trns_iter_2|prob</td>\n",
       "      <td>0</td>\n",
       "      <td>0.543209</td>\n",
       "      <td>0.456791</td>\n",
       "      <td>0</td>\n",
       "    </tr>\n",
       "    <tr>\n",
       "      <th>4</th>\n",
       "      <td>0</td>\n",
       "      <td>0.753644</td>\n",
       "      <td>0.246356</td>\n",
       "      <td>0.753644</td>\n",
       "      <td>1</td>\n",
       "      <td>0.450236</td>\n",
       "      <td>0.549764</td>\n",
       "      <td>0.549764</td>\n",
       "      <td>resnet50_trns_iter_2|prob</td>\n",
       "      <td>0</td>\n",
       "      <td>0.601940</td>\n",
       "      <td>0.398060</td>\n",
       "      <td>0</td>\n",
       "    </tr>\n",
       "  </tbody>\n",
       "</table>\n",
       "</div>"
      ],
      "text/plain": [
       "   resnet50_trns_iter_2  resnet50_trns_iter_2fake  resnet50_trns_iter_2real  \\\n",
       "0                     1                  0.055228                  0.944772   \n",
       "1                     1                  0.206869                  0.793131   \n",
       "2                     1                  0.318592                  0.681408   \n",
       "3                     0                  0.656912                  0.343088   \n",
       "4                     0                  0.753644                  0.246356   \n",
       "\n",
       "   resnet50_trns_iter_2|prob  resnet34_ela_299_iter22  \\\n",
       "0                   0.944772                        1   \n",
       "1                   0.793131                        1   \n",
       "2                   0.681408                        1   \n",
       "3                   0.656912                        1   \n",
       "4                   0.753644                        1   \n",
       "\n",
       "   resnet34_ela_299_iter22fake  resnet34_ela_299_iter22real  \\\n",
       "0                     0.416043                     0.583957   \n",
       "1                     0.497745                     0.502255   \n",
       "2                     0.322339                     0.677661   \n",
       "3                     0.429506                     0.570494   \n",
       "4                     0.450236                     0.549764   \n",
       "\n",
       "   resnet34_ela_299_iter22|prob                  confident  label  \\\n",
       "0                      0.583957  resnet50_trns_iter_2|prob      1   \n",
       "1                      0.502255  resnet50_trns_iter_2|prob      1   \n",
       "2                      0.677661  resnet50_trns_iter_2|prob      1   \n",
       "3                      0.570494  resnet50_trns_iter_2|prob      0   \n",
       "4                      0.549764  resnet50_trns_iter_2|prob      0   \n",
       "\n",
       "   average_fake  average_real  label_avg  \n",
       "0      0.235636      0.764364          1  \n",
       "1      0.352307      0.647693          1  \n",
       "2      0.320466      0.679534          1  \n",
       "3      0.543209      0.456791          0  \n",
       "4      0.601940      0.398060          0  "
      ]
     },
     "execution_count": 57,
     "metadata": {},
     "output_type": "execute_result"
    }
   ],
   "source": [
    "comb.head()"
   ]
  },
  {
   "cell_type": "code",
   "execution_count": 56,
   "metadata": {},
   "outputs": [
    {
     "name": "stdout",
     "output_type": "stream",
     "text": [
      "F1_score:  0.8282291803995502\n",
      "Accuracy:  0.8284758719541329\n",
      "[[1649  433]\n",
      " [ 285 1819]]\n"
     ]
    }
   ],
   "source": [
    "comb['label_avg'] = comb[['average_fake','average_real']].idxmax(axis = 1)\n",
    "comb['label_avg'] = comb['label_avg'].map({'average_fake':0, 'average_real':1})\n",
    "get_metrics(data.valid_ds.y.items, comb.label_avg.values)"
   ]
  },
  {
   "cell_type": "code",
   "execution_count": 58,
   "metadata": {},
   "outputs": [],
   "source": [
    "comb.to_csv('first_cut_res.csv')"
   ]
  },
  {
   "cell_type": "code",
   "execution_count": null,
   "metadata": {},
   "outputs": [],
   "source": [
    "\n",
    "model_combined['confident'] = model_combined[[x+'|prob' for x in models_used_i]].idxmax(axis = 1)\n",
    "\n",
    "boo = model_combined[models_used_i].mode(axis=1)\n",
    "boonull = boo.isnull()\n",
    "for i,row in model_combined.iterrows():\n",
    "    if(boonull.loc[i,1]):\n",
    "        model_combined.loc[i,'label'] = boo.loc[i,0]\n",
    "    else:\n",
    "        model_combined.loc[i,'label'] = row[row['confident'].split('|')[0]]\n",
    "\n",
    "model_combined['label'] = model_combined.apply(lambda x : x[x['confident'].split('|')[0]], axis = 1)\n",
    "# model_combined['label'] = model_combined.apply(lambda x : x['resnet101_2_steps'] if (x['resnet101_2_stepsprob'] > x['resnet50_3_stepsprob']) else x['resnet50_3_steps'], axis = 1)\n",
    "model_combined['actuals_y'] = data.val_y\n",
    "model_combined['actual_labels'] = model_combined.apply(lambda x : data.classes[int(x['actuals_y'])], axis = 1)\n",
    "model_combined['predicted_labels'] = model_combined.apply(lambda x : data.classes[int(x['label'])], axis = 1)\n",
    "print(accuracy_score(model_combined.actual_labels.values, model_combined.predicted_labels.values))\n",
    "\n",
    "from sklearn.metrics import confusion_matrix, accuracy_score\n",
    "cm = confusion_matrix(model_combined.label.values, learn.data.val_y)\n",
    "print(accuracy_score(model_combined.label.values, learn.data.val_y))\n",
    "print(cm)\n",
    "\n",
    "model_combined.to_csv('result_temp.csv')\n",
    "\n",
    "testr = get_submission_file(learn, ensemble = True)\n",
    "\n",
    "testr[testr['image_id'] == 'ffd889f4b3138459e1203a4190286158a9aaea40.jpg']"
   ]
  },
  {
   "cell_type": "code",
   "execution_count": null,
   "metadata": {},
   "outputs": [],
   "source": [
    "interp = ClassificationInterpretation.from_learner(learn)\n",
    "\n",
    "losses,idxs = interp.top_losses()\n",
    "\n",
    "len(data.valid_ds)==len(losses)==len(idxs)"
   ]
  },
  {
   "cell_type": "code",
   "execution_count": null,
   "metadata": {},
   "outputs": [],
   "source": [
    "# Try other models as well from pretrained batch - better than resnet ones\n",
    "# Try their transformation variants\n",
    "# Progressive resizing of the best model till now"
   ]
  },
  {
   "cell_type": "code",
   "execution_count": null,
   "metadata": {},
   "outputs": [],
   "source": [
    "# Train individual networks with progressively increasing image sizes\n",
    "# Incrementally train larger networks with more image size and smaller batch size"
   ]
  },
  {
   "cell_type": "code",
   "execution_count": null,
   "metadata": {},
   "outputs": [],
   "source": []
  }
 ],
 "metadata": {
  "kernelspec": {
   "display_name": "Python 3",
   "language": "python",
   "name": "python3"
  },
  "language_info": {
   "codemirror_mode": {
    "name": "ipython",
    "version": 3
   },
   "file_extension": ".py",
   "mimetype": "text/x-python",
   "name": "python",
   "nbconvert_exporter": "python",
   "pygments_lexer": "ipython3",
   "version": "3.6.5"
  }
 },
 "nbformat": 4,
 "nbformat_minor": 2
}
