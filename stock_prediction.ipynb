{
 "cells": [
  {
   "cell_type": "code",
   "execution_count": 9,
   "metadata": {},
   "outputs": [],
   "source": [
    "import numpy as np\n",
    "import pandas as pd"
   ]
  },
  {
   "cell_type": "code",
   "execution_count": 10,
   "metadata": {},
   "outputs": [],
   "source": [
    "train = pd.read_csv('https://media-doselect.s3.amazonaws.com/generic/rONqp9gR3oaWE4pWP3WKedr1Z/train.csv')\n",
    "test = pd.read_csv('https://media-doselect.s3.amazonaws.com/generic/dO7Ag1214breGowW1JAOQVWZ/test.csv',header=None)"
   ]
  },
  {
   "cell_type": "code",
   "execution_count": 11,
   "metadata": {},
   "outputs": [
    {
     "data": {
      "text/html": [
       "<div>\n",
       "<style scoped>\n",
       "    .dataframe tbody tr th:only-of-type {\n",
       "        vertical-align: middle;\n",
       "    }\n",
       "\n",
       "    .dataframe tbody tr th {\n",
       "        vertical-align: top;\n",
       "    }\n",
       "\n",
       "    .dataframe thead th {\n",
       "        text-align: right;\n",
       "    }\n",
       "</style>\n",
       "<table border=\"1\" class=\"dataframe\">\n",
       "  <thead>\n",
       "    <tr style=\"text-align: right;\">\n",
       "      <th></th>\n",
       "      <th>Stock_price</th>\n",
       "    </tr>\n",
       "  </thead>\n",
       "  <tbody>\n",
       "    <tr>\n",
       "      <th>0</th>\n",
       "      <td>1455.219971</td>\n",
       "    </tr>\n",
       "    <tr>\n",
       "      <th>1</th>\n",
       "      <td>1399.420044</td>\n",
       "    </tr>\n",
       "    <tr>\n",
       "      <th>2</th>\n",
       "      <td>1402.109985</td>\n",
       "    </tr>\n",
       "    <tr>\n",
       "      <th>3</th>\n",
       "      <td>1403.449951</td>\n",
       "    </tr>\n",
       "    <tr>\n",
       "      <th>4</th>\n",
       "      <td>1441.469971</td>\n",
       "    </tr>\n",
       "  </tbody>\n",
       "</table>\n",
       "</div>"
      ],
      "text/plain": [
       "   Stock_price\n",
       "0  1455.219971\n",
       "1  1399.420044\n",
       "2  1402.109985\n",
       "3  1403.449951\n",
       "4  1441.469971"
      ]
     },
     "execution_count": 11,
     "metadata": {},
     "output_type": "execute_result"
    }
   ],
   "source": [
    "train.head()"
   ]
  },
  {
   "cell_type": "code",
   "execution_count": 12,
   "metadata": {},
   "outputs": [
    {
     "data": {
      "text/html": [
       "<div>\n",
       "<style scoped>\n",
       "    .dataframe tbody tr th:only-of-type {\n",
       "        vertical-align: middle;\n",
       "    }\n",
       "\n",
       "    .dataframe tbody tr th {\n",
       "        vertical-align: top;\n",
       "    }\n",
       "\n",
       "    .dataframe thead th {\n",
       "        text-align: right;\n",
       "    }\n",
       "</style>\n",
       "<table border=\"1\" class=\"dataframe\">\n",
       "  <thead>\n",
       "    <tr style=\"text-align: right;\">\n",
       "      <th></th>\n",
       "      <th>0</th>\n",
       "      <th>1</th>\n",
       "      <th>2</th>\n",
       "      <th>3</th>\n",
       "      <th>4</th>\n",
       "      <th>5</th>\n",
       "      <th>6</th>\n",
       "      <th>7</th>\n",
       "      <th>8</th>\n",
       "      <th>9</th>\n",
       "      <th>...</th>\n",
       "      <th>50</th>\n",
       "      <th>51</th>\n",
       "      <th>52</th>\n",
       "      <th>53</th>\n",
       "      <th>54</th>\n",
       "      <th>55</th>\n",
       "      <th>56</th>\n",
       "      <th>57</th>\n",
       "      <th>58</th>\n",
       "      <th>59</th>\n",
       "    </tr>\n",
       "  </thead>\n",
       "  <tbody>\n",
       "    <tr>\n",
       "      <th>0</th>\n",
       "      <td>0.537575</td>\n",
       "      <td>0.546623</td>\n",
       "      <td>0.558551</td>\n",
       "      <td>0.576343</td>\n",
       "      <td>0.599334</td>\n",
       "      <td>0.607099</td>\n",
       "      <td>0.593685</td>\n",
       "      <td>0.591434</td>\n",
       "      <td>0.551676</td>\n",
       "      <td>0.509813</td>\n",
       "      <td>...</td>\n",
       "      <td>0.606694</td>\n",
       "      <td>0.581182</td>\n",
       "      <td>0.575623</td>\n",
       "      <td>0.546083</td>\n",
       "      <td>0.542572</td>\n",
       "      <td>0.580698</td>\n",
       "      <td>0.583669</td>\n",
       "      <td>0.641928</td>\n",
       "      <td>0.639250</td>\n",
       "      <td>0.638912</td>\n",
       "    </tr>\n",
       "    <tr>\n",
       "      <th>1</th>\n",
       "      <td>0.546623</td>\n",
       "      <td>0.558551</td>\n",
       "      <td>0.576343</td>\n",
       "      <td>0.599334</td>\n",
       "      <td>0.607099</td>\n",
       "      <td>0.593685</td>\n",
       "      <td>0.591434</td>\n",
       "      <td>0.551676</td>\n",
       "      <td>0.509813</td>\n",
       "      <td>0.517544</td>\n",
       "      <td>...</td>\n",
       "      <td>0.581182</td>\n",
       "      <td>0.575623</td>\n",
       "      <td>0.546083</td>\n",
       "      <td>0.542572</td>\n",
       "      <td>0.580698</td>\n",
       "      <td>0.583669</td>\n",
       "      <td>0.641928</td>\n",
       "      <td>0.639250</td>\n",
       "      <td>0.638912</td>\n",
       "      <td>0.653316</td>\n",
       "    </tr>\n",
       "    <tr>\n",
       "      <th>2</th>\n",
       "      <td>0.558551</td>\n",
       "      <td>0.576343</td>\n",
       "      <td>0.599334</td>\n",
       "      <td>0.607099</td>\n",
       "      <td>0.593685</td>\n",
       "      <td>0.591434</td>\n",
       "      <td>0.551676</td>\n",
       "      <td>0.509813</td>\n",
       "      <td>0.517544</td>\n",
       "      <td>0.547388</td>\n",
       "      <td>...</td>\n",
       "      <td>0.575623</td>\n",
       "      <td>0.546083</td>\n",
       "      <td>0.542572</td>\n",
       "      <td>0.580698</td>\n",
       "      <td>0.583669</td>\n",
       "      <td>0.641928</td>\n",
       "      <td>0.639250</td>\n",
       "      <td>0.638912</td>\n",
       "      <td>0.653316</td>\n",
       "      <td>0.654881</td>\n",
       "    </tr>\n",
       "    <tr>\n",
       "      <th>3</th>\n",
       "      <td>0.576343</td>\n",
       "      <td>0.599334</td>\n",
       "      <td>0.607099</td>\n",
       "      <td>0.593685</td>\n",
       "      <td>0.591434</td>\n",
       "      <td>0.551676</td>\n",
       "      <td>0.509813</td>\n",
       "      <td>0.517544</td>\n",
       "      <td>0.547388</td>\n",
       "      <td>0.561376</td>\n",
       "      <td>...</td>\n",
       "      <td>0.546083</td>\n",
       "      <td>0.542572</td>\n",
       "      <td>0.580698</td>\n",
       "      <td>0.583669</td>\n",
       "      <td>0.641928</td>\n",
       "      <td>0.639250</td>\n",
       "      <td>0.638912</td>\n",
       "      <td>0.653316</td>\n",
       "      <td>0.654881</td>\n",
       "      <td>0.657739</td>\n",
       "    </tr>\n",
       "    <tr>\n",
       "      <th>4</th>\n",
       "      <td>0.599334</td>\n",
       "      <td>0.607099</td>\n",
       "      <td>0.593685</td>\n",
       "      <td>0.591434</td>\n",
       "      <td>0.551676</td>\n",
       "      <td>0.509813</td>\n",
       "      <td>0.517544</td>\n",
       "      <td>0.547388</td>\n",
       "      <td>0.561376</td>\n",
       "      <td>0.534008</td>\n",
       "      <td>...</td>\n",
       "      <td>0.542572</td>\n",
       "      <td>0.580698</td>\n",
       "      <td>0.583669</td>\n",
       "      <td>0.641928</td>\n",
       "      <td>0.639250</td>\n",
       "      <td>0.638912</td>\n",
       "      <td>0.653316</td>\n",
       "      <td>0.654881</td>\n",
       "      <td>0.657739</td>\n",
       "      <td>0.627737</td>\n",
       "    </tr>\n",
       "  </tbody>\n",
       "</table>\n",
       "<p>5 rows × 60 columns</p>\n",
       "</div>"
      ],
      "text/plain": [
       "         0         1         2         3         4         5         6   \\\n",
       "0  0.537575  0.546623  0.558551  0.576343  0.599334  0.607099  0.593685   \n",
       "1  0.546623  0.558551  0.576343  0.599334  0.607099  0.593685  0.591434   \n",
       "2  0.558551  0.576343  0.599334  0.607099  0.593685  0.591434  0.551676   \n",
       "3  0.576343  0.599334  0.607099  0.593685  0.591434  0.551676  0.509813   \n",
       "4  0.599334  0.607099  0.593685  0.591434  0.551676  0.509813  0.517544   \n",
       "\n",
       "         7         8         9     ...           50        51        52  \\\n",
       "0  0.591434  0.551676  0.509813    ...     0.606694  0.581182  0.575623   \n",
       "1  0.551676  0.509813  0.517544    ...     0.581182  0.575623  0.546083   \n",
       "2  0.509813  0.517544  0.547388    ...     0.575623  0.546083  0.542572   \n",
       "3  0.517544  0.547388  0.561376    ...     0.546083  0.542572  0.580698   \n",
       "4  0.547388  0.561376  0.534008    ...     0.542572  0.580698  0.583669   \n",
       "\n",
       "         53        54        55        56        57        58        59  \n",
       "0  0.546083  0.542572  0.580698  0.583669  0.641928  0.639250  0.638912  \n",
       "1  0.542572  0.580698  0.583669  0.641928  0.639250  0.638912  0.653316  \n",
       "2  0.580698  0.583669  0.641928  0.639250  0.638912  0.653316  0.654881  \n",
       "3  0.583669  0.641928  0.639250  0.638912  0.653316  0.654881  0.657739  \n",
       "4  0.641928  0.639250  0.638912  0.653316  0.654881  0.657739  0.627737  \n",
       "\n",
       "[5 rows x 60 columns]"
      ]
     },
     "execution_count": 12,
     "metadata": {},
     "output_type": "execute_result"
    }
   ],
   "source": [
    "test.head()"
   ]
  },
  {
   "cell_type": "code",
   "execution_count": 13,
   "metadata": {},
   "outputs": [],
   "source": [
    "from sklearn.preprocessing import MinMaxScaler\n",
    "sc = MinMaxScaler(feature_range = (0,1))\n",
    "train_scaled = sc.fit_transform(train)"
   ]
  },
  {
   "cell_type": "code",
   "execution_count": 14,
   "metadata": {},
   "outputs": [],
   "source": [
    "X_train = []\n",
    "y_train = []\n",
    "input_features = len(train)\n",
    "\n",
    "for i in range(60, input_features): \n",
    "    X_train.append(train_scaled[i-60:i, 0]) \n",
    "    y_train.append(train_scaled[i, 0]) \n",
    "X_train, y_train = np.array(X_train), np.array(y_train) \n",
    "#X_train.shape\n",
    "# Reshaping\n",
    "X_train = np.reshape(X_train, (X_train.shape[0], X_train.shape[1], 1))"
   ]
  },
  {
   "cell_type": "code",
   "execution_count": 15,
   "metadata": {},
   "outputs": [],
   "source": [
    "from keras.models import Sequential\n",
    "from keras.layers import Dense\n",
    "from keras.layers import LSTM\n",
    "from keras.layers import Dropout"
   ]
  },
  {
   "cell_type": "code",
   "execution_count": 16,
   "metadata": {},
   "outputs": [
    {
     "name": "stdout",
     "output_type": "stream",
     "text": [
      "Epoch 1/12\n",
      "2940/2940 [==============================] - 41s 14ms/step - loss: 0.0688 - mean_absolute_error: 0.2050 - acc: 0.0000e+00\n",
      "Epoch 2/12\n",
      "2940/2940 [==============================] - 39s 13ms/step - loss: 0.0410 - mean_absolute_error: 0.1630 - acc: 3.4014e-04\n",
      "Epoch 3/12\n",
      "2940/2940 [==============================] - 39s 13ms/step - loss: 0.0384 - mean_absolute_error: 0.1581 - acc: 3.4014e-04\n",
      "Epoch 4/12\n",
      "2940/2940 [==============================] - 39s 13ms/step - loss: 0.0360 - mean_absolute_error: 0.1532 - acc: 3.4014e-04\n",
      "Epoch 5/12\n",
      "2940/2940 [==============================] - 39s 13ms/step - loss: 0.0320 - mean_absolute_error: 0.1435 - acc: 6.8027e-04\n",
      "Epoch 6/12\n",
      "2940/2940 [==============================] - 39s 13ms/step - loss: 0.0278 - mean_absolute_error: 0.1336 - acc: 6.8027e-04\n",
      "Epoch 7/12\n",
      "2940/2940 [==============================] - 39s 13ms/step - loss: 0.0219 - mean_absolute_error: 0.1184 - acc: 6.8027e-04\n",
      "Epoch 8/12\n",
      "2940/2940 [==============================] - 39s 13ms/step - loss: 0.0154 - mean_absolute_error: 0.0984 - acc: 6.8027e-04\n",
      "Epoch 9/12\n",
      "2940/2940 [==============================] - 39s 13ms/step - loss: 0.0096 - mean_absolute_error: 0.0755 - acc: 6.8027e-04\n",
      "Epoch 10/12\n",
      "2940/2940 [==============================] - 39s 13ms/step - loss: 0.0064 - mean_absolute_error: 0.0600 - acc: 6.8027e-04\n",
      "Epoch 11/12\n",
      "2940/2940 [==============================] - 38s 13ms/step - loss: 0.0053 - mean_absolute_error: 0.0540 - acc: 6.8027e-04\n",
      "Epoch 12/12\n",
      "2940/2940 [==============================] - 39s 13ms/step - loss: 0.0050 - mean_absolute_error: 0.0542 - acc: 6.8027e-04\n"
     ]
    },
    {
     "data": {
      "text/plain": [
       "<keras.callbacks.History at 0x7fbd0c636cd0>"
      ]
     },
     "execution_count": 16,
     "metadata": {},
     "output_type": "execute_result"
    }
   ],
   "source": [
    "# Initialising the RNN\n",
    "model = Sequential()\n",
    "\n",
    "# Adding the first LSTM layer and some Dropout regularisation\n",
    "model.add(LSTM(units = 50, return_sequences = True, input_shape = (X_train.shape[1], 1)))\n",
    "model.add(Dropout(0.2))\n",
    "\n",
    "# Adding a second LSTM layer and some Dropout regularisation\n",
    "model.add(LSTM(units = 50, return_sequences = True))\n",
    "model.add(Dropout(0.2))\n",
    "\n",
    "# Adding a third LSTM layer and some Dropout regularisation\n",
    "model.add(LSTM(units = 50, return_sequences = True))\n",
    "model.add(Dropout(0.2))\n",
    "\n",
    "# Adding a fourth LSTM layer and some Dropout regularisation\n",
    "model.add(LSTM(units = 50))\n",
    "model.add(Dropout(0.2))\n",
    "\n",
    "# Adding the output layer\n",
    "model.add(Dense(units = 1))\n",
    "\n",
    "# Compiling the RNN\n",
    "model.compile(loss = 'mean_squared_error', optimizer='sgd', metrics=['mae', 'acc'])\n",
    "\n",
    "# Fitting the RNN to the Training set\n",
    "model.fit(X_train, y_train, epochs = 12, batch_size = 32)"
   ]
  },
  {
   "cell_type": "code",
   "execution_count": 17,
   "metadata": {},
   "outputs": [],
   "source": [
    "X_test = np.array(test)\n",
    "X_test = np.reshape(X_test, (X_test.shape[0], X_test.shape[1], 1))"
   ]
  },
  {
   "cell_type": "code",
   "execution_count": 18,
   "metadata": {},
   "outputs": [],
   "source": [
    "y_pred = model.predict(X_test)"
   ]
  },
  {
   "cell_type": "code",
   "execution_count": 19,
   "metadata": {},
   "outputs": [],
   "source": [
    "#y_pred"
   ]
  },
  {
   "cell_type": "code",
   "execution_count": 20,
   "metadata": {},
   "outputs": [],
   "source": [
    "pred_df = pd.DataFrame(y_pred, columns=['predictions'])"
   ]
  },
  {
   "cell_type": "code",
   "execution_count": 21,
   "metadata": {},
   "outputs": [
    {
     "data": {
      "text/html": [
       "<div>\n",
       "<style scoped>\n",
       "    .dataframe tbody tr th:only-of-type {\n",
       "        vertical-align: middle;\n",
       "    }\n",
       "\n",
       "    .dataframe tbody tr th {\n",
       "        vertical-align: top;\n",
       "    }\n",
       "\n",
       "    .dataframe thead th {\n",
       "        text-align: right;\n",
       "    }\n",
       "</style>\n",
       "<table border=\"1\" class=\"dataframe\">\n",
       "  <thead>\n",
       "    <tr style=\"text-align: right;\">\n",
       "      <th></th>\n",
       "      <th>predictions</th>\n",
       "    </tr>\n",
       "  </thead>\n",
       "  <tbody>\n",
       "    <tr>\n",
       "      <th>0</th>\n",
       "      <td>0.620271</td>\n",
       "    </tr>\n",
       "    <tr>\n",
       "      <th>1</th>\n",
       "      <td>0.618482</td>\n",
       "    </tr>\n",
       "    <tr>\n",
       "      <th>2</th>\n",
       "      <td>0.617003</td>\n",
       "    </tr>\n",
       "    <tr>\n",
       "      <th>3</th>\n",
       "      <td>0.615926</td>\n",
       "    </tr>\n",
       "    <tr>\n",
       "      <th>4</th>\n",
       "      <td>0.615257</td>\n",
       "    </tr>\n",
       "  </tbody>\n",
       "</table>\n",
       "</div>"
      ],
      "text/plain": [
       "   predictions\n",
       "0     0.620271\n",
       "1     0.618482\n",
       "2     0.617003\n",
       "3     0.615926\n",
       "4     0.615257"
      ]
     },
     "execution_count": 21,
     "metadata": {},
     "output_type": "execute_result"
    }
   ],
   "source": [
    "pred_df.head()"
   ]
  },
  {
   "cell_type": "code",
   "execution_count": 22,
   "metadata": {},
   "outputs": [],
   "source": [
    "pred_df.to_csv('/home/user/workspace/predictions.csv')"
   ]
  },
  {
   "cell_type": "code",
   "execution_count": null,
   "metadata": {},
   "outputs": [],
   "source": []
  }
 ],
 "metadata": {
  "kernelspec": {
   "display_name": "Python 2",
   "language": "python",
   "name": "python2"
  },
  "language_info": {
   "codemirror_mode": {
    "name": "ipython",
    "version": 2
   },
   "file_extension": ".py",
   "mimetype": "text/x-python",
   "name": "python",
   "nbconvert_exporter": "python",
   "pygments_lexer": "ipython2",
   "version": "2.7.12"
  }
 },
 "nbformat": 4,
 "nbformat_minor": 2
}
